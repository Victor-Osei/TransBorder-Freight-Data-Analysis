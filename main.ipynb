{
 "cells": [
  {
   "cell_type": "code",
   "execution_count": 6,
   "metadata": {},
   "outputs": [
    {
     "name": "stdout",
     "output_type": "stream",
     "text": [
      "Loading packages...Successful.\n"
     ]
    }
   ],
   "source": [
    "# Loading the packages I will need:\n",
    "\n",
    "print(\"Loading packages...\", end = '')\n",
    "\n",
    "import numpy as np\n",
    "from pyunpack import Archive \n",
    "import pandas as pd \n",
    "import missingno as msno\n",
    "import os\n",
    "import seaborn as sns\n",
    "import matplotlib.pyplot as plt\n",
    "from sklearn.model_selection import train_test_split\n",
    "from sklearn.ensemble import RandomForestRegressor\n",
    "from sklearn.metrics import mean_squared_error \n",
    "\n",
    "import zipfile\n",
    "import shutil  # For handling directories\n",
    "\n",
    "\n",
    "print(\"Successful.\")"
   ]
  },
  {
   "cell_type": "code",
   "execution_count": 7,
   "metadata": {},
   "outputs": [
    {
     "name": "stdout",
     "output_type": "stream",
     "text": [
      "Processing year folder: 2020\n",
      "Extracting: April2020TransBorderRawData.zip\n",
      "Extracted files: ['Apr 2020']\n",
      "Extracting: August2020TransBorderRawData.zip\n",
      "Extracted files: ['August2020TransBorderRawData']\n",
      "Extracting: February2020TransBorderRawData.zip\n",
      "Extracted files: ['Feb 2020']\n",
      "Extracting: January2020TransBorderRawData.zip\n",
      "Extracted files: ['Jan 2020']\n",
      "Extracting: July2020TransBorderRawData.zip\n",
      "Extracted files: ['dot1_0720.csv', 'dot1_ytd_0720.csv', 'dot2_0720.csv', 'dot2_ytd_0720.csv', 'dot3_0720.csv', 'dot3_ytd_0720.csv', '__MACOSX']\n",
      "Reading CSV file: dot1_0720.csv\n",
      "Reading CSV file: dot1_ytd_0720.csv\n",
      "Reading CSV file: dot2_0720.csv\n"
     ]
    },
    {
     "name": "stderr",
     "output_type": "stream",
     "text": [
      "C:\\Users\\DELL\\AppData\\Local\\Temp\\ipykernel_15088\\1280360659.py:37: DtypeWarning: Columns (4,11) have mixed types. Specify dtype option on import or set low_memory=False.\n",
      "  df = pd.read_csv(extracted_file_path)\n"
     ]
    },
    {
     "name": "stdout",
     "output_type": "stream",
     "text": [
      "Reading CSV file: dot2_ytd_0720.csv\n",
      "Reading CSV file: dot3_0720.csv\n",
      "Reading CSV file: dot3_ytd_0720.csv\n",
      "Extracting: June2020TransBorderRawData.zip\n",
      "Extracted files: ['dot1_0620.csv', 'dot1_ytd_0620.csv', 'dot2_0620.csv', 'dot2_ytd_0620.csv', 'dot3_0620.csv', 'dot3_ytd_0620.csv']\n",
      "Reading CSV file: dot1_0620.csv\n",
      "Reading CSV file: dot1_ytd_0620.csv\n",
      "Reading CSV file: dot2_0620.csv\n",
      "Reading CSV file: dot2_ytd_0620.csv\n"
     ]
    },
    {
     "name": "stderr",
     "output_type": "stream",
     "text": [
      "C:\\Users\\DELL\\AppData\\Local\\Temp\\ipykernel_15088\\1280360659.py:37: DtypeWarning: Columns (4,11) have mixed types. Specify dtype option on import or set low_memory=False.\n",
      "  df = pd.read_csv(extracted_file_path)\n"
     ]
    },
    {
     "name": "stdout",
     "output_type": "stream",
     "text": [
      "Reading CSV file: dot3_0620.csv\n",
      "Reading CSV file: dot3_ytd_0620.csv\n",
      "Extracting: March2020TransBorderRawData.zip\n",
      "Extracted files: ['Mar 2020']\n",
      "Extracting: May2020TransBorderRawData.zip\n",
      "Extracted files: ['May 2020']\n",
      "Extracting: September2020TransBorderRawData.zip\n",
      "Extracted files: ['September2020TransBorderRawData']\n",
      "Processing year folder: 2021\n",
      "Extracting: April2021TransBorderRawData.zip\n",
      "Extracted files: ['April2021TransBorderRawData']\n",
      "Extracting: February2021TransBorderRawData.zip\n",
      "Extracted files: ['February2021TransBorderRawData']\n",
      "Extracting: January2021TransBorderRawData.zip\n",
      "Extracted files: ['January2021TransBorderRawData']\n",
      "Extracting: July-to-Dec-2021.zip\n",
      "Extracted files: ['New folder']\n",
      "Extracting: July2021TransBorderRawData.zip\n",
      "Extracted files: ['July2021TransBorderRawData']\n",
      "Extracting: June2021TransBorderRawData.zip\n",
      "Extracted files: ['June2021TransBorderRawData']\n",
      "Extracting: March2021TransBorderRawData.zip\n",
      "Extracted files: ['March2021TransBorderRawData']\n",
      "Extracting: May2021TransBorderRawData.zip\n",
      "Extracted files: ['May2021TransBorderRawData']\n",
      "Processing year folder: 2022\n",
      "Extracting: April2022.zip\n",
      "Extracted files: ['April2022']\n",
      "Extracting: August2022.zip\n",
      "Extracted files: ['August 2022']\n",
      "Extracting: December2022.zip\n",
      "Extracted files: ['December2022']\n",
      "Extracting: Feb-2022.zip\n",
      "Extracted files: ['Feb-2022']\n",
      "Extracting: Jan-2022.zip\n",
      "Extracted files: ['Jan-2022']\n",
      "Extracting: July2022.zip\n",
      "Extracted files: ['July2022']\n",
      "Extracting: June2022.zip\n",
      "Extracted files: ['June2022']\n",
      "Extracting: March-2022.zip\n",
      "Extracted files: ['March 2022']\n",
      "Extracting: May2022.zip\n",
      "Extracted files: ['May2022']\n",
      "Extracting: November2022.zip\n",
      "Extracted files: ['November2022']\n",
      "Extracting: October2022.zip\n",
      "Extracted files: ['October2022']\n",
      "Extracting: September2022.zip\n",
      "Extracted files: ['September 2022']\n",
      "Processing year folder: 2023\n",
      "Extracting: April2023.zip\n",
      "Extracted files: ['April2023']\n",
      "Extracting: Aug2023.zip\n",
      "Extracted files: ['Aug2023']\n",
      "Extracting: December2023.zip\n",
      "Extracted files: ['dot1_1223.csv', 'dot2_1223.csv', 'dot3_1223.csv']\n",
      "Reading CSV file: dot1_1223.csv\n",
      "Reading CSV file: dot2_1223.csv\n"
     ]
    },
    {
     "name": "stderr",
     "output_type": "stream",
     "text": [
      "C:\\Users\\DELL\\AppData\\Local\\Temp\\ipykernel_15088\\1280360659.py:37: DtypeWarning: Columns (4,11) have mixed types. Specify dtype option on import or set low_memory=False.\n",
      "  df = pd.read_csv(extracted_file_path)\n"
     ]
    },
    {
     "name": "stdout",
     "output_type": "stream",
     "text": [
      "Reading CSV file: dot3_1223.csv\n",
      "Extracting: Feb2023.zip\n",
      "Extracted files: ['Feb2023']\n",
      "Extracting: Jan2023.zip\n",
      "Extracted files: ['Jan2023']\n",
      "Extracting: July2023.zip\n",
      "Extracted files: ['July2023']\n",
      "Extracting: June2023.zip\n",
      "Extracted files: ['June2023']\n",
      "Extracting: March2023.zip\n",
      "Extracted files: ['March2023']\n",
      "Extracting: May2023.zip\n",
      "Extracted files: ['May2023']\n",
      "Extracting: Nov2023.zip\n",
      "Extracted files: ['Nov2023']\n",
      "Extracting: Oct2023.zip\n",
      "Extracted files: ['Oct2023']\n",
      "Extracting: sept2023.zip\n",
      "Extracted files: ['sept2023']\n",
      "Processing year folder: 2024\n",
      "Extracting: April2024.zip\n",
      "Extracted files: ['April2024']\n",
      "Extracting: August2024.zip\n",
      "Extracted files: ['dot1_0824.csv', 'dot2_0824.csv', 'dot3_0824.csv']\n",
      "Reading CSV file: dot1_0824.csv\n",
      "Reading CSV file: dot2_0824.csv\n"
     ]
    },
    {
     "name": "stderr",
     "output_type": "stream",
     "text": [
      "C:\\Users\\DELL\\AppData\\Local\\Temp\\ipykernel_15088\\1280360659.py:37: DtypeWarning: Columns (4,11) have mixed types. Specify dtype option on import or set low_memory=False.\n",
      "  df = pd.read_csv(extracted_file_path)\n"
     ]
    },
    {
     "name": "stdout",
     "output_type": "stream",
     "text": [
      "Reading CSV file: dot3_0824.csv\n",
      "Extracting: Feb2024.zip\n",
      "Extracted files: ['Feb2024']\n",
      "Extracting: Jan2024.zip\n",
      "Extracted files: ['Jan2024']\n",
      "Extracting: July2024.zip\n",
      "Extracted files: ['July2024']\n",
      "Extracting: June2024.zip\n",
      "Extracted files: ['June2024']\n",
      "Extracting: March2024.zip\n",
      "Extracted files: ['March2024']\n",
      "Extracting: May2024.zip\n",
      "Extracted files: ['May2024']\n",
      "Extracting: september2024.zip\n",
      "Extracted files: ['dot1_0924.csv', 'dot2_0924.csv', 'dot3_0924.csv']\n",
      "Reading CSV file: dot1_0924.csv\n",
      "Reading CSV file: dot2_0924.csv\n"
     ]
    },
    {
     "name": "stderr",
     "output_type": "stream",
     "text": [
      "C:\\Users\\DELL\\AppData\\Local\\Temp\\ipykernel_15088\\1280360659.py:37: DtypeWarning: Columns (4,11) have mixed types. Specify dtype option on import or set low_memory=False.\n",
      "  df = pd.read_csv(extracted_file_path)\n"
     ]
    },
    {
     "name": "stdout",
     "output_type": "stream",
     "text": [
      "Reading CSV file: dot3_0924.csv\n",
      "Combined data saved as combined_data.csv\n"
     ]
    }
   ],
   "source": [
    "# Paths\n",
    "main_dir = \"data\"  # Main directory containing year folders\n",
    "output_dir = \"./temp_extracted_files\"  # Temporary directory for extracted files\n",
    "\n",
    "# Ensure the output directory exists\n",
    "os.makedirs(output_dir, exist_ok=True)\n",
    "\n",
    "# List to store dataframes\n",
    "dataframes = []\n",
    "\n",
    "# Iterate over year folders\n",
    "for year in os.listdir(main_dir):\n",
    "    year_path = os.path.join(main_dir, year)\n",
    "    if os.path.isdir(year_path):  # Ensure it's a folder\n",
    "        print(f\"Processing year folder: {year}\")\n",
    "        \n",
    "        # Process each .zip file within the year folder\n",
    "        for month_zip in os.listdir(year_path):\n",
    "            month_zip_path = os.path.join(year_path, month_zip)\n",
    "            \n",
    "            if month_zip.endswith(\".zip\"):\n",
    "                print(f\"Extracting: {month_zip}\")\n",
    "                # Extract the .zip file\n",
    "                with zipfile.ZipFile(month_zip_path, 'r') as zip_ref:\n",
    "                    zip_ref.extractall(output_dir)\n",
    "                \n",
    "                # Process the extracted files\n",
    "                extracted_files = os.listdir(output_dir)\n",
    "                print(f\"Extracted files: {extracted_files}\")\n",
    "                \n",
    "                for extracted_file in extracted_files:\n",
    "                    extracted_file_path = os.path.join(output_dir, extracted_file)\n",
    "                    \n",
    "                    # Check for .csv and .xlsx files\n",
    "                    if extracted_file.endswith(\".csv\"):\n",
    "                        print(f\"Reading CSV file: {extracted_file}\")\n",
    "                        df = pd.read_csv(extracted_file_path)\n",
    "                        df['Year'] = year  # Add a column for the year\n",
    "                        dataframes.append(df)\n",
    "                    \n",
    "                    elif extracted_file.endswith((\".xlsx\", \".xls\")):\n",
    "                        print(f\"Reading Excel file: {extracted_file}\")\n",
    "                        df = pd.read_excel(extracted_file_path)\n",
    "                        df['Year'] = year  # Add a column for the year\n",
    "                        dataframes.append(df)\n",
    "                \n",
    "                # Clean up the temporary directory\n",
    "                for temp_file in extracted_files:\n",
    "                    temp_file_path = os.path.join(output_dir, temp_file)\n",
    "                    if os.path.isfile(temp_file_path):\n",
    "                        os.remove(temp_file_path)  # Remove files\n",
    "                    elif os.path.isdir(temp_file_path):\n",
    "                        shutil.rmtree(temp_file_path)  # Remove directories\n",
    "\n",
    "# Combine dataframes\n",
    "if dataframes:\n",
    "    combined_df = pd.concat(dataframes, ignore_index=True)\n",
    "    combined_file = \"combined_data.csv\"\n",
    "    combined_df.to_csv(combined_file, index=False)\n",
    "    print(f\"Combined data saved as {combined_file}\")\n",
    "else:\n",
    "    print(\"No valid files found to combine.\")\n",
    "\n",
    "\n"
   ]
  },
  {
   "cell_type": "code",
   "execution_count": null,
   "metadata": {},
   "outputs": [],
   "source": []
  },
  {
   "cell_type": "code",
   "execution_count": null,
   "metadata": {},
   "outputs": [],
   "source": []
  },
  {
   "cell_type": "code",
   "execution_count": null,
   "metadata": {},
   "outputs": [],
   "source": []
  }
 ],
 "metadata": {
  "kernelspec": {
   "display_name": "transBF",
   "language": "python",
   "name": "python3"
  },
  "language_info": {
   "codemirror_mode": {
    "name": "ipython",
    "version": 3
   },
   "file_extension": ".py",
   "mimetype": "text/x-python",
   "name": "python",
   "nbconvert_exporter": "python",
   "pygments_lexer": "ipython3",
   "version": "3.10.11"
  }
 },
 "nbformat": 4,
 "nbformat_minor": 2
}
