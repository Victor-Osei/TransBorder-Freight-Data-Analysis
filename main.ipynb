{
 "cells": [
  {
   "cell_type": "markdown",
   "metadata": {},
   "source": [
    "## Data Preparation\n",
    "\n",
    "### Data Preporocessing\n"
   ]
  },
  {
   "cell_type": "code",
   "execution_count": null,
   "metadata": {},
   "outputs": [
    {
     "name": "stdout",
     "output_type": "stream",
     "text": [
      "Loading packages...Successful.\n"
     ]
    }
   ],
   "source": [
    "# Loading the packages I will need:\n",
    "\n",
    "print(\"Loading packages...\", end = '')\n",
    "\n",
    "import numpy as np\n",
    "from pyunpack import Archive \n",
    "import pandas as pd \n",
    "import missingno as msno\n",
    "import os\n",
    "import seaborn as sns\n",
    "import matplotlib.pyplot as plt\n",
    "from sklearn.model_selection import train_test_split\n",
    "from sklearn.ensemble import RandomForestRegressor\n",
    "from sklearn.metrics import mean_squared_error \n",
    "\n",
    "import zipfile\n",
    "import shutil  # For handling directories\n",
    "\n",
    "\n",
    "print(\"Successful.\")"
   ]
  },
  {
   "cell_type": "code",
   "execution_count": null,
   "metadata": {},
   "outputs": [],
   "source": []
  },
  {
   "cell_type": "code",
   "execution_count": 46,
   "metadata": {},
   "outputs": [
    {
     "name": "stdout",
     "output_type": "stream",
     "text": [
      "Processing year folder: 2020\n",
      "Extracting: April2020TransBorderRawData.zip\n",
      "Extracted files: ['Apr 2020']\n",
      "Extracting: August2020TransBorderRawData.zip\n",
      "Extracted files: ['August2020TransBorderRawData']\n",
      "Extracting: February2020TransBorderRawData.zip\n",
      "Extracted files: ['Feb 2020']\n",
      "Extracting: January2020TransBorderRawData.zip\n",
      "Extracted files: ['Jan 2020']\n",
      "Extracting: July2020TransBorderRawData.zip\n",
      "Extracted files: ['dot1_0720.csv', 'dot1_ytd_0720.csv', 'dot2_0720.csv', 'dot2_ytd_0720.csv', 'dot3_0720.csv', 'dot3_ytd_0720.csv', '__MACOSX']\n",
      "Reading CSV file: dot1_0720.csv\n",
      "Reading CSV file: dot1_ytd_0720.csv\n",
      "Reading CSV file: dot2_0720.csv\n"
     ]
    },
    {
     "name": "stderr",
     "output_type": "stream",
     "text": [
      "C:\\Users\\DELL\\AppData\\Local\\Temp\\ipykernel_15088\\3697420720.py:37: DtypeWarning: Columns (4,11) have mixed types. Specify dtype option on import or set low_memory=False.\n",
      "  df = pd.read_csv(extracted_file_path)\n"
     ]
    },
    {
     "name": "stdout",
     "output_type": "stream",
     "text": [
      "Reading CSV file: dot2_ytd_0720.csv\n",
      "Reading CSV file: dot3_0720.csv\n",
      "Reading CSV file: dot3_ytd_0720.csv\n",
      "Extracting: June2020TransBorderRawData.zip\n",
      "Extracted files: ['dot1_0620.csv', 'dot1_ytd_0620.csv', 'dot2_0620.csv', 'dot2_ytd_0620.csv', 'dot3_0620.csv', 'dot3_ytd_0620.csv']\n",
      "Reading CSV file: dot1_0620.csv\n",
      "Reading CSV file: dot1_ytd_0620.csv\n",
      "Reading CSV file: dot2_0620.csv\n",
      "Reading CSV file: dot2_ytd_0620.csv\n"
     ]
    },
    {
     "name": "stderr",
     "output_type": "stream",
     "text": [
      "C:\\Users\\DELL\\AppData\\Local\\Temp\\ipykernel_15088\\3697420720.py:37: DtypeWarning: Columns (4,11) have mixed types. Specify dtype option on import or set low_memory=False.\n",
      "  df = pd.read_csv(extracted_file_path)\n"
     ]
    },
    {
     "name": "stdout",
     "output_type": "stream",
     "text": [
      "Reading CSV file: dot3_0620.csv\n",
      "Reading CSV file: dot3_ytd_0620.csv\n",
      "Extracting: March2020TransBorderRawData.zip\n",
      "Extracted files: ['Mar 2020']\n",
      "Extracting: May2020TransBorderRawData.zip\n",
      "Extracted files: ['May 2020']\n",
      "Extracting: September2020TransBorderRawData.zip\n",
      "Extracted files: ['September2020TransBorderRawData']\n",
      "Processing year folder: 2021\n",
      "Extracting: April2021TransBorderRawData.zip\n",
      "Extracted files: ['April2021TransBorderRawData']\n",
      "Extracting: February2021TransBorderRawData.zip\n",
      "Extracted files: ['February2021TransBorderRawData']\n",
      "Extracting: January2021TransBorderRawData.zip\n",
      "Extracted files: ['January2021TransBorderRawData']\n",
      "Extracting: July-to-Dec-2021.zip\n",
      "Extracted files: ['New folder']\n",
      "Extracting: July2021TransBorderRawData.zip\n",
      "Extracted files: ['July2021TransBorderRawData']\n",
      "Extracting: June2021TransBorderRawData.zip\n",
      "Extracted files: ['June2021TransBorderRawData']\n",
      "Extracting: March2021TransBorderRawData.zip\n",
      "Extracted files: ['March2021TransBorderRawData']\n",
      "Extracting: May2021TransBorderRawData.zip\n",
      "Extracted files: ['May2021TransBorderRawData']\n",
      "Processing year folder: 2022\n",
      "Extracting: April2022.zip\n",
      "Extracted files: ['April2022']\n",
      "Extracting: August2022.zip\n",
      "Extracted files: ['August 2022']\n",
      "Extracting: December2022.zip\n",
      "Extracted files: ['December2022']\n",
      "Extracting: Feb-2022.zip\n",
      "Extracted files: ['Feb-2022']\n",
      "Extracting: Jan-2022.zip\n",
      "Extracted files: ['Jan-2022']\n",
      "Extracting: July2022.zip\n",
      "Extracted files: ['July2022']\n",
      "Extracting: June2022.zip\n",
      "Extracted files: ['June2022']\n",
      "Extracting: March-2022.zip\n",
      "Extracted files: ['March 2022']\n",
      "Extracting: May2022.zip\n",
      "Extracted files: ['May2022']\n",
      "Extracting: November2022.zip\n",
      "Extracted files: ['November2022']\n",
      "Extracting: October2022.zip\n",
      "Extracted files: ['October2022']\n",
      "Extracting: September2022.zip\n",
      "Extracted files: ['September 2022']\n",
      "Processing year folder: 2023\n",
      "Extracting: April2023.zip\n",
      "Extracted files: ['April2023']\n",
      "Extracting: Aug2023.zip\n",
      "Extracted files: ['Aug2023']\n",
      "Extracting: December2023.zip\n",
      "Extracted files: ['dot1_1223.csv', 'dot2_1223.csv', 'dot3_1223.csv']\n",
      "Reading CSV file: dot1_1223.csv\n",
      "Reading CSV file: dot2_1223.csv\n"
     ]
    },
    {
     "name": "stderr",
     "output_type": "stream",
     "text": [
      "C:\\Users\\DELL\\AppData\\Local\\Temp\\ipykernel_15088\\3697420720.py:37: DtypeWarning: Columns (4,11) have mixed types. Specify dtype option on import or set low_memory=False.\n",
      "  df = pd.read_csv(extracted_file_path)\n"
     ]
    },
    {
     "name": "stdout",
     "output_type": "stream",
     "text": [
      "Reading CSV file: dot3_1223.csv\n",
      "Extracting: Feb2023.zip\n",
      "Extracted files: ['Feb2023']\n",
      "Extracting: Jan2023.zip\n",
      "Extracted files: ['Jan2023']\n",
      "Extracting: July2023.zip\n",
      "Extracted files: ['July2023']\n",
      "Extracting: June2023.zip\n",
      "Extracted files: ['June2023']\n",
      "Extracting: March2023.zip\n",
      "Extracted files: ['March2023']\n",
      "Extracting: May2023.zip\n",
      "Extracted files: ['May2023']\n",
      "Extracting: Nov2023.zip\n",
      "Extracted files: ['Nov2023']\n",
      "Extracting: Oct2023.zip\n",
      "Extracted files: ['Oct2023']\n",
      "Extracting: sept2023.zip\n",
      "Extracted files: ['sept2023']\n",
      "Processing year folder: 2024\n",
      "Extracting: April2024.zip\n",
      "Extracted files: ['April2024']\n",
      "Extracting: August2024.zip\n",
      "Extracted files: ['dot1_0824.csv', 'dot2_0824.csv', 'dot3_0824.csv']\n",
      "Reading CSV file: dot1_0824.csv\n",
      "Reading CSV file: dot2_0824.csv\n"
     ]
    },
    {
     "name": "stderr",
     "output_type": "stream",
     "text": [
      "C:\\Users\\DELL\\AppData\\Local\\Temp\\ipykernel_15088\\3697420720.py:37: DtypeWarning: Columns (4,11) have mixed types. Specify dtype option on import or set low_memory=False.\n",
      "  df = pd.read_csv(extracted_file_path)\n"
     ]
    },
    {
     "name": "stdout",
     "output_type": "stream",
     "text": [
      "Reading CSV file: dot3_0824.csv\n",
      "Extracting: Feb2024.zip\n",
      "Extracted files: ['Feb2024']\n",
      "Extracting: Jan2024.zip\n",
      "Extracted files: ['Jan2024']\n",
      "Extracting: July2024.zip\n",
      "Extracted files: ['July2024']\n",
      "Extracting: June2024.zip\n",
      "Extracted files: ['June2024']\n",
      "Extracting: March2024.zip\n",
      "Extracted files: ['March2024']\n",
      "Extracting: May2024.zip\n",
      "Extracted files: ['May2024']\n",
      "Extracting: september2024.zip\n",
      "Extracted files: ['dot1_0924.csv', 'dot2_0924.csv', 'dot3_0924.csv']\n",
      "Reading CSV file: dot1_0924.csv\n",
      "Reading CSV file: dot2_0924.csv\n"
     ]
    },
    {
     "name": "stderr",
     "output_type": "stream",
     "text": [
      "C:\\Users\\DELL\\AppData\\Local\\Temp\\ipykernel_15088\\3697420720.py:37: DtypeWarning: Columns (4,11) have mixed types. Specify dtype option on import or set low_memory=False.\n",
      "  df = pd.read_csv(extracted_file_path)\n"
     ]
    },
    {
     "name": "stdout",
     "output_type": "stream",
     "text": [
      "Reading CSV file: dot3_0924.csv\n",
      "Combined data saved as combined_data.csv\n"
     ]
    }
   ],
   "source": [
    "# # Paths\n",
    "# main_dir = \"data\"  # Main directory containing year folders\n",
    "# output_dir = \"./temp_extracted_files\"  # Temporary directory for extracted files\n",
    "\n",
    "# # Ensure the output directory exists\n",
    "# os.makedirs(output_dir, exist_ok=True)\n",
    "\n",
    "# # List to store dataframes\n",
    "# dataframes = []\n",
    "\n",
    "# # Iterate over year folders\n",
    "# for year in os.listdir(main_dir):\n",
    "#     year_path = os.path.join(main_dir, year)\n",
    "#     if os.path.isdir(year_path):  # Ensure it's a folder\n",
    "#         print(f\"Processing year folder: {year}\")\n",
    "        \n",
    "#         # Process each .zip file within the year folder\n",
    "#         for month_zip in os.listdir(year_path):\n",
    "#             month_zip_path = os.path.join(year_path, month_zip)\n",
    "            \n",
    "#             if month_zip.endswith(\".zip\"):\n",
    "#                 print(f\"Extracting: {month_zip}\")\n",
    "#                 # Extract the .zip file\n",
    "#                 with zipfile.ZipFile(month_zip_path, 'r') as zip_ref:\n",
    "#                     zip_ref.extractall(output_dir)\n",
    "                \n",
    "#                 # Process the extracted files\n",
    "#                 extracted_files = os.listdir(output_dir)\n",
    "#                 print(f\"Extracted files: {extracted_files}\")\n",
    "                \n",
    "#                 for extracted_file in extracted_files:\n",
    "#                     extracted_file_path = os.path.join(output_dir, extracted_file)\n",
    "                    \n",
    "#                     # Check for .csv and .xlsx files\n",
    "#                     if extracted_file.endswith(\".csv\"):\n",
    "#                         print(f\"Reading CSV file: {extracted_file}\")\n",
    "#                         df = pd.read_csv(extracted_file_path)\n",
    "#                         df['Year'] = int(year)  # Add a column for the year as integer\n",
    "#                         dataframes.append(df)\n",
    "                    \n",
    "#                     elif extracted_file.endswith((\".xlsx\", \".xls\")):\n",
    "#                         print(f\"Reading Excel file: {extracted_file}\")\n",
    "#                         df = pd.read_excel(extracted_file_path)\n",
    "#                         df['Year'] = int(year)  # Add a column for the year as integer\n",
    "#                         dataframes.append(df)\n",
    "                \n",
    "#                 # Clean up the temporary directory\n",
    "#                 for temp_file in extracted_files:\n",
    "#                     temp_file_path = os.path.join(output_dir, temp_file)\n",
    "#                     if os.path.isfile(temp_file_path):\n",
    "#                         os.remove(temp_file_path)  # Remove files\n",
    "#                     elif os.path.isdir(temp_file_path):\n",
    "#                         shutil.rmtree(temp_file_path)  # Remove directories\n",
    "\n",
    "# # Combine dataframes\n",
    "# if dataframes:\n",
    "#     combined_df = pd.concat(dataframes, ignore_index=True)\n",
    "#     combined_file = \"combined_data.csv\"\n",
    "#     combined_df.to_csv(combined_file, index=False)\n",
    "#     print(f\"Combined data saved as {combined_file}\")\n",
    "# else:\n",
    "#     print(\"No valid files found to combine.\")"
   ]
  },
  {
   "cell_type": "code",
   "execution_count": null,
   "metadata": {},
   "outputs": [],
   "source": []
  },
  {
   "cell_type": "code",
   "execution_count": null,
   "metadata": {},
   "outputs": [],
   "source": []
  },
  {
   "cell_type": "code",
   "execution_count": 2,
   "metadata": {},
   "outputs": [
    {
     "name": "stdout",
     "output_type": "stream",
     "text": [
      "Processing year folder: 2020\n",
      "Extracting: April2020TransBorderRawData.zip\n",
      "Reading CSV file: dot1_0420.csv\n",
      "Reading CSV file: dot1_ytd_0420.csv\n",
      "Reading CSV file: dot2_0420.csv\n",
      "Reading CSV file: dot2_ytd_0420.csv\n"
     ]
    },
    {
     "name": "stderr",
     "output_type": "stream",
     "text": [
      "C:\\Users\\DELL\\AppData\\Local\\Temp\\ipykernel_5400\\3904819786.py:19: DtypeWarning: Columns (4,11) have mixed types. Specify dtype option on import or set low_memory=False.\n",
      "  for i, chunk in enumerate(pd.read_csv(file_path, encoding='utf-8', chunksize=chunk_size)):\n"
     ]
    },
    {
     "name": "stdout",
     "output_type": "stream",
     "text": [
      "Reading CSV file: dot3_0420.csv\n",
      "Reading CSV file: dot3_ytd_0420.csv\n"
     ]
    },
    {
     "name": "stderr",
     "output_type": "stream",
     "text": [
      "C:\\Users\\DELL\\AppData\\Local\\Temp\\ipykernel_5400\\3904819786.py:19: DtypeWarning: Columns (9) have mixed types. Specify dtype option on import or set low_memory=False.\n",
      "  for i, chunk in enumerate(pd.read_csv(file_path, encoding='utf-8', chunksize=chunk_size)):\n"
     ]
    },
    {
     "name": "stdout",
     "output_type": "stream",
     "text": [
      "Extracting: August2020TransBorderRawData.zip\n",
      "Reading CSV file: dot1_0820.csv\n",
      "Reading CSV file: dot1_ytd_0820.csv\n",
      "Reading CSV file: dot2_0820.csv\n"
     ]
    },
    {
     "name": "stderr",
     "output_type": "stream",
     "text": [
      "C:\\Users\\DELL\\AppData\\Local\\Temp\\ipykernel_5400\\3904819786.py:19: DtypeWarning: Columns (4,11) have mixed types. Specify dtype option on import or set low_memory=False.\n",
      "  for i, chunk in enumerate(pd.read_csv(file_path, encoding='utf-8', chunksize=chunk_size)):\n"
     ]
    },
    {
     "name": "stdout",
     "output_type": "stream",
     "text": [
      "Reading CSV file: dot2_ytd_0820.csv\n",
      "Reading CSV file: dot3_0820.csv\n",
      "Reading CSV file: dot3_ytd_0820.csv\n",
      "Extracting: February2020TransBorderRawData.zip\n",
      "Reading CSV file: dot1_0220.csv\n",
      "Reading CSV file: dot1_ytd_0220.csv\n",
      "Reading CSV file: dot2_0220.csv\n"
     ]
    },
    {
     "name": "stderr",
     "output_type": "stream",
     "text": [
      "C:\\Users\\DELL\\AppData\\Local\\Temp\\ipykernel_5400\\3904819786.py:19: DtypeWarning: Columns (4,11) have mixed types. Specify dtype option on import or set low_memory=False.\n",
      "  for i, chunk in enumerate(pd.read_csv(file_path, encoding='utf-8', chunksize=chunk_size)):\n"
     ]
    },
    {
     "name": "stdout",
     "output_type": "stream",
     "text": [
      "Reading CSV file: dot2_ytd_0220.csv\n",
      "Reading CSV file: dot3_0220.csv\n",
      "Reading CSV file: dot3_ytd_0220.csv\n",
      "Extracting: January2020TransBorderRawData.zip\n",
      "Reading CSV file: dot1_0120.csv\n",
      "Reading CSV file: dot1_ytd_0120.csv\n",
      "Reading CSV file: dot2_0120.csv\n"
     ]
    },
    {
     "name": "stderr",
     "output_type": "stream",
     "text": [
      "C:\\Users\\DELL\\AppData\\Local\\Temp\\ipykernel_5400\\3904819786.py:19: DtypeWarning: Columns (4,11) have mixed types. Specify dtype option on import or set low_memory=False.\n",
      "  for i, chunk in enumerate(pd.read_csv(file_path, encoding='utf-8', chunksize=chunk_size)):\n"
     ]
    },
    {
     "name": "stdout",
     "output_type": "stream",
     "text": [
      "Reading CSV file: dot2_ytd_0120.csv\n"
     ]
    },
    {
     "name": "stderr",
     "output_type": "stream",
     "text": [
      "C:\\Users\\DELL\\AppData\\Local\\Temp\\ipykernel_5400\\3904819786.py:19: DtypeWarning: Columns (4,11) have mixed types. Specify dtype option on import or set low_memory=False.\n",
      "  for i, chunk in enumerate(pd.read_csv(file_path, encoding='utf-8', chunksize=chunk_size)):\n"
     ]
    },
    {
     "name": "stdout",
     "output_type": "stream",
     "text": [
      "Reading CSV file: dot3_0120.csv\n",
      "Reading CSV file: dot3_ytd_0120.csv\n",
      "Extracting: July2020TransBorderRawData.zip\n",
      "Reading CSV file: dot1_0720.csv\n",
      "Reading CSV file: dot1_ytd_0720.csv\n",
      "Reading CSV file: dot2_0720.csv\n"
     ]
    },
    {
     "name": "stderr",
     "output_type": "stream",
     "text": [
      "C:\\Users\\DELL\\AppData\\Local\\Temp\\ipykernel_5400\\3904819786.py:19: DtypeWarning: Columns (4,11) have mixed types. Specify dtype option on import or set low_memory=False.\n",
      "  for i, chunk in enumerate(pd.read_csv(file_path, encoding='utf-8', chunksize=chunk_size)):\n"
     ]
    },
    {
     "name": "stdout",
     "output_type": "stream",
     "text": [
      "Reading CSV file: dot2_ytd_0720.csv\n",
      "Reading CSV file: dot3_0720.csv\n",
      "Reading CSV file: dot3_ytd_0720.csv\n",
      "Reading CSV file: ._dot1_0720.csv\n",
      "Reading CSV file: ._dot1_ytd_0720.csv\n",
      "Reading CSV file: ._dot2_0720.csv\n",
      "Reading CSV file: ._dot2_ytd_0720.csv\n",
      "Reading CSV file: ._dot3_0720.csv\n",
      "Reading CSV file: ._dot3_ytd_0720.csv\n",
      "Extracting: June2020TransBorderRawData.zip\n",
      "Reading CSV file: dot1_0620.csv\n",
      "Reading CSV file: dot1_ytd_0620.csv\n",
      "Reading CSV file: dot2_0620.csv\n"
     ]
    },
    {
     "name": "stderr",
     "output_type": "stream",
     "text": [
      "C:\\Users\\DELL\\AppData\\Local\\Temp\\ipykernel_5400\\3904819786.py:19: DtypeWarning: Columns (4,11) have mixed types. Specify dtype option on import or set low_memory=False.\n",
      "  for i, chunk in enumerate(pd.read_csv(file_path, encoding='utf-8', chunksize=chunk_size)):\n"
     ]
    },
    {
     "name": "stdout",
     "output_type": "stream",
     "text": [
      "Reading CSV file: dot2_ytd_0620.csv\n",
      "Reading CSV file: dot3_0620.csv\n",
      "Reading CSV file: dot3_ytd_0620.csv\n",
      "Extracting: March2020TransBorderRawData.zip\n",
      "Reading CSV file: dot1_0320.csv\n",
      "Reading CSV file: dot1_ytd_0320.csv\n",
      "Reading CSV file: dot2_0320.csv\n"
     ]
    },
    {
     "name": "stderr",
     "output_type": "stream",
     "text": [
      "C:\\Users\\DELL\\AppData\\Local\\Temp\\ipykernel_5400\\3904819786.py:19: DtypeWarning: Columns (4,11) have mixed types. Specify dtype option on import or set low_memory=False.\n",
      "  for i, chunk in enumerate(pd.read_csv(file_path, encoding='utf-8', chunksize=chunk_size)):\n"
     ]
    },
    {
     "name": "stdout",
     "output_type": "stream",
     "text": [
      "Reading CSV file: dot2_ytd_0320.csv\n",
      "Reading CSV file: dot3_0320.csv\n",
      "Reading CSV file: dot3_ytd_0320.csv\n",
      "Extracting: May2020TransBorderRawData.zip\n",
      "Reading CSV file: dot1_0520.csv\n",
      "Reading CSV file: dot1_ytd_0520.csv\n",
      "Reading CSV file: dot2_0520.csv\n",
      "Reading CSV file: dot2_ytd_0520.csv\n",
      "Reading CSV file: dot3_0520.csv\n",
      "Reading CSV file: dot3_ytd_0520.csv\n",
      "Extracting: September2020TransBorderRawData.zip\n",
      "Reading CSV file: dot1_0920.csv\n",
      "Reading CSV file: dot1_ytd_0920.csv\n",
      "Reading CSV file: dot2_0920.csv\n"
     ]
    },
    {
     "name": "stderr",
     "output_type": "stream",
     "text": [
      "C:\\Users\\DELL\\AppData\\Local\\Temp\\ipykernel_5400\\3904819786.py:19: DtypeWarning: Columns (4,11) have mixed types. Specify dtype option on import or set low_memory=False.\n",
      "  for i, chunk in enumerate(pd.read_csv(file_path, encoding='utf-8', chunksize=chunk_size)):\n"
     ]
    },
    {
     "name": "stdout",
     "output_type": "stream",
     "text": [
      "Reading CSV file: dot2_ytd_0920.csv\n",
      "Reading CSV file: dot3_0920.csv\n",
      "Reading CSV file: dot3_ytd_0920.csv\n",
      "Processing year folder: 2021\n",
      "Extracting: April2021TransBorderRawData.zip\n",
      "Reading CSV file: dot1_0421.csv\n",
      "Reading CSV file: dot1_ytd_0421.csv\n",
      "Reading CSV file: dot2_0421.csv\n"
     ]
    },
    {
     "name": "stderr",
     "output_type": "stream",
     "text": [
      "C:\\Users\\DELL\\AppData\\Local\\Temp\\ipykernel_5400\\3904819786.py:19: DtypeWarning: Columns (4,11) have mixed types. Specify dtype option on import or set low_memory=False.\n",
      "  for i, chunk in enumerate(pd.read_csv(file_path, encoding='utf-8', chunksize=chunk_size)):\n"
     ]
    },
    {
     "name": "stdout",
     "output_type": "stream",
     "text": [
      "Reading CSV file: dot2_ytd_0421.csv\n",
      "Reading CSV file: dot3_0421.csv\n",
      "Reading CSV file: dot3_ytd_0421.csv\n"
     ]
    },
    {
     "name": "stderr",
     "output_type": "stream",
     "text": [
      "C:\\Users\\DELL\\AppData\\Local\\Temp\\ipykernel_5400\\3904819786.py:19: DtypeWarning: Columns (9) have mixed types. Specify dtype option on import or set low_memory=False.\n",
      "  for i, chunk in enumerate(pd.read_csv(file_path, encoding='utf-8', chunksize=chunk_size)):\n"
     ]
    },
    {
     "name": "stdout",
     "output_type": "stream",
     "text": [
      "Extracting: February2021TransBorderRawData.zip\n",
      "Reading CSV file: dot1_0221.csv\n",
      "Reading CSV file: dot1_ytd_0221.csv\n",
      "Reading CSV file: dot2_0221.csv\n"
     ]
    },
    {
     "name": "stderr",
     "output_type": "stream",
     "text": [
      "C:\\Users\\DELL\\AppData\\Local\\Temp\\ipykernel_5400\\3904819786.py:19: DtypeWarning: Columns (4,11) have mixed types. Specify dtype option on import or set low_memory=False.\n",
      "  for i, chunk in enumerate(pd.read_csv(file_path, encoding='utf-8', chunksize=chunk_size)):\n"
     ]
    },
    {
     "name": "stdout",
     "output_type": "stream",
     "text": [
      "Reading CSV file: dot2_ytd_0221.csv\n",
      "Reading CSV file: dot3_0221.csv\n",
      "Reading CSV file: dot3_ytd_0221.csv\n",
      "Extracting: January2021TransBorderRawData.zip\n",
      "Reading CSV file: dot1_0121.csv\n",
      "Reading CSV file: dot1_ytd_0121.csv\n",
      "Reading CSV file: dot2_0121.csv\n"
     ]
    },
    {
     "name": "stderr",
     "output_type": "stream",
     "text": [
      "C:\\Users\\DELL\\AppData\\Local\\Temp\\ipykernel_5400\\3904819786.py:19: DtypeWarning: Columns (4,11) have mixed types. Specify dtype option on import or set low_memory=False.\n",
      "  for i, chunk in enumerate(pd.read_csv(file_path, encoding='utf-8', chunksize=chunk_size)):\n"
     ]
    },
    {
     "name": "stdout",
     "output_type": "stream",
     "text": [
      "Reading CSV file: dot2_ytd_0121.csv\n"
     ]
    },
    {
     "name": "stderr",
     "output_type": "stream",
     "text": [
      "C:\\Users\\DELL\\AppData\\Local\\Temp\\ipykernel_5400\\3904819786.py:19: DtypeWarning: Columns (4,11) have mixed types. Specify dtype option on import or set low_memory=False.\n",
      "  for i, chunk in enumerate(pd.read_csv(file_path, encoding='utf-8', chunksize=chunk_size)):\n"
     ]
    },
    {
     "name": "stdout",
     "output_type": "stream",
     "text": [
      "Reading CSV file: dot3_0121.csv\n",
      "Reading CSV file: dot3_ytd_0121.csv\n",
      "Extracting: July-to-Dec-2021.zip\n",
      "Reading CSV file: dot1_0821.csv\n",
      "Reading CSV file: dot1_ytd_0821.csv\n",
      "Reading CSV file: dot2_0821.csv\n"
     ]
    },
    {
     "name": "stderr",
     "output_type": "stream",
     "text": [
      "C:\\Users\\DELL\\AppData\\Local\\Temp\\ipykernel_5400\\3904819786.py:19: DtypeWarning: Columns (4,11) have mixed types. Specify dtype option on import or set low_memory=False.\n",
      "  for i, chunk in enumerate(pd.read_csv(file_path, encoding='utf-8', chunksize=chunk_size)):\n"
     ]
    },
    {
     "name": "stdout",
     "output_type": "stream",
     "text": [
      "Reading CSV file: dot2_ytd_0821.csv\n",
      "Reading CSV file: dot3_0821.csv\n",
      "Reading CSV file: dot3_ytd_0821.csv\n",
      "Reading CSV file: dot1_1221.csv\n",
      "Reading CSV file: dot1_2021.csv\n",
      "Reading CSV file: dot1_ytd_1221.csv\n",
      "Reading CSV file: dot2_1221.csv\n"
     ]
    },
    {
     "name": "stderr",
     "output_type": "stream",
     "text": [
      "C:\\Users\\DELL\\AppData\\Local\\Temp\\ipykernel_5400\\3904819786.py:19: DtypeWarning: Columns (4,11) have mixed types. Specify dtype option on import or set low_memory=False.\n",
      "  for i, chunk in enumerate(pd.read_csv(file_path, encoding='utf-8', chunksize=chunk_size)):\n"
     ]
    },
    {
     "name": "stdout",
     "output_type": "stream",
     "text": [
      "Reading CSV file: dot2_2021.csv\n",
      "Reading CSV file: dot2_ytd_1221.csv\n",
      "Reading CSV file: dot3_1221.csv\n",
      "Reading CSV file: dot3_2021.csv\n",
      "Reading CSV file: dot3_ytd_1221.csv\n",
      "Reading CSV file: dot1_0721.csv\n",
      "Reading CSV file: dot1_ytd_0721.csv\n",
      "Reading CSV file: dot2_0721.csv\n"
     ]
    },
    {
     "name": "stderr",
     "output_type": "stream",
     "text": [
      "C:\\Users\\DELL\\AppData\\Local\\Temp\\ipykernel_5400\\3904819786.py:19: DtypeWarning: Columns (4,11) have mixed types. Specify dtype option on import or set low_memory=False.\n",
      "  for i, chunk in enumerate(pd.read_csv(file_path, encoding='utf-8', chunksize=chunk_size)):\n"
     ]
    },
    {
     "name": "stdout",
     "output_type": "stream",
     "text": [
      "Reading CSV file: dot2_ytd_0721.csv\n",
      "Reading CSV file: dot3_0721.csv\n",
      "Reading CSV file: dot3_ytd_0721.csv\n",
      "Reading CSV file: dot1_1121.csv\n",
      "Reading CSV file: dot1_ytd_1121.csv\n",
      "Reading CSV file: dot2_1121.csv\n"
     ]
    },
    {
     "name": "stderr",
     "output_type": "stream",
     "text": [
      "C:\\Users\\DELL\\AppData\\Local\\Temp\\ipykernel_5400\\3904819786.py:19: DtypeWarning: Columns (4,11) have mixed types. Specify dtype option on import or set low_memory=False.\n",
      "  for i, chunk in enumerate(pd.read_csv(file_path, encoding='utf-8', chunksize=chunk_size)):\n"
     ]
    },
    {
     "name": "stdout",
     "output_type": "stream",
     "text": [
      "Reading CSV file: dot2_ytd_1121.csv\n",
      "Reading CSV file: dot3_1121.csv\n",
      "Reading CSV file: dot3_ytd_1121.csv\n",
      "Reading CSV file: dot1_1021.csv\n",
      "Reading CSV file: dot1_ytd_1021.csv\n"
     ]
    },
    {
     "name": "stderr",
     "output_type": "stream",
     "text": [
      "C:\\Users\\DELL\\AppData\\Local\\Temp\\ipykernel_5400\\3904819786.py:19: DtypeWarning: Columns (4,11) have mixed types. Specify dtype option on import or set low_memory=False.\n",
      "  for i, chunk in enumerate(pd.read_csv(file_path, encoding='utf-8', chunksize=chunk_size)):\n"
     ]
    },
    {
     "name": "stdout",
     "output_type": "stream",
     "text": [
      "Reading CSV file: dot2_1021.csv\n"
     ]
    },
    {
     "name": "stderr",
     "output_type": "stream",
     "text": [
      "C:\\Users\\DELL\\AppData\\Local\\Temp\\ipykernel_5400\\3904819786.py:19: DtypeWarning: Columns (4,11) have mixed types. Specify dtype option on import or set low_memory=False.\n",
      "  for i, chunk in enumerate(pd.read_csv(file_path, encoding='utf-8', chunksize=chunk_size)):\n"
     ]
    },
    {
     "name": "stdout",
     "output_type": "stream",
     "text": [
      "Reading CSV file: dot2_ytd_1021.csv\n",
      "Reading CSV file: dot3_1021.csv\n",
      "Reading CSV file: dot3_ytd_1021.csv\n",
      "Reading CSV file: dot1_0921.csv\n",
      "Reading CSV file: dot1_ytd_0921.csv\n",
      "Reading CSV file: dot2_0921.csv\n"
     ]
    },
    {
     "name": "stderr",
     "output_type": "stream",
     "text": [
      "C:\\Users\\DELL\\AppData\\Local\\Temp\\ipykernel_5400\\3904819786.py:19: DtypeWarning: Columns (4,11) have mixed types. Specify dtype option on import or set low_memory=False.\n",
      "  for i, chunk in enumerate(pd.read_csv(file_path, encoding='utf-8', chunksize=chunk_size)):\n"
     ]
    },
    {
     "name": "stdout",
     "output_type": "stream",
     "text": [
      "Reading CSV file: dot2_ytd_0921.csv\n"
     ]
    },
    {
     "name": "stderr",
     "output_type": "stream",
     "text": [
      "C:\\Users\\DELL\\AppData\\Local\\Temp\\ipykernel_5400\\3904819786.py:19: DtypeWarning: Columns (4,11) have mixed types. Specify dtype option on import or set low_memory=False.\n",
      "  for i, chunk in enumerate(pd.read_csv(file_path, encoding='utf-8', chunksize=chunk_size)):\n"
     ]
    },
    {
     "name": "stdout",
     "output_type": "stream",
     "text": [
      "Reading CSV file: dot3_0921.csv\n",
      "Reading CSV file: dot3_ytd_0921.csv\n",
      "Extracting: July2021TransBorderRawData.zip\n",
      "Reading CSV file: dot1_0721.csv\n",
      "Reading CSV file: dot1_ytd_0721.csv\n",
      "Reading CSV file: dot2_0721.csv\n"
     ]
    },
    {
     "name": "stderr",
     "output_type": "stream",
     "text": [
      "C:\\Users\\DELL\\AppData\\Local\\Temp\\ipykernel_5400\\3904819786.py:19: DtypeWarning: Columns (4,11) have mixed types. Specify dtype option on import or set low_memory=False.\n",
      "  for i, chunk in enumerate(pd.read_csv(file_path, encoding='utf-8', chunksize=chunk_size)):\n"
     ]
    },
    {
     "name": "stdout",
     "output_type": "stream",
     "text": [
      "Reading CSV file: dot2_ytd_0721.csv\n",
      "Reading CSV file: dot3_0721.csv\n",
      "Reading CSV file: dot3_ytd_0721.csv\n",
      "Extracting: June2021TransBorderRawData.zip\n",
      "Reading CSV file: dot1_0621.csv\n",
      "Reading CSV file: dot1_ytd_0621.csv\n",
      "Reading CSV file: dot2_0621.csv\n"
     ]
    },
    {
     "name": "stderr",
     "output_type": "stream",
     "text": [
      "C:\\Users\\DELL\\AppData\\Local\\Temp\\ipykernel_5400\\3904819786.py:19: DtypeWarning: Columns (4,11) have mixed types. Specify dtype option on import or set low_memory=False.\n",
      "  for i, chunk in enumerate(pd.read_csv(file_path, encoding='utf-8', chunksize=chunk_size)):\n"
     ]
    },
    {
     "name": "stdout",
     "output_type": "stream",
     "text": [
      "Reading CSV file: dot2_ytd_0621.csv\n",
      "Reading CSV file: dot3_0621.csv\n",
      "Reading CSV file: dot3_ytd_0621.csv\n",
      "Extracting: March2021TransBorderRawData.zip\n",
      "Reading CSV file: dot1_0321.csv\n",
      "Reading CSV file: dot1_ytd_0321.csv\n",
      "Reading CSV file: dot2_0321.csv\n"
     ]
    },
    {
     "name": "stderr",
     "output_type": "stream",
     "text": [
      "C:\\Users\\DELL\\AppData\\Local\\Temp\\ipykernel_5400\\3904819786.py:19: DtypeWarning: Columns (4,11) have mixed types. Specify dtype option on import or set low_memory=False.\n",
      "  for i, chunk in enumerate(pd.read_csv(file_path, encoding='utf-8', chunksize=chunk_size)):\n"
     ]
    },
    {
     "name": "stdout",
     "output_type": "stream",
     "text": [
      "Reading CSV file: dot2_ytd_0321.csv\n",
      "Reading CSV file: dot3_0321.csv\n",
      "Reading CSV file: dot3_ytd_0321.csv\n",
      "Extracting: May2021TransBorderRawData.zip\n",
      "Reading CSV file: dot1_0521.csv\n",
      "Reading CSV file: dot1_ytd_0521.csv\n",
      "Reading CSV file: dot2_0521.csv\n"
     ]
    },
    {
     "name": "stderr",
     "output_type": "stream",
     "text": [
      "C:\\Users\\DELL\\AppData\\Local\\Temp\\ipykernel_5400\\3904819786.py:19: DtypeWarning: Columns (4,11) have mixed types. Specify dtype option on import or set low_memory=False.\n",
      "  for i, chunk in enumerate(pd.read_csv(file_path, encoding='utf-8', chunksize=chunk_size)):\n"
     ]
    },
    {
     "name": "stdout",
     "output_type": "stream",
     "text": [
      "Reading CSV file: dot2_ytd_0521.csv\n"
     ]
    },
    {
     "name": "stderr",
     "output_type": "stream",
     "text": [
      "C:\\Users\\DELL\\AppData\\Local\\Temp\\ipykernel_5400\\3904819786.py:19: DtypeWarning: Columns (4,11) have mixed types. Specify dtype option on import or set low_memory=False.\n",
      "  for i, chunk in enumerate(pd.read_csv(file_path, encoding='utf-8', chunksize=chunk_size)):\n"
     ]
    },
    {
     "name": "stdout",
     "output_type": "stream",
     "text": [
      "Reading CSV file: dot3_0521.csv\n",
      "Reading CSV file: dot3_ytd_0521.csv\n",
      "Processing year folder: 2022\n",
      "Extracting: April2022.zip\n",
      "Reading CSV file: dot1_0422.csv\n",
      "Reading CSV file: dot1_ytd_0422.csv\n",
      "Reading CSV file: dot2_0422.csv\n"
     ]
    },
    {
     "name": "stderr",
     "output_type": "stream",
     "text": [
      "C:\\Users\\DELL\\AppData\\Local\\Temp\\ipykernel_5400\\3904819786.py:19: DtypeWarning: Columns (4,11) have mixed types. Specify dtype option on import or set low_memory=False.\n",
      "  for i, chunk in enumerate(pd.read_csv(file_path, encoding='utf-8', chunksize=chunk_size)):\n"
     ]
    },
    {
     "name": "stdout",
     "output_type": "stream",
     "text": [
      "Reading CSV file: dot2_ytd_0422.csv\n",
      "Reading CSV file: dot3_0422.csv\n",
      "Reading CSV file: dot3_ytd_0422.csv\n"
     ]
    },
    {
     "name": "stderr",
     "output_type": "stream",
     "text": [
      "C:\\Users\\DELL\\AppData\\Local\\Temp\\ipykernel_5400\\3904819786.py:19: DtypeWarning: Columns (9) have mixed types. Specify dtype option on import or set low_memory=False.\n",
      "  for i, chunk in enumerate(pd.read_csv(file_path, encoding='utf-8', chunksize=chunk_size)):\n"
     ]
    },
    {
     "name": "stdout",
     "output_type": "stream",
     "text": [
      "Extracting: August2022.zip\n",
      "Reading CSV file: dot1_0822.csv\n",
      "Reading CSV file: dot1_ytd_0822.csv\n",
      "Reading CSV file: dot2_0822.csv\n"
     ]
    },
    {
     "name": "stderr",
     "output_type": "stream",
     "text": [
      "C:\\Users\\DELL\\AppData\\Local\\Temp\\ipykernel_5400\\3904819786.py:19: DtypeWarning: Columns (4,11) have mixed types. Specify dtype option on import or set low_memory=False.\n",
      "  for i, chunk in enumerate(pd.read_csv(file_path, encoding='utf-8', chunksize=chunk_size)):\n"
     ]
    },
    {
     "name": "stdout",
     "output_type": "stream",
     "text": [
      "Reading CSV file: dot2_ytd_0822.csv\n",
      "Reading CSV file: dot3_0822.csv\n",
      "Reading CSV file: dot3_ytd_0822.csv\n",
      "Extracting: December2022.zip\n",
      "Reading CSV file: dot1_1222.csv\n",
      "Reading CSV file: dot1_2022.csv\n",
      "Reading CSV file: dot1_ytd_1222.csv\n",
      "Reading CSV file: dot2_1222.csv\n"
     ]
    },
    {
     "name": "stderr",
     "output_type": "stream",
     "text": [
      "C:\\Users\\DELL\\AppData\\Local\\Temp\\ipykernel_5400\\3904819786.py:19: DtypeWarning: Columns (4,11) have mixed types. Specify dtype option on import or set low_memory=False.\n",
      "  for i, chunk in enumerate(pd.read_csv(file_path, encoding='utf-8', chunksize=chunk_size)):\n"
     ]
    },
    {
     "name": "stdout",
     "output_type": "stream",
     "text": [
      "Reading CSV file: dot2_2022.csv\n",
      "Reading CSV file: dot2_ytd_1222.csv\n",
      "Reading CSV file: dot3_1222.csv\n",
      "Reading CSV file: dot3_2022.csv\n",
      "Reading CSV file: dot3_ytd_1222.csv\n",
      "Extracting: Feb-2022.zip\n",
      "Reading CSV file: dot1_0222.csv\n",
      "Reading CSV file: dot1_ytd_0222.csv\n",
      "Reading CSV file: dot2_0222.csv\n"
     ]
    },
    {
     "name": "stderr",
     "output_type": "stream",
     "text": [
      "C:\\Users\\DELL\\AppData\\Local\\Temp\\ipykernel_5400\\3904819786.py:19: DtypeWarning: Columns (4,11) have mixed types. Specify dtype option on import or set low_memory=False.\n",
      "  for i, chunk in enumerate(pd.read_csv(file_path, encoding='utf-8', chunksize=chunk_size)):\n"
     ]
    },
    {
     "name": "stdout",
     "output_type": "stream",
     "text": [
      "Reading CSV file: dot2_ytd_0222.csv\n",
      "Reading CSV file: dot3_0222.csv\n",
      "Reading CSV file: dot3_ytd_0222.csv\n",
      "Extracting: Jan-2022.zip\n",
      "Reading CSV file: dot1_0122.csv\n",
      "Reading CSV file: dot1_ytd_0122.csv\n",
      "Reading CSV file: dot2_0122.csv\n"
     ]
    },
    {
     "name": "stderr",
     "output_type": "stream",
     "text": [
      "C:\\Users\\DELL\\AppData\\Local\\Temp\\ipykernel_5400\\3904819786.py:19: DtypeWarning: Columns (4,11) have mixed types. Specify dtype option on import or set low_memory=False.\n",
      "  for i, chunk in enumerate(pd.read_csv(file_path, encoding='utf-8', chunksize=chunk_size)):\n"
     ]
    },
    {
     "name": "stdout",
     "output_type": "stream",
     "text": [
      "Reading CSV file: dot2_ytd_0122.csv\n"
     ]
    },
    {
     "name": "stderr",
     "output_type": "stream",
     "text": [
      "C:\\Users\\DELL\\AppData\\Local\\Temp\\ipykernel_5400\\3904819786.py:19: DtypeWarning: Columns (4,11) have mixed types. Specify dtype option on import or set low_memory=False.\n",
      "  for i, chunk in enumerate(pd.read_csv(file_path, encoding='utf-8', chunksize=chunk_size)):\n"
     ]
    },
    {
     "name": "stdout",
     "output_type": "stream",
     "text": [
      "Reading CSV file: dot3_0122.csv\n",
      "Reading CSV file: dot3_ytd_0122.csv\n",
      "Extracting: July2022.zip\n",
      "Reading CSV file: dot1_0722.csv\n",
      "Reading CSV file: dot1_ytd_0722.csv\n",
      "Reading CSV file: dot2_0722.csv\n"
     ]
    },
    {
     "name": "stderr",
     "output_type": "stream",
     "text": [
      "C:\\Users\\DELL\\AppData\\Local\\Temp\\ipykernel_5400\\3904819786.py:19: DtypeWarning: Columns (4,11) have mixed types. Specify dtype option on import or set low_memory=False.\n",
      "  for i, chunk in enumerate(pd.read_csv(file_path, encoding='utf-8', chunksize=chunk_size)):\n"
     ]
    },
    {
     "name": "stdout",
     "output_type": "stream",
     "text": [
      "Reading CSV file: dot2_ytd_0722.csv\n",
      "Reading CSV file: dot3_0722.csv\n",
      "Reading CSV file: dot3_ytd_0722.csv\n",
      "Extracting: June2022.zip\n",
      "Reading CSV file: dot1_0622.csv\n",
      "Reading CSV file: dot1_ytd_0622.csv\n"
     ]
    },
    {
     "name": "stderr",
     "output_type": "stream",
     "text": [
      "C:\\Users\\DELL\\AppData\\Local\\Temp\\ipykernel_5400\\3904819786.py:19: DtypeWarning: Columns (4,11) have mixed types. Specify dtype option on import or set low_memory=False.\n",
      "  for i, chunk in enumerate(pd.read_csv(file_path, encoding='utf-8', chunksize=chunk_size)):\n"
     ]
    },
    {
     "name": "stdout",
     "output_type": "stream",
     "text": [
      "Reading CSV file: dot2_0622.csv\n"
     ]
    },
    {
     "name": "stderr",
     "output_type": "stream",
     "text": [
      "C:\\Users\\DELL\\AppData\\Local\\Temp\\ipykernel_5400\\3904819786.py:19: DtypeWarning: Columns (4,11) have mixed types. Specify dtype option on import or set low_memory=False.\n",
      "  for i, chunk in enumerate(pd.read_csv(file_path, encoding='utf-8', chunksize=chunk_size)):\n"
     ]
    },
    {
     "name": "stdout",
     "output_type": "stream",
     "text": [
      "Reading CSV file: dot2_ytd_0622.csv\n",
      "Reading CSV file: dot3_0622.csv\n",
      "Reading CSV file: dot3_ytd_0622.csv\n",
      "Extracting: March-2022.zip\n",
      "Reading CSV file: dot1_0322.csv\n",
      "Reading CSV file: dot1_ytd_0322.csv\n",
      "Reading CSV file: dot2_0322.csv\n"
     ]
    },
    {
     "name": "stderr",
     "output_type": "stream",
     "text": [
      "C:\\Users\\DELL\\AppData\\Local\\Temp\\ipykernel_5400\\3904819786.py:19: DtypeWarning: Columns (4,11) have mixed types. Specify dtype option on import or set low_memory=False.\n",
      "  for i, chunk in enumerate(pd.read_csv(file_path, encoding='utf-8', chunksize=chunk_size)):\n"
     ]
    },
    {
     "name": "stdout",
     "output_type": "stream",
     "text": [
      "Reading CSV file: dot2_ytd_0322.csv\n",
      "Reading CSV file: dot3_0322.csv\n",
      "Reading CSV file: dot3_ytd_0322.csv\n",
      "Extracting: May2022.zip\n",
      "Reading CSV file: dot1_0522.csv\n",
      "Reading CSV file: dot1_ytd_0522.csv\n",
      "Reading CSV file: dot2_0522.csv\n"
     ]
    },
    {
     "name": "stderr",
     "output_type": "stream",
     "text": [
      "C:\\Users\\DELL\\AppData\\Local\\Temp\\ipykernel_5400\\3904819786.py:19: DtypeWarning: Columns (4,11) have mixed types. Specify dtype option on import or set low_memory=False.\n",
      "  for i, chunk in enumerate(pd.read_csv(file_path, encoding='utf-8', chunksize=chunk_size)):\n"
     ]
    },
    {
     "name": "stdout",
     "output_type": "stream",
     "text": [
      "Reading CSV file: dot2_ytd_0522.csv\n"
     ]
    },
    {
     "name": "stderr",
     "output_type": "stream",
     "text": [
      "C:\\Users\\DELL\\AppData\\Local\\Temp\\ipykernel_5400\\3904819786.py:19: DtypeWarning: Columns (4,11) have mixed types. Specify dtype option on import or set low_memory=False.\n",
      "  for i, chunk in enumerate(pd.read_csv(file_path, encoding='utf-8', chunksize=chunk_size)):\n"
     ]
    },
    {
     "name": "stdout",
     "output_type": "stream",
     "text": [
      "Reading CSV file: dot3_0522.csv\n",
      "Reading CSV file: dot3_ytd_0522.csv\n",
      "Extracting: November2022.zip\n",
      "Reading CSV file: dot1_1122.csv\n",
      "Reading CSV file: dot1_ytd_1122.csv\n",
      "Reading CSV file: dot2_1122.csv\n"
     ]
    },
    {
     "name": "stderr",
     "output_type": "stream",
     "text": [
      "C:\\Users\\DELL\\AppData\\Local\\Temp\\ipykernel_5400\\3904819786.py:19: DtypeWarning: Columns (4,11) have mixed types. Specify dtype option on import or set low_memory=False.\n",
      "  for i, chunk in enumerate(pd.read_csv(file_path, encoding='utf-8', chunksize=chunk_size)):\n"
     ]
    },
    {
     "name": "stdout",
     "output_type": "stream",
     "text": [
      "Reading CSV file: dot2_ytd_1122.csv\n",
      "Reading CSV file: dot3_1122.csv\n",
      "Reading CSV file: dot3_ytd_1122.csv\n",
      "Extracting: October2022.zip\n",
      "Reading CSV file: dot1_1022.csv\n",
      "Reading CSV file: dot1_ytd_1022.csv\n",
      "Reading CSV file: dot2_1022.csv\n"
     ]
    },
    {
     "name": "stderr",
     "output_type": "stream",
     "text": [
      "C:\\Users\\DELL\\AppData\\Local\\Temp\\ipykernel_5400\\3904819786.py:19: DtypeWarning: Columns (4,11) have mixed types. Specify dtype option on import or set low_memory=False.\n",
      "  for i, chunk in enumerate(pd.read_csv(file_path, encoding='utf-8', chunksize=chunk_size)):\n"
     ]
    },
    {
     "name": "stdout",
     "output_type": "stream",
     "text": [
      "Reading CSV file: dot2_ytd_1022.csv\n"
     ]
    },
    {
     "name": "stderr",
     "output_type": "stream",
     "text": [
      "C:\\Users\\DELL\\AppData\\Local\\Temp\\ipykernel_5400\\3904819786.py:19: DtypeWarning: Columns (4,11) have mixed types. Specify dtype option on import or set low_memory=False.\n",
      "  for i, chunk in enumerate(pd.read_csv(file_path, encoding='utf-8', chunksize=chunk_size)):\n"
     ]
    },
    {
     "name": "stdout",
     "output_type": "stream",
     "text": [
      "Reading CSV file: dot3_1022.csv\n",
      "Reading CSV file: dot3_ytd_1022.csv\n",
      "Extracting: September2022.zip\n",
      "Reading CSV file: dot1_0922.csv\n",
      "Reading CSV file: dot1_ytd_0922.csv\n",
      "Reading CSV file: dot2_0922.csv\n"
     ]
    },
    {
     "name": "stderr",
     "output_type": "stream",
     "text": [
      "C:\\Users\\DELL\\AppData\\Local\\Temp\\ipykernel_5400\\3904819786.py:19: DtypeWarning: Columns (4,11) have mixed types. Specify dtype option on import or set low_memory=False.\n",
      "  for i, chunk in enumerate(pd.read_csv(file_path, encoding='utf-8', chunksize=chunk_size)):\n"
     ]
    },
    {
     "name": "stdout",
     "output_type": "stream",
     "text": [
      "Reading CSV file: dot2_ytd_0922.csv\n",
      "Reading CSV file: dot3_0922.csv\n",
      "Reading CSV file: dot3_ytd_0922.csv\n",
      "Processing year folder: 2023\n",
      "Extracting: April2023.zip\n",
      "Reading CSV file: dot1_0423.csv\n",
      "Reading CSV file: dot1_ytd_0423.csv\n",
      "Reading CSV file: dot2_0423.csv\n"
     ]
    },
    {
     "name": "stderr",
     "output_type": "stream",
     "text": [
      "C:\\Users\\DELL\\AppData\\Local\\Temp\\ipykernel_5400\\3904819786.py:19: DtypeWarning: Columns (4,11) have mixed types. Specify dtype option on import or set low_memory=False.\n",
      "  for i, chunk in enumerate(pd.read_csv(file_path, encoding='utf-8', chunksize=chunk_size)):\n"
     ]
    },
    {
     "name": "stdout",
     "output_type": "stream",
     "text": [
      "Reading CSV file: dot2_ytd_0423.csv\n",
      "Reading CSV file: dot3_0423.csv\n",
      "Reading CSV file: dot3_ytd_0423.csv\n"
     ]
    },
    {
     "name": "stderr",
     "output_type": "stream",
     "text": [
      "C:\\Users\\DELL\\AppData\\Local\\Temp\\ipykernel_5400\\3904819786.py:19: DtypeWarning: Columns (9) have mixed types. Specify dtype option on import or set low_memory=False.\n",
      "  for i, chunk in enumerate(pd.read_csv(file_path, encoding='utf-8', chunksize=chunk_size)):\n"
     ]
    },
    {
     "name": "stdout",
     "output_type": "stream",
     "text": [
      "Extracting: Aug2023.zip\n",
      "Reading CSV file: dot1_0823.csv\n",
      "Reading CSV file: dot1_ytd_0823.csv\n",
      "Reading CSV file: dot2_0823.csv\n"
     ]
    },
    {
     "name": "stderr",
     "output_type": "stream",
     "text": [
      "C:\\Users\\DELL\\AppData\\Local\\Temp\\ipykernel_5400\\3904819786.py:19: DtypeWarning: Columns (4,11) have mixed types. Specify dtype option on import or set low_memory=False.\n",
      "  for i, chunk in enumerate(pd.read_csv(file_path, encoding='utf-8', chunksize=chunk_size)):\n"
     ]
    },
    {
     "name": "stdout",
     "output_type": "stream",
     "text": [
      "Reading CSV file: dot2_ytd_0823.csv\n",
      "Reading CSV file: dot3_0823.csv\n",
      "Reading CSV file: dot3_ytd_0823.csv\n",
      "Extracting: December2023.zip\n",
      "Reading CSV file: dot1_1223.csv\n",
      "Reading CSV file: dot2_1223.csv\n"
     ]
    },
    {
     "name": "stderr",
     "output_type": "stream",
     "text": [
      "C:\\Users\\DELL\\AppData\\Local\\Temp\\ipykernel_5400\\3904819786.py:19: DtypeWarning: Columns (4,11) have mixed types. Specify dtype option on import or set low_memory=False.\n",
      "  for i, chunk in enumerate(pd.read_csv(file_path, encoding='utf-8', chunksize=chunk_size)):\n"
     ]
    },
    {
     "name": "stdout",
     "output_type": "stream",
     "text": [
      "Reading CSV file: dot3_1223.csv\n",
      "Extracting: Feb2023.zip\n",
      "Reading CSV file: dot1_0223.csv\n",
      "Reading CSV file: dot1_ytd_0223.csv\n",
      "Reading CSV file: dot2_0223.csv\n"
     ]
    },
    {
     "name": "stderr",
     "output_type": "stream",
     "text": [
      "C:\\Users\\DELL\\AppData\\Local\\Temp\\ipykernel_5400\\3904819786.py:19: DtypeWarning: Columns (4,11) have mixed types. Specify dtype option on import or set low_memory=False.\n",
      "  for i, chunk in enumerate(pd.read_csv(file_path, encoding='utf-8', chunksize=chunk_size)):\n"
     ]
    },
    {
     "name": "stdout",
     "output_type": "stream",
     "text": [
      "Reading CSV file: dot2_ytd_0223.csv\n",
      "Reading CSV file: dot3_0223.csv\n",
      "Reading CSV file: dot3_ytd_0223.csv\n",
      "Extracting: Jan2023.zip\n",
      "Reading CSV file: dot1_0123.csv\n",
      "Reading CSV file: dot1_ytd_0123.csv\n",
      "Reading CSV file: dot2_0123.csv\n"
     ]
    },
    {
     "name": "stderr",
     "output_type": "stream",
     "text": [
      "C:\\Users\\DELL\\AppData\\Local\\Temp\\ipykernel_5400\\3904819786.py:19: DtypeWarning: Columns (4,11) have mixed types. Specify dtype option on import or set low_memory=False.\n",
      "  for i, chunk in enumerate(pd.read_csv(file_path, encoding='utf-8', chunksize=chunk_size)):\n"
     ]
    },
    {
     "name": "stdout",
     "output_type": "stream",
     "text": [
      "Reading CSV file: dot2_ytd_0123.csv\n"
     ]
    },
    {
     "name": "stderr",
     "output_type": "stream",
     "text": [
      "C:\\Users\\DELL\\AppData\\Local\\Temp\\ipykernel_5400\\3904819786.py:19: DtypeWarning: Columns (4,11) have mixed types. Specify dtype option on import or set low_memory=False.\n",
      "  for i, chunk in enumerate(pd.read_csv(file_path, encoding='utf-8', chunksize=chunk_size)):\n"
     ]
    },
    {
     "name": "stdout",
     "output_type": "stream",
     "text": [
      "Reading CSV file: dot3_0123.csv\n",
      "Reading CSV file: dot3_ytd_0123.csv\n",
      "Extracting: July2023.zip\n",
      "Reading CSV file: dot1_0723.csv\n",
      "Reading CSV file: dot1_ytd_0723.csv\n",
      "Reading CSV file: dot2_0723.csv\n"
     ]
    },
    {
     "name": "stderr",
     "output_type": "stream",
     "text": [
      "C:\\Users\\DELL\\AppData\\Local\\Temp\\ipykernel_5400\\3904819786.py:19: DtypeWarning: Columns (4,11) have mixed types. Specify dtype option on import or set low_memory=False.\n",
      "  for i, chunk in enumerate(pd.read_csv(file_path, encoding='utf-8', chunksize=chunk_size)):\n"
     ]
    },
    {
     "name": "stdout",
     "output_type": "stream",
     "text": [
      "Reading CSV file: dot2_ytd_0723.csv\n",
      "Reading CSV file: dot3_0723.csv\n",
      "Reading CSV file: dot3_ytd_0723.csv\n",
      "Extracting: June2023.zip\n",
      "Reading CSV file: dot1_0623.csv\n",
      "Reading CSV file: dot1_ytd_0623.csv\n"
     ]
    },
    {
     "name": "stderr",
     "output_type": "stream",
     "text": [
      "C:\\Users\\DELL\\AppData\\Local\\Temp\\ipykernel_5400\\3904819786.py:19: DtypeWarning: Columns (4,11) have mixed types. Specify dtype option on import or set low_memory=False.\n",
      "  for i, chunk in enumerate(pd.read_csv(file_path, encoding='utf-8', chunksize=chunk_size)):\n"
     ]
    },
    {
     "name": "stdout",
     "output_type": "stream",
     "text": [
      "Reading CSV file: dot2_0623.csv\n"
     ]
    },
    {
     "name": "stderr",
     "output_type": "stream",
     "text": [
      "C:\\Users\\DELL\\AppData\\Local\\Temp\\ipykernel_5400\\3904819786.py:19: DtypeWarning: Columns (4,11) have mixed types. Specify dtype option on import or set low_memory=False.\n",
      "  for i, chunk in enumerate(pd.read_csv(file_path, encoding='utf-8', chunksize=chunk_size)):\n"
     ]
    },
    {
     "name": "stdout",
     "output_type": "stream",
     "text": [
      "Reading CSV file: dot2_ytd_0623.csv\n"
     ]
    },
    {
     "name": "stderr",
     "output_type": "stream",
     "text": [
      "C:\\Users\\DELL\\AppData\\Local\\Temp\\ipykernel_5400\\3904819786.py:19: DtypeWarning: Columns (4,11) have mixed types. Specify dtype option on import or set low_memory=False.\n",
      "  for i, chunk in enumerate(pd.read_csv(file_path, encoding='utf-8', chunksize=chunk_size)):\n"
     ]
    },
    {
     "name": "stdout",
     "output_type": "stream",
     "text": [
      "Reading CSV file: dot3_0623.csv\n",
      "Reading CSV file: dot3_ytd_0623.csv\n",
      "Extracting: March2023.zip\n",
      "Reading CSV file: dot1_0323.csv\n",
      "Reading CSV file: dot1_ytd_0323.csv\n",
      "Reading CSV file: dot2_0323.csv\n"
     ]
    },
    {
     "name": "stderr",
     "output_type": "stream",
     "text": [
      "C:\\Users\\DELL\\AppData\\Local\\Temp\\ipykernel_5400\\3904819786.py:19: DtypeWarning: Columns (4,11) have mixed types. Specify dtype option on import or set low_memory=False.\n",
      "  for i, chunk in enumerate(pd.read_csv(file_path, encoding='utf-8', chunksize=chunk_size)):\n"
     ]
    },
    {
     "name": "stdout",
     "output_type": "stream",
     "text": [
      "Reading CSV file: dot2_ytd_0323.csv\n",
      "Reading CSV file: dot3_0323.csv\n",
      "Reading CSV file: dot3_ytd_0323.csv\n",
      "Extracting: May2023.zip\n",
      "Reading CSV file: dot1_0523.csv\n",
      "Reading CSV file: dot1_ytd_0523.csv\n",
      "Reading CSV file: dot2_0523.csv\n"
     ]
    },
    {
     "name": "stderr",
     "output_type": "stream",
     "text": [
      "C:\\Users\\DELL\\AppData\\Local\\Temp\\ipykernel_5400\\3904819786.py:19: DtypeWarning: Columns (4,11) have mixed types. Specify dtype option on import or set low_memory=False.\n",
      "  for i, chunk in enumerate(pd.read_csv(file_path, encoding='utf-8', chunksize=chunk_size)):\n"
     ]
    },
    {
     "name": "stdout",
     "output_type": "stream",
     "text": [
      "Reading CSV file: dot2_ytd_0523.csv\n"
     ]
    },
    {
     "name": "stderr",
     "output_type": "stream",
     "text": [
      "C:\\Users\\DELL\\AppData\\Local\\Temp\\ipykernel_5400\\3904819786.py:19: DtypeWarning: Columns (4,11) have mixed types. Specify dtype option on import or set low_memory=False.\n",
      "  for i, chunk in enumerate(pd.read_csv(file_path, encoding='utf-8', chunksize=chunk_size)):\n"
     ]
    },
    {
     "name": "stdout",
     "output_type": "stream",
     "text": [
      "Reading CSV file: dot3_0523.csv\n",
      "Reading CSV file: dot3_ytd_0523.csv\n",
      "Extracting: Nov2023.zip\n",
      "Reading CSV file: dot1_1123.csv\n",
      "Reading CSV file: dot2_1123.csv\n"
     ]
    },
    {
     "name": "stderr",
     "output_type": "stream",
     "text": [
      "C:\\Users\\DELL\\AppData\\Local\\Temp\\ipykernel_5400\\3904819786.py:19: DtypeWarning: Columns (4,11) have mixed types. Specify dtype option on import or set low_memory=False.\n",
      "  for i, chunk in enumerate(pd.read_csv(file_path, encoding='utf-8', chunksize=chunk_size)):\n"
     ]
    },
    {
     "name": "stdout",
     "output_type": "stream",
     "text": [
      "Reading CSV file: dot3_1123.csv\n",
      "Extracting: Oct2023.zip\n",
      "Reading CSV file: dot1_1023.csv\n",
      "Reading CSV file: dot2_1023.csv\n"
     ]
    },
    {
     "name": "stderr",
     "output_type": "stream",
     "text": [
      "C:\\Users\\DELL\\AppData\\Local\\Temp\\ipykernel_5400\\3904819786.py:19: DtypeWarning: Columns (4,11) have mixed types. Specify dtype option on import or set low_memory=False.\n",
      "  for i, chunk in enumerate(pd.read_csv(file_path, encoding='utf-8', chunksize=chunk_size)):\n"
     ]
    },
    {
     "name": "stdout",
     "output_type": "stream",
     "text": [
      "Reading CSV file: dot3_1023.csv\n",
      "Extracting: sept2023.zip\n",
      "Reading CSV file: dot1_0923.csv\n",
      "Reading CSV file: dot2_0923.csv\n"
     ]
    },
    {
     "name": "stderr",
     "output_type": "stream",
     "text": [
      "C:\\Users\\DELL\\AppData\\Local\\Temp\\ipykernel_5400\\3904819786.py:19: DtypeWarning: Columns (4,11) have mixed types. Specify dtype option on import or set low_memory=False.\n",
      "  for i, chunk in enumerate(pd.read_csv(file_path, encoding='utf-8', chunksize=chunk_size)):\n"
     ]
    },
    {
     "name": "stdout",
     "output_type": "stream",
     "text": [
      "Reading CSV file: dot3_0923.csv\n",
      "Processing year folder: 2024\n",
      "Extracting: April2024.zip\n",
      "Reading CSV file: dot1_0424.csv\n",
      "Reading CSV file: dot2_0424.csv\n"
     ]
    },
    {
     "name": "stderr",
     "output_type": "stream",
     "text": [
      "C:\\Users\\DELL\\AppData\\Local\\Temp\\ipykernel_5400\\3904819786.py:19: DtypeWarning: Columns (4,11) have mixed types. Specify dtype option on import or set low_memory=False.\n",
      "  for i, chunk in enumerate(pd.read_csv(file_path, encoding='utf-8', chunksize=chunk_size)):\n"
     ]
    },
    {
     "name": "stdout",
     "output_type": "stream",
     "text": [
      "Reading CSV file: dot3_0424.csv\n",
      "Extracting: August2024.zip\n",
      "Reading CSV file: dot1_0824.csv\n",
      "Reading CSV file: dot2_0824.csv\n"
     ]
    },
    {
     "name": "stderr",
     "output_type": "stream",
     "text": [
      "C:\\Users\\DELL\\AppData\\Local\\Temp\\ipykernel_5400\\3904819786.py:19: DtypeWarning: Columns (4,11) have mixed types. Specify dtype option on import or set low_memory=False.\n",
      "  for i, chunk in enumerate(pd.read_csv(file_path, encoding='utf-8', chunksize=chunk_size)):\n"
     ]
    },
    {
     "name": "stdout",
     "output_type": "stream",
     "text": [
      "Reading CSV file: dot3_0824.csv\n",
      "Extracting: Feb2024.zip\n",
      "Reading CSV file: dot1_0224.csv\n",
      "Reading CSV file: dot2_0224.csv\n"
     ]
    },
    {
     "name": "stderr",
     "output_type": "stream",
     "text": [
      "C:\\Users\\DELL\\AppData\\Local\\Temp\\ipykernel_5400\\3904819786.py:19: DtypeWarning: Columns (4,11) have mixed types. Specify dtype option on import or set low_memory=False.\n",
      "  for i, chunk in enumerate(pd.read_csv(file_path, encoding='utf-8', chunksize=chunk_size)):\n"
     ]
    },
    {
     "name": "stdout",
     "output_type": "stream",
     "text": [
      "Reading CSV file: dot3_0224.csv\n",
      "Extracting: Jan2024.zip\n",
      "Reading CSV file: dot1_0124.csv\n",
      "Reading CSV file: dot2_0124.csv\n"
     ]
    },
    {
     "name": "stderr",
     "output_type": "stream",
     "text": [
      "C:\\Users\\DELL\\AppData\\Local\\Temp\\ipykernel_5400\\3904819786.py:19: DtypeWarning: Columns (4,11) have mixed types. Specify dtype option on import or set low_memory=False.\n",
      "  for i, chunk in enumerate(pd.read_csv(file_path, encoding='utf-8', chunksize=chunk_size)):\n"
     ]
    },
    {
     "name": "stdout",
     "output_type": "stream",
     "text": [
      "Reading CSV file: dot3_0124.csv\n",
      "Extracting: July2024.zip\n",
      "Reading CSV file: dot1_0724.csv\n",
      "Reading CSV file: dot2_0724.csv\n"
     ]
    },
    {
     "name": "stderr",
     "output_type": "stream",
     "text": [
      "C:\\Users\\DELL\\AppData\\Local\\Temp\\ipykernel_5400\\3904819786.py:19: DtypeWarning: Columns (4,11) have mixed types. Specify dtype option on import or set low_memory=False.\n",
      "  for i, chunk in enumerate(pd.read_csv(file_path, encoding='utf-8', chunksize=chunk_size)):\n"
     ]
    },
    {
     "name": "stdout",
     "output_type": "stream",
     "text": [
      "Reading CSV file: dot3_0724.csv\n",
      "Extracting: June2024.zip\n",
      "Reading CSV file: dot1_0624.csv\n",
      "Reading CSV file: dot2_0624.csv\n"
     ]
    },
    {
     "name": "stderr",
     "output_type": "stream",
     "text": [
      "C:\\Users\\DELL\\AppData\\Local\\Temp\\ipykernel_5400\\3904819786.py:19: DtypeWarning: Columns (4,11) have mixed types. Specify dtype option on import or set low_memory=False.\n",
      "  for i, chunk in enumerate(pd.read_csv(file_path, encoding='utf-8', chunksize=chunk_size)):\n"
     ]
    },
    {
     "name": "stdout",
     "output_type": "stream",
     "text": [
      "Reading CSV file: dot3_0624.csv\n",
      "Extracting: March2024.zip\n",
      "Reading CSV file: dot1_0324.csv\n",
      "Reading CSV file: dot2_0324.csv\n"
     ]
    },
    {
     "name": "stderr",
     "output_type": "stream",
     "text": [
      "C:\\Users\\DELL\\AppData\\Local\\Temp\\ipykernel_5400\\3904819786.py:19: DtypeWarning: Columns (4,11) have mixed types. Specify dtype option on import or set low_memory=False.\n",
      "  for i, chunk in enumerate(pd.read_csv(file_path, encoding='utf-8', chunksize=chunk_size)):\n"
     ]
    },
    {
     "name": "stdout",
     "output_type": "stream",
     "text": [
      "Extracting: May2024.zip\n",
      "Reading CSV file: dot1_0524.csv\n",
      "Reading CSV file: dot2_0524.csv\n"
     ]
    },
    {
     "name": "stderr",
     "output_type": "stream",
     "text": [
      "C:\\Users\\DELL\\AppData\\Local\\Temp\\ipykernel_5400\\3904819786.py:19: DtypeWarning: Columns (4,11) have mixed types. Specify dtype option on import or set low_memory=False.\n",
      "  for i, chunk in enumerate(pd.read_csv(file_path, encoding='utf-8', chunksize=chunk_size)):\n"
     ]
    },
    {
     "name": "stdout",
     "output_type": "stream",
     "text": [
      "Reading CSV file: dot3_0524.csv\n",
      "Extracting: september2024.zip\n",
      "Reading CSV file: dot1_0924.csv\n",
      "Reading CSV file: dot2_0924.csv\n"
     ]
    },
    {
     "name": "stderr",
     "output_type": "stream",
     "text": [
      "C:\\Users\\DELL\\AppData\\Local\\Temp\\ipykernel_5400\\3904819786.py:19: DtypeWarning: Columns (4,11) have mixed types. Specify dtype option on import or set low_memory=False.\n",
      "  for i, chunk in enumerate(pd.read_csv(file_path, encoding='utf-8', chunksize=chunk_size)):\n"
     ]
    },
    {
     "name": "stdout",
     "output_type": "stream",
     "text": [
      "Reading CSV file: dot3_0924.csv\n"
     ]
    },
    {
     "name": "stderr",
     "output_type": "stream",
     "text": [
      "C:\\Users\\DELL\\AppData\\Local\\Temp\\ipykernel_5400\\3904819786.py:74: DtypeWarning: Columns (4,11) have mixed types. Specify dtype option on import or set low_memory=False.\n",
      "  combined_df = pd.concat((pd.read_csv(f) for f in chunk_files), ignore_index=True)\n",
      "C:\\Users\\DELL\\AppData\\Local\\Temp\\ipykernel_5400\\3904819786.py:74: DtypeWarning: Columns (4,11) have mixed types. Specify dtype option on import or set low_memory=False.\n",
      "  combined_df = pd.concat((pd.read_csv(f) for f in chunk_files), ignore_index=True)\n",
      "C:\\Users\\DELL\\AppData\\Local\\Temp\\ipykernel_5400\\3904819786.py:74: DtypeWarning: Columns (4,11) have mixed types. Specify dtype option on import or set low_memory=False.\n",
      "  combined_df = pd.concat((pd.read_csv(f) for f in chunk_files), ignore_index=True)\n",
      "C:\\Users\\DELL\\AppData\\Local\\Temp\\ipykernel_5400\\3904819786.py:74: DtypeWarning: Columns (4,11) have mixed types. Specify dtype option on import or set low_memory=False.\n",
      "  combined_df = pd.concat((pd.read_csv(f) for f in chunk_files), ignore_index=True)\n",
      "C:\\Users\\DELL\\AppData\\Local\\Temp\\ipykernel_5400\\3904819786.py:74: DtypeWarning: Columns (4,11) have mixed types. Specify dtype option on import or set low_memory=False.\n",
      "  combined_df = pd.concat((pd.read_csv(f) for f in chunk_files), ignore_index=True)\n",
      "C:\\Users\\DELL\\AppData\\Local\\Temp\\ipykernel_5400\\3904819786.py:74: DtypeWarning: Columns (4,11) have mixed types. Specify dtype option on import or set low_memory=False.\n",
      "  combined_df = pd.concat((pd.read_csv(f) for f in chunk_files), ignore_index=True)\n",
      "C:\\Users\\DELL\\AppData\\Local\\Temp\\ipykernel_5400\\3904819786.py:74: DtypeWarning: Columns (4,11) have mixed types. Specify dtype option on import or set low_memory=False.\n",
      "  combined_df = pd.concat((pd.read_csv(f) for f in chunk_files), ignore_index=True)\n",
      "C:\\Users\\DELL\\AppData\\Local\\Temp\\ipykernel_5400\\3904819786.py:74: DtypeWarning: Columns (4,11) have mixed types. Specify dtype option on import or set low_memory=False.\n",
      "  combined_df = pd.concat((pd.read_csv(f) for f in chunk_files), ignore_index=True)\n",
      "C:\\Users\\DELL\\AppData\\Local\\Temp\\ipykernel_5400\\3904819786.py:74: DtypeWarning: Columns (4,11) have mixed types. Specify dtype option on import or set low_memory=False.\n",
      "  combined_df = pd.concat((pd.read_csv(f) for f in chunk_files), ignore_index=True)\n",
      "C:\\Users\\DELL\\AppData\\Local\\Temp\\ipykernel_5400\\3904819786.py:74: DtypeWarning: Columns (4,11) have mixed types. Specify dtype option on import or set low_memory=False.\n",
      "  combined_df = pd.concat((pd.read_csv(f) for f in chunk_files), ignore_index=True)\n",
      "C:\\Users\\DELL\\AppData\\Local\\Temp\\ipykernel_5400\\3904819786.py:74: DtypeWarning: Columns (4,11) have mixed types. Specify dtype option on import or set low_memory=False.\n",
      "  combined_df = pd.concat((pd.read_csv(f) for f in chunk_files), ignore_index=True)\n",
      "C:\\Users\\DELL\\AppData\\Local\\Temp\\ipykernel_5400\\3904819786.py:74: DtypeWarning: Columns (4,11) have mixed types. Specify dtype option on import or set low_memory=False.\n",
      "  combined_df = pd.concat((pd.read_csv(f) for f in chunk_files), ignore_index=True)\n",
      "C:\\Users\\DELL\\AppData\\Local\\Temp\\ipykernel_5400\\3904819786.py:74: DtypeWarning: Columns (4,11) have mixed types. Specify dtype option on import or set low_memory=False.\n",
      "  combined_df = pd.concat((pd.read_csv(f) for f in chunk_files), ignore_index=True)\n",
      "C:\\Users\\DELL\\AppData\\Local\\Temp\\ipykernel_5400\\3904819786.py:74: DtypeWarning: Columns (4,11) have mixed types. Specify dtype option on import or set low_memory=False.\n",
      "  combined_df = pd.concat((pd.read_csv(f) for f in chunk_files), ignore_index=True)\n",
      "C:\\Users\\DELL\\AppData\\Local\\Temp\\ipykernel_5400\\3904819786.py:74: DtypeWarning: Columns (4,11) have mixed types. Specify dtype option on import or set low_memory=False.\n",
      "  combined_df = pd.concat((pd.read_csv(f) for f in chunk_files), ignore_index=True)\n",
      "C:\\Users\\DELL\\AppData\\Local\\Temp\\ipykernel_5400\\3904819786.py:74: DtypeWarning: Columns (4,11) have mixed types. Specify dtype option on import or set low_memory=False.\n",
      "  combined_df = pd.concat((pd.read_csv(f) for f in chunk_files), ignore_index=True)\n",
      "C:\\Users\\DELL\\AppData\\Local\\Temp\\ipykernel_5400\\3904819786.py:74: DtypeWarning: Columns (4,11) have mixed types. Specify dtype option on import or set low_memory=False.\n",
      "  combined_df = pd.concat((pd.read_csv(f) for f in chunk_files), ignore_index=True)\n",
      "C:\\Users\\DELL\\AppData\\Local\\Temp\\ipykernel_5400\\3904819786.py:74: DtypeWarning: Columns (4,11) have mixed types. Specify dtype option on import or set low_memory=False.\n",
      "  combined_df = pd.concat((pd.read_csv(f) for f in chunk_files), ignore_index=True)\n",
      "C:\\Users\\DELL\\AppData\\Local\\Temp\\ipykernel_5400\\3904819786.py:74: DtypeWarning: Columns (4,11) have mixed types. Specify dtype option on import or set low_memory=False.\n",
      "  combined_df = pd.concat((pd.read_csv(f) for f in chunk_files), ignore_index=True)\n",
      "C:\\Users\\DELL\\AppData\\Local\\Temp\\ipykernel_5400\\3904819786.py:74: DtypeWarning: Columns (4,11) have mixed types. Specify dtype option on import or set low_memory=False.\n",
      "  combined_df = pd.concat((pd.read_csv(f) for f in chunk_files), ignore_index=True)\n",
      "C:\\Users\\DELL\\AppData\\Local\\Temp\\ipykernel_5400\\3904819786.py:74: DtypeWarning: Columns (4,11) have mixed types. Specify dtype option on import or set low_memory=False.\n",
      "  combined_df = pd.concat((pd.read_csv(f) for f in chunk_files), ignore_index=True)\n",
      "C:\\Users\\DELL\\AppData\\Local\\Temp\\ipykernel_5400\\3904819786.py:74: DtypeWarning: Columns (4,11) have mixed types. Specify dtype option on import or set low_memory=False.\n",
      "  combined_df = pd.concat((pd.read_csv(f) for f in chunk_files), ignore_index=True)\n",
      "C:\\Users\\DELL\\AppData\\Local\\Temp\\ipykernel_5400\\3904819786.py:74: DtypeWarning: Columns (4,11) have mixed types. Specify dtype option on import or set low_memory=False.\n",
      "  combined_df = pd.concat((pd.read_csv(f) for f in chunk_files), ignore_index=True)\n",
      "C:\\Users\\DELL\\AppData\\Local\\Temp\\ipykernel_5400\\3904819786.py:74: DtypeWarning: Columns (4,11) have mixed types. Specify dtype option on import or set low_memory=False.\n",
      "  combined_df = pd.concat((pd.read_csv(f) for f in chunk_files), ignore_index=True)\n",
      "C:\\Users\\DELL\\AppData\\Local\\Temp\\ipykernel_5400\\3904819786.py:74: DtypeWarning: Columns (4,11) have mixed types. Specify dtype option on import or set low_memory=False.\n",
      "  combined_df = pd.concat((pd.read_csv(f) for f in chunk_files), ignore_index=True)\n",
      "C:\\Users\\DELL\\AppData\\Local\\Temp\\ipykernel_5400\\3904819786.py:74: DtypeWarning: Columns (4,11) have mixed types. Specify dtype option on import or set low_memory=False.\n",
      "  combined_df = pd.concat((pd.read_csv(f) for f in chunk_files), ignore_index=True)\n",
      "C:\\Users\\DELL\\AppData\\Local\\Temp\\ipykernel_5400\\3904819786.py:74: DtypeWarning: Columns (4,11) have mixed types. Specify dtype option on import or set low_memory=False.\n",
      "  combined_df = pd.concat((pd.read_csv(f) for f in chunk_files), ignore_index=True)\n",
      "C:\\Users\\DELL\\AppData\\Local\\Temp\\ipykernel_5400\\3904819786.py:74: DtypeWarning: Columns (4,11) have mixed types. Specify dtype option on import or set low_memory=False.\n",
      "  combined_df = pd.concat((pd.read_csv(f) for f in chunk_files), ignore_index=True)\n",
      "C:\\Users\\DELL\\AppData\\Local\\Temp\\ipykernel_5400\\3904819786.py:74: DtypeWarning: Columns (4,11) have mixed types. Specify dtype option on import or set low_memory=False.\n",
      "  combined_df = pd.concat((pd.read_csv(f) for f in chunk_files), ignore_index=True)\n",
      "C:\\Users\\DELL\\AppData\\Local\\Temp\\ipykernel_5400\\3904819786.py:74: DtypeWarning: Columns (4,11) have mixed types. Specify dtype option on import or set low_memory=False.\n",
      "  combined_df = pd.concat((pd.read_csv(f) for f in chunk_files), ignore_index=True)\n",
      "C:\\Users\\DELL\\AppData\\Local\\Temp\\ipykernel_5400\\3904819786.py:74: DtypeWarning: Columns (4,11) have mixed types. Specify dtype option on import or set low_memory=False.\n",
      "  combined_df = pd.concat((pd.read_csv(f) for f in chunk_files), ignore_index=True)\n",
      "C:\\Users\\DELL\\AppData\\Local\\Temp\\ipykernel_5400\\3904819786.py:74: DtypeWarning: Columns (4,11) have mixed types. Specify dtype option on import or set low_memory=False.\n",
      "  combined_df = pd.concat((pd.read_csv(f) for f in chunk_files), ignore_index=True)\n",
      "C:\\Users\\DELL\\AppData\\Local\\Temp\\ipykernel_5400\\3904819786.py:74: DtypeWarning: Columns (4,11) have mixed types. Specify dtype option on import or set low_memory=False.\n",
      "  combined_df = pd.concat((pd.read_csv(f) for f in chunk_files), ignore_index=True)\n",
      "C:\\Users\\DELL\\AppData\\Local\\Temp\\ipykernel_5400\\3904819786.py:74: DtypeWarning: Columns (4,11) have mixed types. Specify dtype option on import or set low_memory=False.\n",
      "  combined_df = pd.concat((pd.read_csv(f) for f in chunk_files), ignore_index=True)\n",
      "C:\\Users\\DELL\\AppData\\Local\\Temp\\ipykernel_5400\\3904819786.py:74: DtypeWarning: Columns (4,11) have mixed types. Specify dtype option on import or set low_memory=False.\n",
      "  combined_df = pd.concat((pd.read_csv(f) for f in chunk_files), ignore_index=True)\n",
      "C:\\Users\\DELL\\AppData\\Local\\Temp\\ipykernel_5400\\3904819786.py:74: DtypeWarning: Columns (4,11) have mixed types. Specify dtype option on import or set low_memory=False.\n",
      "  combined_df = pd.concat((pd.read_csv(f) for f in chunk_files), ignore_index=True)\n",
      "C:\\Users\\DELL\\AppData\\Local\\Temp\\ipykernel_5400\\3904819786.py:74: DtypeWarning: Columns (4,11) have mixed types. Specify dtype option on import or set low_memory=False.\n",
      "  combined_df = pd.concat((pd.read_csv(f) for f in chunk_files), ignore_index=True)\n",
      "C:\\Users\\DELL\\AppData\\Local\\Temp\\ipykernel_5400\\3904819786.py:74: DtypeWarning: Columns (4,11) have mixed types. Specify dtype option on import or set low_memory=False.\n",
      "  combined_df = pd.concat((pd.read_csv(f) for f in chunk_files), ignore_index=True)\n",
      "C:\\Users\\DELL\\AppData\\Local\\Temp\\ipykernel_5400\\3904819786.py:74: DtypeWarning: Columns (4,11) have mixed types. Specify dtype option on import or set low_memory=False.\n",
      "  combined_df = pd.concat((pd.read_csv(f) for f in chunk_files), ignore_index=True)\n",
      "C:\\Users\\DELL\\AppData\\Local\\Temp\\ipykernel_5400\\3904819786.py:74: DtypeWarning: Columns (4,11) have mixed types. Specify dtype option on import or set low_memory=False.\n",
      "  combined_df = pd.concat((pd.read_csv(f) for f in chunk_files), ignore_index=True)\n",
      "C:\\Users\\DELL\\AppData\\Local\\Temp\\ipykernel_5400\\3904819786.py:74: DtypeWarning: Columns (4,11) have mixed types. Specify dtype option on import or set low_memory=False.\n",
      "  combined_df = pd.concat((pd.read_csv(f) for f in chunk_files), ignore_index=True)\n",
      "C:\\Users\\DELL\\AppData\\Local\\Temp\\ipykernel_5400\\3904819786.py:74: DtypeWarning: Columns (4,11) have mixed types. Specify dtype option on import or set low_memory=False.\n",
      "  combined_df = pd.concat((pd.read_csv(f) for f in chunk_files), ignore_index=True)\n",
      "C:\\Users\\DELL\\AppData\\Local\\Temp\\ipykernel_5400\\3904819786.py:74: DtypeWarning: Columns (4,11) have mixed types. Specify dtype option on import or set low_memory=False.\n",
      "  combined_df = pd.concat((pd.read_csv(f) for f in chunk_files), ignore_index=True)\n",
      "C:\\Users\\DELL\\AppData\\Local\\Temp\\ipykernel_5400\\3904819786.py:74: DtypeWarning: Columns (4,11) have mixed types. Specify dtype option on import or set low_memory=False.\n",
      "  combined_df = pd.concat((pd.read_csv(f) for f in chunk_files), ignore_index=True)\n",
      "C:\\Users\\DELL\\AppData\\Local\\Temp\\ipykernel_5400\\3904819786.py:74: DtypeWarning: Columns (4,11) have mixed types. Specify dtype option on import or set low_memory=False.\n",
      "  combined_df = pd.concat((pd.read_csv(f) for f in chunk_files), ignore_index=True)\n",
      "C:\\Users\\DELL\\AppData\\Local\\Temp\\ipykernel_5400\\3904819786.py:74: DtypeWarning: Columns (4,11) have mixed types. Specify dtype option on import or set low_memory=False.\n",
      "  combined_df = pd.concat((pd.read_csv(f) for f in chunk_files), ignore_index=True)\n",
      "C:\\Users\\DELL\\AppData\\Local\\Temp\\ipykernel_5400\\3904819786.py:74: DtypeWarning: Columns (4,11) have mixed types. Specify dtype option on import or set low_memory=False.\n",
      "  combined_df = pd.concat((pd.read_csv(f) for f in chunk_files), ignore_index=True)\n",
      "C:\\Users\\DELL\\AppData\\Local\\Temp\\ipykernel_5400\\3904819786.py:74: DtypeWarning: Columns (4,11) have mixed types. Specify dtype option on import or set low_memory=False.\n",
      "  combined_df = pd.concat((pd.read_csv(f) for f in chunk_files), ignore_index=True)\n",
      "C:\\Users\\DELL\\AppData\\Local\\Temp\\ipykernel_5400\\3904819786.py:74: DtypeWarning: Columns (4,11) have mixed types. Specify dtype option on import or set low_memory=False.\n",
      "  combined_df = pd.concat((pd.read_csv(f) for f in chunk_files), ignore_index=True)\n",
      "C:\\Users\\DELL\\AppData\\Local\\Temp\\ipykernel_5400\\3904819786.py:74: DtypeWarning: Columns (4,11) have mixed types. Specify dtype option on import or set low_memory=False.\n",
      "  combined_df = pd.concat((pd.read_csv(f) for f in chunk_files), ignore_index=True)\n",
      "C:\\Users\\DELL\\AppData\\Local\\Temp\\ipykernel_5400\\3904819786.py:74: DtypeWarning: Columns (4,11) have mixed types. Specify dtype option on import or set low_memory=False.\n",
      "  combined_df = pd.concat((pd.read_csv(f) for f in chunk_files), ignore_index=True)\n",
      "C:\\Users\\DELL\\AppData\\Local\\Temp\\ipykernel_5400\\3904819786.py:74: DtypeWarning: Columns (4,11) have mixed types. Specify dtype option on import or set low_memory=False.\n",
      "  combined_df = pd.concat((pd.read_csv(f) for f in chunk_files), ignore_index=True)\n",
      "C:\\Users\\DELL\\AppData\\Local\\Temp\\ipykernel_5400\\3904819786.py:74: DtypeWarning: Columns (4,11) have mixed types. Specify dtype option on import or set low_memory=False.\n",
      "  combined_df = pd.concat((pd.read_csv(f) for f in chunk_files), ignore_index=True)\n",
      "C:\\Users\\DELL\\AppData\\Local\\Temp\\ipykernel_5400\\3904819786.py:74: DtypeWarning: Columns (4,11) have mixed types. Specify dtype option on import or set low_memory=False.\n",
      "  combined_df = pd.concat((pd.read_csv(f) for f in chunk_files), ignore_index=True)\n",
      "C:\\Users\\DELL\\AppData\\Local\\Temp\\ipykernel_5400\\3904819786.py:74: DtypeWarning: Columns (4,11) have mixed types. Specify dtype option on import or set low_memory=False.\n",
      "  combined_df = pd.concat((pd.read_csv(f) for f in chunk_files), ignore_index=True)\n",
      "C:\\Users\\DELL\\AppData\\Local\\Temp\\ipykernel_5400\\3904819786.py:74: DtypeWarning: Columns (4,11) have mixed types. Specify dtype option on import or set low_memory=False.\n",
      "  combined_df = pd.concat((pd.read_csv(f) for f in chunk_files), ignore_index=True)\n",
      "C:\\Users\\DELL\\AppData\\Local\\Temp\\ipykernel_5400\\3904819786.py:74: DtypeWarning: Columns (4,11) have mixed types. Specify dtype option on import or set low_memory=False.\n",
      "  combined_df = pd.concat((pd.read_csv(f) for f in chunk_files), ignore_index=True)\n",
      "C:\\Users\\DELL\\AppData\\Local\\Temp\\ipykernel_5400\\3904819786.py:74: DtypeWarning: Columns (4,11) have mixed types. Specify dtype option on import or set low_memory=False.\n",
      "  combined_df = pd.concat((pd.read_csv(f) for f in chunk_files), ignore_index=True)\n",
      "C:\\Users\\DELL\\AppData\\Local\\Temp\\ipykernel_5400\\3904819786.py:74: DtypeWarning: Columns (4,11) have mixed types. Specify dtype option on import or set low_memory=False.\n",
      "  combined_df = pd.concat((pd.read_csv(f) for f in chunk_files), ignore_index=True)\n",
      "C:\\Users\\DELL\\AppData\\Local\\Temp\\ipykernel_5400\\3904819786.py:74: DtypeWarning: Columns (4,11) have mixed types. Specify dtype option on import or set low_memory=False.\n",
      "  combined_df = pd.concat((pd.read_csv(f) for f in chunk_files), ignore_index=True)\n",
      "C:\\Users\\DELL\\AppData\\Local\\Temp\\ipykernel_5400\\3904819786.py:74: DtypeWarning: Columns (4,11) have mixed types. Specify dtype option on import or set low_memory=False.\n",
      "  combined_df = pd.concat((pd.read_csv(f) for f in chunk_files), ignore_index=True)\n",
      "C:\\Users\\DELL\\AppData\\Local\\Temp\\ipykernel_5400\\3904819786.py:74: DtypeWarning: Columns (4,11) have mixed types. Specify dtype option on import or set low_memory=False.\n",
      "  combined_df = pd.concat((pd.read_csv(f) for f in chunk_files), ignore_index=True)\n",
      "C:\\Users\\DELL\\AppData\\Local\\Temp\\ipykernel_5400\\3904819786.py:74: DtypeWarning: Columns (4,11) have mixed types. Specify dtype option on import or set low_memory=False.\n",
      "  combined_df = pd.concat((pd.read_csv(f) for f in chunk_files), ignore_index=True)\n",
      "C:\\Users\\DELL\\AppData\\Local\\Temp\\ipykernel_5400\\3904819786.py:74: DtypeWarning: Columns (4,11) have mixed types. Specify dtype option on import or set low_memory=False.\n",
      "  combined_df = pd.concat((pd.read_csv(f) for f in chunk_files), ignore_index=True)\n",
      "C:\\Users\\DELL\\AppData\\Local\\Temp\\ipykernel_5400\\3904819786.py:74: DtypeWarning: Columns (4,11) have mixed types. Specify dtype option on import or set low_memory=False.\n",
      "  combined_df = pd.concat((pd.read_csv(f) for f in chunk_files), ignore_index=True)\n",
      "C:\\Users\\DELL\\AppData\\Local\\Temp\\ipykernel_5400\\3904819786.py:74: DtypeWarning: Columns (4,11) have mixed types. Specify dtype option on import or set low_memory=False.\n",
      "  combined_df = pd.concat((pd.read_csv(f) for f in chunk_files), ignore_index=True)\n",
      "C:\\Users\\DELL\\AppData\\Local\\Temp\\ipykernel_5400\\3904819786.py:74: DtypeWarning: Columns (9) have mixed types. Specify dtype option on import or set low_memory=False.\n",
      "  combined_df = pd.concat((pd.read_csv(f) for f in chunk_files), ignore_index=True)\n",
      "C:\\Users\\DELL\\AppData\\Local\\Temp\\ipykernel_5400\\3904819786.py:74: DtypeWarning: Columns (9) have mixed types. Specify dtype option on import or set low_memory=False.\n",
      "  combined_df = pd.concat((pd.read_csv(f) for f in chunk_files), ignore_index=True)\n",
      "C:\\Users\\DELL\\AppData\\Local\\Temp\\ipykernel_5400\\3904819786.py:74: DtypeWarning: Columns (9) have mixed types. Specify dtype option on import or set low_memory=False.\n",
      "  combined_df = pd.concat((pd.read_csv(f) for f in chunk_files), ignore_index=True)\n",
      "C:\\Users\\DELL\\AppData\\Local\\Temp\\ipykernel_5400\\3904819786.py:74: DtypeWarning: Columns (9) have mixed types. Specify dtype option on import or set low_memory=False.\n",
      "  combined_df = pd.concat((pd.read_csv(f) for f in chunk_files), ignore_index=True)\n"
     ]
    },
    {
     "name": "stdout",
     "output_type": "stream",
     "text": [
      "Final combined data saved as combined_data.csv\n"
     ]
    }
   ],
   "source": [
    "\n",
    "# Paths\n",
    "main_dir = \"data\"  # Main directory containing year folders\n",
    "output_dir = \"./temp_extracted_files\"  # Temporary directory for extracted files\n",
    "chunk_dir = \"./chunked_data\"  # Directory to save chunked data\n",
    "\n",
    "# Ensure the output directories exist\n",
    "os.makedirs(output_dir, exist_ok=True)\n",
    "os.makedirs(chunk_dir, exist_ok=True)\n",
    "\n",
    "# Function to process and save chunks\n",
    "def process_and_save_chunks(file_path, year, chunk_size=100000):\n",
    "    chunk_list = []\n",
    "    try:\n",
    "        for i, chunk in enumerate(pd.read_csv(file_path, encoding='utf-8', chunksize=chunk_size)):\n",
    "            chunk['Year'] = int(year)\n",
    "            chunk_file = os.path.join(chunk_dir, f\"{os.path.basename(file_path)}_chunk_{i}.csv\")\n",
    "            chunk.to_csv(chunk_file, index=False)\n",
    "            chunk_list.append(chunk_file)\n",
    "    except UnicodeDecodeError:\n",
    "        for i, chunk in enumerate(pd.read_csv(file_path, encoding='latin1', chunksize=chunk_size)):\n",
    "            chunk['Year'] = int(year)\n",
    "            chunk_file = os.path.join(chunk_dir, f\"{os.path.basename(file_path)}_chunk_{i}.csv\")\n",
    "            chunk.to_csv(chunk_file, index=False)\n",
    "            chunk_list.append(chunk_file)\n",
    "    return chunk_list\n",
    "\n",
    "# Iterate over year folders\n",
    "for year in os.listdir(main_dir):\n",
    "    year_path = os.path.join(main_dir, year)\n",
    "    if os.path.isdir(year_path):  # Ensure it's a folder\n",
    "        print(f\"Processing year folder: {year}\")\n",
    "        \n",
    "        # Process each .zip file within the year folder\n",
    "        for month_zip in os.listdir(year_path):\n",
    "            month_zip_path = os.path.join(year_path, month_zip)\n",
    "            \n",
    "            if month_zip.endswith(\".zip\"):\n",
    "                print(f\"Extracting: {month_zip}\")\n",
    "                # Extract the .zip file\n",
    "                with zipfile.ZipFile(month_zip_path, 'r') as zip_ref:\n",
    "                    zip_ref.extractall(output_dir)\n",
    "                \n",
    "                # Process the extracted files and directories\n",
    "                for root, dirs, files in os.walk(output_dir):\n",
    "                    for file in files:\n",
    "                        extracted_file_path = os.path.join(root, file)\n",
    "                        \n",
    "                        # Check for .csv and .xlsx files\n",
    "                        if file.endswith(\".csv\"):\n",
    "                            print(f\"Reading CSV file: {file}\")\n",
    "                            process_and_save_chunks(extracted_file_path, year)\n",
    "                        \n",
    "                        elif file.endswith((\".xlsx\", \".xls\")):\n",
    "                            print(f\"Reading Excel file: {file}\")\n",
    "                            df = pd.read_excel(extracted_file_path)\n",
    "                            df['Year'] = int(year)  # Add a column for the year as integer\n",
    "                            chunk_file = os.path.join(chunk_dir, f\"{os.path.basename(file)}_{year}.csv\")\n",
    "                            df.to_csv(chunk_file, index=False)\n",
    "                \n",
    "                # Clean up the temporary directory\n",
    "                for root, dirs, files in os.walk(output_dir):\n",
    "                    for file in files:\n",
    "                        os.remove(os.path.join(root, file))\n",
    "                    for dir in dirs:\n",
    "                        shutil.rmtree(os.path.join(root, dir))\n",
    "\n",
    "# Combine all chunked CSV files into a final combined CSV file\n",
    "chunk_files = [os.path.join(chunk_dir, f) for f in os.listdir(chunk_dir) if f.endswith(\".csv\")]\n",
    "combined_df = pd.concat((pd.read_csv(f) for f in chunk_files), ignore_index=True)\n",
    "combined_file = \"combined_data.csv\"\n",
    "combined_df.to_csv(combined_file, index=False)\n",
    "print(f\"Final combined data saved as {combined_file}\")"
   ]
  },
  {
   "cell_type": "code",
   "execution_count": null,
   "metadata": {},
   "outputs": [],
   "source": []
  },
  {
   "cell_type": "code",
   "execution_count": null,
   "metadata": {},
   "outputs": [],
   "source": []
  },
  {
   "cell_type": "code",
   "execution_count": null,
   "metadata": {},
   "outputs": [],
   "source": []
  },
  {
   "cell_type": "code",
   "execution_count": 5,
   "metadata": {},
   "outputs": [
    {
     "name": "stdout",
     "output_type": "stream",
     "text": [
      "  Unnamed: 0  Year  TRDTYPE USASTATE  DEPE  DISAGMOT MEXSTATE CANPROV  \\\n",
      "0        NaN  2020      1.0       AK  07XX       3.0      NaN      XA   \n",
      "1        NaN  2020      1.0       AK  20XX       3.0      NaN      XA   \n",
      "2        NaN  2020      1.0       AK  20XX       3.0      NaN      XA   \n",
      "3        NaN  2020      1.0       AK  20XX       3.0      NaN      XC   \n",
      "4        NaN  2020      1.0       AK  20XX       3.0      NaN      XM   \n",
      "\n",
      "   COUNTRY     VALUE  SHIPWT  FREIGHT_CHARGES   DF CONTCODE  MONTH    YEAR  \\\n",
      "0   1220.0    3302.0   378.0            125.0  1.0        X    1.0  2020.0   \n",
      "1   1220.0  133362.0   137.0           1563.0  1.0        X    1.0  2020.0   \n",
      "2   1220.0   49960.0    66.0           2631.0  2.0        X    1.0  2020.0   \n",
      "3   1220.0   21184.0  3418.0            795.0  1.0        X    1.0  2020.0   \n",
      "4   1220.0    4253.0     2.0             75.0  1.0        X    1.0  2020.0   \n",
      "\n",
      "   COMMODITY2  \n",
      "0         NaN  \n",
      "1         NaN  \n",
      "2         NaN  \n",
      "3         NaN  \n",
      "4         NaN  \n"
     ]
    }
   ],
   "source": [
    "# Display the first five rows to inspect\n",
    "print(combined_df.head())\n"
   ]
  },
  {
   "cell_type": "code",
   "execution_count": 6,
   "metadata": {},
   "outputs": [
    {
     "data": {
      "text/plain": [
       "Unnamed: 0          object\n",
       "Year                object\n",
       "TRDTYPE            float64\n",
       "USASTATE            object\n",
       "DEPE                object\n",
       "DISAGMOT           float64\n",
       "MEXSTATE            object\n",
       "CANPROV             object\n",
       "COUNTRY            float64\n",
       "VALUE              float64\n",
       "SHIPWT             float64\n",
       "FREIGHT_CHARGES    float64\n",
       "DF                 float64\n",
       "CONTCODE            object\n",
       "MONTH              float64\n",
       "YEAR               float64\n",
       "COMMODITY2         float64\n",
       "dtype: object"
      ]
     },
     "execution_count": 6,
     "metadata": {},
     "output_type": "execute_result"
    }
   ],
   "source": [
    "# Check the columns and their data types\n",
    "combined_df.dtypes\n"
   ]
  },
  {
   "cell_type": "code",
   "execution_count": 7,
   "metadata": {},
   "outputs": [
    {
     "data": {
      "text/html": [
       "<div>\n",
       "<style scoped>\n",
       "    .dataframe tbody tr th:only-of-type {\n",
       "        vertical-align: middle;\n",
       "    }\n",
       "\n",
       "    .dataframe tbody tr th {\n",
       "        vertical-align: top;\n",
       "    }\n",
       "\n",
       "    .dataframe thead th {\n",
       "        text-align: right;\n",
       "    }\n",
       "</style>\n",
       "<table border=\"1\" class=\"dataframe\">\n",
       "  <thead>\n",
       "    <tr style=\"text-align: right;\">\n",
       "      <th></th>\n",
       "      <th>Unnamed: 0</th>\n",
       "      <th>Year</th>\n",
       "      <th>TRDTYPE</th>\n",
       "      <th>USASTATE</th>\n",
       "      <th>DEPE</th>\n",
       "      <th>DISAGMOT</th>\n",
       "      <th>MEXSTATE</th>\n",
       "      <th>CANPROV</th>\n",
       "      <th>COUNTRY</th>\n",
       "      <th>VALUE</th>\n",
       "      <th>SHIPWT</th>\n",
       "      <th>FREIGHT_CHARGES</th>\n",
       "      <th>DF</th>\n",
       "      <th>CONTCODE</th>\n",
       "      <th>MONTH</th>\n",
       "      <th>YEAR</th>\n",
       "      <th>COMMODITY2</th>\n",
       "    </tr>\n",
       "  </thead>\n",
       "  <tbody>\n",
       "    <tr>\n",
       "      <th>35391222</th>\n",
       "      <td>NaN</td>\n",
       "      <td>2022</td>\n",
       "      <td>2.0</td>\n",
       "      <td>NaN</td>\n",
       "      <td>55XX</td>\n",
       "      <td>5.0</td>\n",
       "      <td>NaN</td>\n",
       "      <td>NaN</td>\n",
       "      <td>1220.0</td>\n",
       "      <td>3132978.0</td>\n",
       "      <td>4396.0</td>\n",
       "      <td>2857.0</td>\n",
       "      <td>NaN</td>\n",
       "      <td>0</td>\n",
       "      <td>12.0</td>\n",
       "      <td>2022.0</td>\n",
       "      <td>98.0</td>\n",
       "    </tr>\n",
       "    <tr>\n",
       "      <th>35391223</th>\n",
       "      <td>NaN</td>\n",
       "      <td>2022</td>\n",
       "      <td>2.0</td>\n",
       "      <td>NaN</td>\n",
       "      <td>60XX</td>\n",
       "      <td>8.0</td>\n",
       "      <td>NaN</td>\n",
       "      <td>NaN</td>\n",
       "      <td>1220.0</td>\n",
       "      <td>14944.0</td>\n",
       "      <td>680.0</td>\n",
       "      <td>150.0</td>\n",
       "      <td>NaN</td>\n",
       "      <td>0</td>\n",
       "      <td>12.0</td>\n",
       "      <td>2022.0</td>\n",
       "      <td>89.0</td>\n",
       "    </tr>\n",
       "    <tr>\n",
       "      <th>35391224</th>\n",
       "      <td>NaN</td>\n",
       "      <td>2022</td>\n",
       "      <td>2.0</td>\n",
       "      <td>NaN</td>\n",
       "      <td>60XX</td>\n",
       "      <td>8.0</td>\n",
       "      <td>NaN</td>\n",
       "      <td>NaN</td>\n",
       "      <td>1220.0</td>\n",
       "      <td>5000.0</td>\n",
       "      <td>17.0</td>\n",
       "      <td>450.0</td>\n",
       "      <td>NaN</td>\n",
       "      <td>0</td>\n",
       "      <td>12.0</td>\n",
       "      <td>2022.0</td>\n",
       "      <td>98.0</td>\n",
       "    </tr>\n",
       "    <tr>\n",
       "      <th>35391225</th>\n",
       "      <td>NaN</td>\n",
       "      <td>2022</td>\n",
       "      <td>2.0</td>\n",
       "      <td>NaN</td>\n",
       "      <td>70XX</td>\n",
       "      <td>8.0</td>\n",
       "      <td>NaN</td>\n",
       "      <td>NaN</td>\n",
       "      <td>1220.0</td>\n",
       "      <td>207760408.0</td>\n",
       "      <td>0.0</td>\n",
       "      <td>0.0</td>\n",
       "      <td>NaN</td>\n",
       "      <td>0</td>\n",
       "      <td>12.0</td>\n",
       "      <td>2022.0</td>\n",
       "      <td>99.0</td>\n",
       "    </tr>\n",
       "    <tr>\n",
       "      <th>35391226</th>\n",
       "      <td>NaN</td>\n",
       "      <td>2022</td>\n",
       "      <td>2.0</td>\n",
       "      <td>NaN</td>\n",
       "      <td>70XX</td>\n",
       "      <td>8.0</td>\n",
       "      <td>NaN</td>\n",
       "      <td>NaN</td>\n",
       "      <td>2010.0</td>\n",
       "      <td>221420268.0</td>\n",
       "      <td>0.0</td>\n",
       "      <td>0.0</td>\n",
       "      <td>NaN</td>\n",
       "      <td>0</td>\n",
       "      <td>12.0</td>\n",
       "      <td>2022.0</td>\n",
       "      <td>99.0</td>\n",
       "    </tr>\n",
       "  </tbody>\n",
       "</table>\n",
       "</div>"
      ],
      "text/plain": [
       "         Unnamed: 0  Year  TRDTYPE USASTATE  DEPE  DISAGMOT MEXSTATE CANPROV  \\\n",
       "35391222        NaN  2022      2.0      NaN  55XX       5.0      NaN     NaN   \n",
       "35391223        NaN  2022      2.0      NaN  60XX       8.0      NaN     NaN   \n",
       "35391224        NaN  2022      2.0      NaN  60XX       8.0      NaN     NaN   \n",
       "35391225        NaN  2022      2.0      NaN  70XX       8.0      NaN     NaN   \n",
       "35391226        NaN  2022      2.0      NaN  70XX       8.0      NaN     NaN   \n",
       "\n",
       "          COUNTRY        VALUE  SHIPWT  FREIGHT_CHARGES  DF CONTCODE  MONTH  \\\n",
       "35391222   1220.0    3132978.0  4396.0           2857.0 NaN        0   12.0   \n",
       "35391223   1220.0      14944.0   680.0            150.0 NaN        0   12.0   \n",
       "35391224   1220.0       5000.0    17.0            450.0 NaN        0   12.0   \n",
       "35391225   1220.0  207760408.0     0.0              0.0 NaN        0   12.0   \n",
       "35391226   2010.0  221420268.0     0.0              0.0 NaN        0   12.0   \n",
       "\n",
       "            YEAR  COMMODITY2  \n",
       "35391222  2022.0        98.0  \n",
       "35391223  2022.0        89.0  \n",
       "35391224  2022.0        98.0  \n",
       "35391225  2022.0        99.0  \n",
       "35391226  2022.0        99.0  "
      ]
     },
     "execution_count": 7,
     "metadata": {},
     "output_type": "execute_result"
    }
   ],
   "source": [
    "# Display the last five rows of the DataFrame\n",
    "combined_df.tail()\n"
   ]
  },
  {
   "cell_type": "code",
   "execution_count": 8,
   "metadata": {},
   "outputs": [
    {
     "data": {
      "text/html": [
       "<div>\n",
       "<style scoped>\n",
       "    .dataframe tbody tr th:only-of-type {\n",
       "        vertical-align: middle;\n",
       "    }\n",
       "\n",
       "    .dataframe tbody tr th {\n",
       "        vertical-align: top;\n",
       "    }\n",
       "\n",
       "    .dataframe thead th {\n",
       "        text-align: right;\n",
       "    }\n",
       "</style>\n",
       "<table border=\"1\" class=\"dataframe\">\n",
       "  <thead>\n",
       "    <tr style=\"text-align: right;\">\n",
       "      <th></th>\n",
       "      <th>Unnamed: 0</th>\n",
       "      <th>Year</th>\n",
       "      <th>TRDTYPE</th>\n",
       "      <th>USASTATE</th>\n",
       "      <th>DEPE</th>\n",
       "      <th>DISAGMOT</th>\n",
       "      <th>MEXSTATE</th>\n",
       "      <th>CANPROV</th>\n",
       "      <th>COUNTRY</th>\n",
       "      <th>VALUE</th>\n",
       "      <th>SHIPWT</th>\n",
       "      <th>FREIGHT_CHARGES</th>\n",
       "      <th>DF</th>\n",
       "      <th>CONTCODE</th>\n",
       "      <th>MONTH</th>\n",
       "      <th>YEAR</th>\n",
       "      <th>COMMODITY2</th>\n",
       "    </tr>\n",
       "  </thead>\n",
       "  <tbody>\n",
       "    <tr>\n",
       "      <th>0</th>\n",
       "      <td>NaN</td>\n",
       "      <td>2020</td>\n",
       "      <td>1.0</td>\n",
       "      <td>AK</td>\n",
       "      <td>07XX</td>\n",
       "      <td>3.0</td>\n",
       "      <td>NaN</td>\n",
       "      <td>XA</td>\n",
       "      <td>1220.0</td>\n",
       "      <td>3302.0</td>\n",
       "      <td>378.0</td>\n",
       "      <td>125.0</td>\n",
       "      <td>1.0</td>\n",
       "      <td>X</td>\n",
       "      <td>1.0</td>\n",
       "      <td>2020.0</td>\n",
       "      <td>NaN</td>\n",
       "    </tr>\n",
       "    <tr>\n",
       "      <th>1</th>\n",
       "      <td>NaN</td>\n",
       "      <td>2020</td>\n",
       "      <td>1.0</td>\n",
       "      <td>AK</td>\n",
       "      <td>20XX</td>\n",
       "      <td>3.0</td>\n",
       "      <td>NaN</td>\n",
       "      <td>XA</td>\n",
       "      <td>1220.0</td>\n",
       "      <td>133362.0</td>\n",
       "      <td>137.0</td>\n",
       "      <td>1563.0</td>\n",
       "      <td>1.0</td>\n",
       "      <td>X</td>\n",
       "      <td>1.0</td>\n",
       "      <td>2020.0</td>\n",
       "      <td>NaN</td>\n",
       "    </tr>\n",
       "    <tr>\n",
       "      <th>2</th>\n",
       "      <td>NaN</td>\n",
       "      <td>2020</td>\n",
       "      <td>1.0</td>\n",
       "      <td>AK</td>\n",
       "      <td>20XX</td>\n",
       "      <td>3.0</td>\n",
       "      <td>NaN</td>\n",
       "      <td>XA</td>\n",
       "      <td>1220.0</td>\n",
       "      <td>49960.0</td>\n",
       "      <td>66.0</td>\n",
       "      <td>2631.0</td>\n",
       "      <td>2.0</td>\n",
       "      <td>X</td>\n",
       "      <td>1.0</td>\n",
       "      <td>2020.0</td>\n",
       "      <td>NaN</td>\n",
       "    </tr>\n",
       "    <tr>\n",
       "      <th>3</th>\n",
       "      <td>NaN</td>\n",
       "      <td>2020</td>\n",
       "      <td>1.0</td>\n",
       "      <td>AK</td>\n",
       "      <td>20XX</td>\n",
       "      <td>3.0</td>\n",
       "      <td>NaN</td>\n",
       "      <td>XC</td>\n",
       "      <td>1220.0</td>\n",
       "      <td>21184.0</td>\n",
       "      <td>3418.0</td>\n",
       "      <td>795.0</td>\n",
       "      <td>1.0</td>\n",
       "      <td>X</td>\n",
       "      <td>1.0</td>\n",
       "      <td>2020.0</td>\n",
       "      <td>NaN</td>\n",
       "    </tr>\n",
       "    <tr>\n",
       "      <th>4</th>\n",
       "      <td>NaN</td>\n",
       "      <td>2020</td>\n",
       "      <td>1.0</td>\n",
       "      <td>AK</td>\n",
       "      <td>20XX</td>\n",
       "      <td>3.0</td>\n",
       "      <td>NaN</td>\n",
       "      <td>XM</td>\n",
       "      <td>1220.0</td>\n",
       "      <td>4253.0</td>\n",
       "      <td>2.0</td>\n",
       "      <td>75.0</td>\n",
       "      <td>1.0</td>\n",
       "      <td>X</td>\n",
       "      <td>1.0</td>\n",
       "      <td>2020.0</td>\n",
       "      <td>NaN</td>\n",
       "    </tr>\n",
       "  </tbody>\n",
       "</table>\n",
       "</div>"
      ],
      "text/plain": [
       "  Unnamed: 0  Year  TRDTYPE USASTATE  DEPE  DISAGMOT MEXSTATE CANPROV  \\\n",
       "0        NaN  2020      1.0       AK  07XX       3.0      NaN      XA   \n",
       "1        NaN  2020      1.0       AK  20XX       3.0      NaN      XA   \n",
       "2        NaN  2020      1.0       AK  20XX       3.0      NaN      XA   \n",
       "3        NaN  2020      1.0       AK  20XX       3.0      NaN      XC   \n",
       "4        NaN  2020      1.0       AK  20XX       3.0      NaN      XM   \n",
       "\n",
       "   COUNTRY     VALUE  SHIPWT  FREIGHT_CHARGES   DF CONTCODE  MONTH    YEAR  \\\n",
       "0   1220.0    3302.0   378.0            125.0  1.0        X    1.0  2020.0   \n",
       "1   1220.0  133362.0   137.0           1563.0  1.0        X    1.0  2020.0   \n",
       "2   1220.0   49960.0    66.0           2631.0  2.0        X    1.0  2020.0   \n",
       "3   1220.0   21184.0  3418.0            795.0  1.0        X    1.0  2020.0   \n",
       "4   1220.0    4253.0     2.0             75.0  1.0        X    1.0  2020.0   \n",
       "\n",
       "   COMMODITY2  \n",
       "0         NaN  \n",
       "1         NaN  \n",
       "2         NaN  \n",
       "3         NaN  \n",
       "4         NaN  "
      ]
     },
     "execution_count": 8,
     "metadata": {},
     "output_type": "execute_result"
    }
   ],
   "source": [
    "# check first five rows\n",
    "\n",
    "combined_df.head()"
   ]
  },
  {
   "cell_type": "code",
   "execution_count": 9,
   "metadata": {},
   "outputs": [
    {
     "data": {
      "text/plain": [
       "(35391227, 17)"
      ]
     },
     "execution_count": 9,
     "metadata": {},
     "output_type": "execute_result"
    }
   ],
   "source": [
    "# Check the total number of rows and columns in the DataFrame\n",
    "combined_df.shape\n"
   ]
  },
  {
   "cell_type": "code",
   "execution_count": 10,
   "metadata": {},
   "outputs": [
    {
     "name": "stdout",
     "output_type": "stream",
     "text": [
      "Unique values in YEAR column:\n",
      "[2020. 2021. 2022. 2023. 2024.   nan]\n",
      "Unique values in Year column:\n",
      "[2020 2021 2022 2023 2024]\n"
     ]
    }
   ],
   "source": [
    "# Check unique values in the YEAR column\n",
    "print(\"Unique values in YEAR column:\")\n",
    "print(combined_df['YEAR'].unique())\n",
    "\n",
    "# Check unique values in the Year column\n",
    "print(\"Unique values in Year column:\")\n",
    "print(combined_df['Year'].unique())"
   ]
  },
  {
   "cell_type": "code",
   "execution_count": null,
   "metadata": {},
   "outputs": [],
   "source": []
  },
  {
   "cell_type": "code",
   "execution_count": 1,
   "metadata": {},
   "outputs": [
    {
     "name": "stderr",
     "output_type": "stream",
     "text": [
      "C:\\Users\\DELL\\AppData\\Local\\Temp\\ipykernel_15952\\1041252876.py:13: DtypeWarning: Columns (6,13) have mixed types. Specify dtype option on import or set low_memory=False.\n",
      "  for i, chunk in enumerate(chunks):\n",
      "C:\\Users\\DELL\\AppData\\Local\\Temp\\ipykernel_15952\\1041252876.py:13: DtypeWarning: Columns (6,13) have mixed types. Specify dtype option on import or set low_memory=False.\n",
      "  for i, chunk in enumerate(chunks):\n",
      "C:\\Users\\DELL\\AppData\\Local\\Temp\\ipykernel_15952\\1041252876.py:13: DtypeWarning: Columns (6,13) have mixed types. Specify dtype option on import or set low_memory=False.\n",
      "  for i, chunk in enumerate(chunks):\n",
      "C:\\Users\\DELL\\AppData\\Local\\Temp\\ipykernel_15952\\1041252876.py:13: DtypeWarning: Columns (6,13) have mixed types. Specify dtype option on import or set low_memory=False.\n",
      "  for i, chunk in enumerate(chunks):\n",
      "C:\\Users\\DELL\\AppData\\Local\\Temp\\ipykernel_15952\\1041252876.py:13: DtypeWarning: Columns (6,13) have mixed types. Specify dtype option on import or set low_memory=False.\n",
      "  for i, chunk in enumerate(chunks):\n",
      "C:\\Users\\DELL\\AppData\\Local\\Temp\\ipykernel_15952\\1041252876.py:13: DtypeWarning: Columns (6,13) have mixed types. Specify dtype option on import or set low_memory=False.\n",
      "  for i, chunk in enumerate(chunks):\n",
      "C:\\Users\\DELL\\AppData\\Local\\Temp\\ipykernel_15952\\1041252876.py:13: DtypeWarning: Columns (6,13) have mixed types. Specify dtype option on import or set low_memory=False.\n",
      "  for i, chunk in enumerate(chunks):\n",
      "C:\\Users\\DELL\\AppData\\Local\\Temp\\ipykernel_15952\\1041252876.py:13: DtypeWarning: Columns (6,13) have mixed types. Specify dtype option on import or set low_memory=False.\n",
      "  for i, chunk in enumerate(chunks):\n",
      "C:\\Users\\DELL\\AppData\\Local\\Temp\\ipykernel_15952\\1041252876.py:13: DtypeWarning: Columns (6,13) have mixed types. Specify dtype option on import or set low_memory=False.\n",
      "  for i, chunk in enumerate(chunks):\n",
      "C:\\Users\\DELL\\AppData\\Local\\Temp\\ipykernel_15952\\1041252876.py:13: DtypeWarning: Columns (6,13) have mixed types. Specify dtype option on import or set low_memory=False.\n",
      "  for i, chunk in enumerate(chunks):\n",
      "C:\\Users\\DELL\\AppData\\Local\\Temp\\ipykernel_15952\\1041252876.py:13: DtypeWarning: Columns (6,13) have mixed types. Specify dtype option on import or set low_memory=False.\n",
      "  for i, chunk in enumerate(chunks):\n",
      "C:\\Users\\DELL\\AppData\\Local\\Temp\\ipykernel_15952\\1041252876.py:13: DtypeWarning: Columns (6,13) have mixed types. Specify dtype option on import or set low_memory=False.\n",
      "  for i, chunk in enumerate(chunks):\n",
      "C:\\Users\\DELL\\AppData\\Local\\Temp\\ipykernel_15952\\1041252876.py:13: DtypeWarning: Columns (6,13) have mixed types. Specify dtype option on import or set low_memory=False.\n",
      "  for i, chunk in enumerate(chunks):\n",
      "C:\\Users\\DELL\\AppData\\Local\\Temp\\ipykernel_15952\\1041252876.py:13: DtypeWarning: Columns (6,13) have mixed types. Specify dtype option on import or set low_memory=False.\n",
      "  for i, chunk in enumerate(chunks):\n",
      "C:\\Users\\DELL\\AppData\\Local\\Temp\\ipykernel_15952\\1041252876.py:13: DtypeWarning: Columns (6,13) have mixed types. Specify dtype option on import or set low_memory=False.\n",
      "  for i, chunk in enumerate(chunks):\n",
      "C:\\Users\\DELL\\AppData\\Local\\Temp\\ipykernel_15952\\1041252876.py:13: DtypeWarning: Columns (6,13) have mixed types. Specify dtype option on import or set low_memory=False.\n",
      "  for i, chunk in enumerate(chunks):\n",
      "C:\\Users\\DELL\\AppData\\Local\\Temp\\ipykernel_15952\\1041252876.py:13: DtypeWarning: Columns (6,13) have mixed types. Specify dtype option on import or set low_memory=False.\n",
      "  for i, chunk in enumerate(chunks):\n",
      "C:\\Users\\DELL\\AppData\\Local\\Temp\\ipykernel_15952\\1041252876.py:13: DtypeWarning: Columns (6,13) have mixed types. Specify dtype option on import or set low_memory=False.\n",
      "  for i, chunk in enumerate(chunks):\n",
      "C:\\Users\\DELL\\AppData\\Local\\Temp\\ipykernel_15952\\1041252876.py:13: DtypeWarning: Columns (6,13) have mixed types. Specify dtype option on import or set low_memory=False.\n",
      "  for i, chunk in enumerate(chunks):\n",
      "C:\\Users\\DELL\\AppData\\Local\\Temp\\ipykernel_15952\\1041252876.py:13: DtypeWarning: Columns (6,13) have mixed types. Specify dtype option on import or set low_memory=False.\n",
      "  for i, chunk in enumerate(chunks):\n",
      "C:\\Users\\DELL\\AppData\\Local\\Temp\\ipykernel_15952\\1041252876.py:13: DtypeWarning: Columns (6,13) have mixed types. Specify dtype option on import or set low_memory=False.\n",
      "  for i, chunk in enumerate(chunks):\n",
      "C:\\Users\\DELL\\AppData\\Local\\Temp\\ipykernel_15952\\1041252876.py:13: DtypeWarning: Columns (6,13) have mixed types. Specify dtype option on import or set low_memory=False.\n",
      "  for i, chunk in enumerate(chunks):\n",
      "C:\\Users\\DELL\\AppData\\Local\\Temp\\ipykernel_15952\\1041252876.py:13: DtypeWarning: Columns (6,13) have mixed types. Specify dtype option on import or set low_memory=False.\n",
      "  for i, chunk in enumerate(chunks):\n",
      "C:\\Users\\DELL\\AppData\\Local\\Temp\\ipykernel_15952\\1041252876.py:13: DtypeWarning: Columns (6,13) have mixed types. Specify dtype option on import or set low_memory=False.\n",
      "  for i, chunk in enumerate(chunks):\n",
      "C:\\Users\\DELL\\AppData\\Local\\Temp\\ipykernel_15952\\1041252876.py:13: DtypeWarning: Columns (6,13) have mixed types. Specify dtype option on import or set low_memory=False.\n",
      "  for i, chunk in enumerate(chunks):\n",
      "C:\\Users\\DELL\\AppData\\Local\\Temp\\ipykernel_15952\\1041252876.py:13: DtypeWarning: Columns (6,13) have mixed types. Specify dtype option on import or set low_memory=False.\n",
      "  for i, chunk in enumerate(chunks):\n",
      "C:\\Users\\DELL\\AppData\\Local\\Temp\\ipykernel_15952\\1041252876.py:13: DtypeWarning: Columns (6,13) have mixed types. Specify dtype option on import or set low_memory=False.\n",
      "  for i, chunk in enumerate(chunks):\n",
      "C:\\Users\\DELL\\AppData\\Local\\Temp\\ipykernel_15952\\1041252876.py:13: DtypeWarning: Columns (6,13) have mixed types. Specify dtype option on import or set low_memory=False.\n",
      "  for i, chunk in enumerate(chunks):\n",
      "C:\\Users\\DELL\\AppData\\Local\\Temp\\ipykernel_15952\\1041252876.py:13: DtypeWarning: Columns (4) have mixed types. Specify dtype option on import or set low_memory=False.\n",
      "  for i, chunk in enumerate(chunks):\n",
      "C:\\Users\\DELL\\AppData\\Local\\Temp\\ipykernel_15952\\1041252876.py:13: DtypeWarning: Columns (6,13) have mixed types. Specify dtype option on import or set low_memory=False.\n",
      "  for i, chunk in enumerate(chunks):\n",
      "C:\\Users\\DELL\\AppData\\Local\\Temp\\ipykernel_15952\\1041252876.py:13: DtypeWarning: Columns (6,13) have mixed types. Specify dtype option on import or set low_memory=False.\n",
      "  for i, chunk in enumerate(chunks):\n",
      "C:\\Users\\DELL\\AppData\\Local\\Temp\\ipykernel_15952\\1041252876.py:13: DtypeWarning: Columns (6,13) have mixed types. Specify dtype option on import or set low_memory=False.\n",
      "  for i, chunk in enumerate(chunks):\n",
      "C:\\Users\\DELL\\AppData\\Local\\Temp\\ipykernel_15952\\1041252876.py:13: DtypeWarning: Columns (6,13) have mixed types. Specify dtype option on import or set low_memory=False.\n",
      "  for i, chunk in enumerate(chunks):\n",
      "C:\\Users\\DELL\\AppData\\Local\\Temp\\ipykernel_15952\\1041252876.py:13: DtypeWarning: Columns (6,13) have mixed types. Specify dtype option on import or set low_memory=False.\n",
      "  for i, chunk in enumerate(chunks):\n",
      "C:\\Users\\DELL\\AppData\\Local\\Temp\\ipykernel_15952\\1041252876.py:13: DtypeWarning: Columns (6,13) have mixed types. Specify dtype option on import or set low_memory=False.\n",
      "  for i, chunk in enumerate(chunks):\n",
      "C:\\Users\\DELL\\AppData\\Local\\Temp\\ipykernel_15952\\1041252876.py:13: DtypeWarning: Columns (6,13) have mixed types. Specify dtype option on import or set low_memory=False.\n",
      "  for i, chunk in enumerate(chunks):\n",
      "C:\\Users\\DELL\\AppData\\Local\\Temp\\ipykernel_15952\\1041252876.py:13: DtypeWarning: Columns (6,13) have mixed types. Specify dtype option on import or set low_memory=False.\n",
      "  for i, chunk in enumerate(chunks):\n",
      "C:\\Users\\DELL\\AppData\\Local\\Temp\\ipykernel_15952\\1041252876.py:13: DtypeWarning: Columns (6,13) have mixed types. Specify dtype option on import or set low_memory=False.\n",
      "  for i, chunk in enumerate(chunks):\n",
      "C:\\Users\\DELL\\AppData\\Local\\Temp\\ipykernel_15952\\1041252876.py:13: DtypeWarning: Columns (6,13) have mixed types. Specify dtype option on import or set low_memory=False.\n",
      "  for i, chunk in enumerate(chunks):\n",
      "C:\\Users\\DELL\\AppData\\Local\\Temp\\ipykernel_15952\\1041252876.py:13: DtypeWarning: Columns (6,13) have mixed types. Specify dtype option on import or set low_memory=False.\n",
      "  for i, chunk in enumerate(chunks):\n",
      "C:\\Users\\DELL\\AppData\\Local\\Temp\\ipykernel_15952\\1041252876.py:13: DtypeWarning: Columns (6,13) have mixed types. Specify dtype option on import or set low_memory=False.\n",
      "  for i, chunk in enumerate(chunks):\n",
      "C:\\Users\\DELL\\AppData\\Local\\Temp\\ipykernel_15952\\1041252876.py:13: DtypeWarning: Columns (6,13) have mixed types. Specify dtype option on import or set low_memory=False.\n",
      "  for i, chunk in enumerate(chunks):\n",
      "C:\\Users\\DELL\\AppData\\Local\\Temp\\ipykernel_15952\\1041252876.py:13: DtypeWarning: Columns (6,13) have mixed types. Specify dtype option on import or set low_memory=False.\n",
      "  for i, chunk in enumerate(chunks):\n",
      "C:\\Users\\DELL\\AppData\\Local\\Temp\\ipykernel_15952\\1041252876.py:13: DtypeWarning: Columns (6,13) have mixed types. Specify dtype option on import or set low_memory=False.\n",
      "  for i, chunk in enumerate(chunks):\n",
      "C:\\Users\\DELL\\AppData\\Local\\Temp\\ipykernel_15952\\1041252876.py:13: DtypeWarning: Columns (6,13) have mixed types. Specify dtype option on import or set low_memory=False.\n",
      "  for i, chunk in enumerate(chunks):\n",
      "C:\\Users\\DELL\\AppData\\Local\\Temp\\ipykernel_15952\\1041252876.py:13: DtypeWarning: Columns (6,13) have mixed types. Specify dtype option on import or set low_memory=False.\n",
      "  for i, chunk in enumerate(chunks):\n",
      "C:\\Users\\DELL\\AppData\\Local\\Temp\\ipykernel_15952\\1041252876.py:13: DtypeWarning: Columns (6,13) have mixed types. Specify dtype option on import or set low_memory=False.\n",
      "  for i, chunk in enumerate(chunks):\n",
      "C:\\Users\\DELL\\AppData\\Local\\Temp\\ipykernel_15952\\1041252876.py:13: DtypeWarning: Columns (6,13) have mixed types. Specify dtype option on import or set low_memory=False.\n",
      "  for i, chunk in enumerate(chunks):\n",
      "C:\\Users\\DELL\\AppData\\Local\\Temp\\ipykernel_15952\\1041252876.py:13: DtypeWarning: Columns (6,13) have mixed types. Specify dtype option on import or set low_memory=False.\n",
      "  for i, chunk in enumerate(chunks):\n",
      "C:\\Users\\DELL\\AppData\\Local\\Temp\\ipykernel_15952\\1041252876.py:13: DtypeWarning: Columns (6,13) have mixed types. Specify dtype option on import or set low_memory=False.\n",
      "  for i, chunk in enumerate(chunks):\n",
      "C:\\Users\\DELL\\AppData\\Local\\Temp\\ipykernel_15952\\1041252876.py:13: DtypeWarning: Columns (6,13) have mixed types. Specify dtype option on import or set low_memory=False.\n",
      "  for i, chunk in enumerate(chunks):\n",
      "C:\\Users\\DELL\\AppData\\Local\\Temp\\ipykernel_15952\\1041252876.py:13: DtypeWarning: Columns (6,13) have mixed types. Specify dtype option on import or set low_memory=False.\n",
      "  for i, chunk in enumerate(chunks):\n",
      "C:\\Users\\DELL\\AppData\\Local\\Temp\\ipykernel_15952\\1041252876.py:13: DtypeWarning: Columns (6,13) have mixed types. Specify dtype option on import or set low_memory=False.\n",
      "  for i, chunk in enumerate(chunks):\n",
      "C:\\Users\\DELL\\AppData\\Local\\Temp\\ipykernel_15952\\1041252876.py:13: DtypeWarning: Columns (6,13) have mixed types. Specify dtype option on import or set low_memory=False.\n",
      "  for i, chunk in enumerate(chunks):\n",
      "C:\\Users\\DELL\\AppData\\Local\\Temp\\ipykernel_15952\\1041252876.py:13: DtypeWarning: Columns (6,13) have mixed types. Specify dtype option on import or set low_memory=False.\n",
      "  for i, chunk in enumerate(chunks):\n",
      "C:\\Users\\DELL\\AppData\\Local\\Temp\\ipykernel_15952\\1041252876.py:13: DtypeWarning: Columns (6,13) have mixed types. Specify dtype option on import or set low_memory=False.\n",
      "  for i, chunk in enumerate(chunks):\n",
      "C:\\Users\\DELL\\AppData\\Local\\Temp\\ipykernel_15952\\1041252876.py:13: DtypeWarning: Columns (6,13) have mixed types. Specify dtype option on import or set low_memory=False.\n",
      "  for i, chunk in enumerate(chunks):\n",
      "C:\\Users\\DELL\\AppData\\Local\\Temp\\ipykernel_15952\\1041252876.py:13: DtypeWarning: Columns (6,13) have mixed types. Specify dtype option on import or set low_memory=False.\n",
      "  for i, chunk in enumerate(chunks):\n",
      "C:\\Users\\DELL\\AppData\\Local\\Temp\\ipykernel_15952\\1041252876.py:13: DtypeWarning: Columns (6,13) have mixed types. Specify dtype option on import or set low_memory=False.\n",
      "  for i, chunk in enumerate(chunks):\n",
      "C:\\Users\\DELL\\AppData\\Local\\Temp\\ipykernel_15952\\1041252876.py:13: DtypeWarning: Columns (6,13) have mixed types. Specify dtype option on import or set low_memory=False.\n",
      "  for i, chunk in enumerate(chunks):\n",
      "C:\\Users\\DELL\\AppData\\Local\\Temp\\ipykernel_15952\\1041252876.py:13: DtypeWarning: Columns (6,13) have mixed types. Specify dtype option on import or set low_memory=False.\n",
      "  for i, chunk in enumerate(chunks):\n",
      "C:\\Users\\DELL\\AppData\\Local\\Temp\\ipykernel_15952\\1041252876.py:13: DtypeWarning: Columns (6,13) have mixed types. Specify dtype option on import or set low_memory=False.\n",
      "  for i, chunk in enumerate(chunks):\n",
      "C:\\Users\\DELL\\AppData\\Local\\Temp\\ipykernel_15952\\1041252876.py:13: DtypeWarning: Columns (6,13) have mixed types. Specify dtype option on import or set low_memory=False.\n",
      "  for i, chunk in enumerate(chunks):\n",
      "C:\\Users\\DELL\\AppData\\Local\\Temp\\ipykernel_15952\\1041252876.py:13: DtypeWarning: Columns (6,13) have mixed types. Specify dtype option on import or set low_memory=False.\n",
      "  for i, chunk in enumerate(chunks):\n",
      "C:\\Users\\DELL\\AppData\\Local\\Temp\\ipykernel_15952\\1041252876.py:13: DtypeWarning: Columns (6,13) have mixed types. Specify dtype option on import or set low_memory=False.\n",
      "  for i, chunk in enumerate(chunks):\n",
      "C:\\Users\\DELL\\AppData\\Local\\Temp\\ipykernel_15952\\1041252876.py:13: DtypeWarning: Columns (6,13) have mixed types. Specify dtype option on import or set low_memory=False.\n",
      "  for i, chunk in enumerate(chunks):\n",
      "C:\\Users\\DELL\\AppData\\Local\\Temp\\ipykernel_15952\\1041252876.py:13: DtypeWarning: Columns (6,13) have mixed types. Specify dtype option on import or set low_memory=False.\n",
      "  for i, chunk in enumerate(chunks):\n",
      "C:\\Users\\DELL\\AppData\\Local\\Temp\\ipykernel_15952\\1041252876.py:13: DtypeWarning: Columns (6,13) have mixed types. Specify dtype option on import or set low_memory=False.\n",
      "  for i, chunk in enumerate(chunks):\n",
      "C:\\Users\\DELL\\AppData\\Local\\Temp\\ipykernel_15952\\1041252876.py:13: DtypeWarning: Columns (6,13) have mixed types. Specify dtype option on import or set low_memory=False.\n",
      "  for i, chunk in enumerate(chunks):\n",
      "C:\\Users\\DELL\\AppData\\Local\\Temp\\ipykernel_15952\\1041252876.py:13: DtypeWarning: Columns (6,13) have mixed types. Specify dtype option on import or set low_memory=False.\n",
      "  for i, chunk in enumerate(chunks):\n",
      "C:\\Users\\DELL\\AppData\\Local\\Temp\\ipykernel_15952\\1041252876.py:13: DtypeWarning: Columns (6,13) have mixed types. Specify dtype option on import or set low_memory=False.\n",
      "  for i, chunk in enumerate(chunks):\n",
      "C:\\Users\\DELL\\AppData\\Local\\Temp\\ipykernel_15952\\1041252876.py:13: DtypeWarning: Columns (6,13) have mixed types. Specify dtype option on import or set low_memory=False.\n",
      "  for i, chunk in enumerate(chunks):\n",
      "C:\\Users\\DELL\\AppData\\Local\\Temp\\ipykernel_15952\\1041252876.py:13: DtypeWarning: Columns (6,13) have mixed types. Specify dtype option on import or set low_memory=False.\n",
      "  for i, chunk in enumerate(chunks):\n",
      "C:\\Users\\DELL\\AppData\\Local\\Temp\\ipykernel_15952\\1041252876.py:13: DtypeWarning: Columns (6,13) have mixed types. Specify dtype option on import or set low_memory=False.\n",
      "  for i, chunk in enumerate(chunks):\n",
      "C:\\Users\\DELL\\AppData\\Local\\Temp\\ipykernel_15952\\1041252876.py:13: DtypeWarning: Columns (6,13) have mixed types. Specify dtype option on import or set low_memory=False.\n",
      "  for i, chunk in enumerate(chunks):\n",
      "C:\\Users\\DELL\\AppData\\Local\\Temp\\ipykernel_15952\\1041252876.py:13: DtypeWarning: Columns (6,13) have mixed types. Specify dtype option on import or set low_memory=False.\n",
      "  for i, chunk in enumerate(chunks):\n",
      "C:\\Users\\DELL\\AppData\\Local\\Temp\\ipykernel_15952\\1041252876.py:13: DtypeWarning: Columns (6,13) have mixed types. Specify dtype option on import or set low_memory=False.\n",
      "  for i, chunk in enumerate(chunks):\n",
      "C:\\Users\\DELL\\AppData\\Local\\Temp\\ipykernel_15952\\1041252876.py:13: DtypeWarning: Columns (6,13) have mixed types. Specify dtype option on import or set low_memory=False.\n",
      "  for i, chunk in enumerate(chunks):\n",
      "C:\\Users\\DELL\\AppData\\Local\\Temp\\ipykernel_15952\\1041252876.py:13: DtypeWarning: Columns (6,13) have mixed types. Specify dtype option on import or set low_memory=False.\n",
      "  for i, chunk in enumerate(chunks):\n",
      "C:\\Users\\DELL\\AppData\\Local\\Temp\\ipykernel_15952\\1041252876.py:13: DtypeWarning: Columns (6,13) have mixed types. Specify dtype option on import or set low_memory=False.\n",
      "  for i, chunk in enumerate(chunks):\n",
      "C:\\Users\\DELL\\AppData\\Local\\Temp\\ipykernel_15952\\1041252876.py:13: DtypeWarning: Columns (6,13) have mixed types. Specify dtype option on import or set low_memory=False.\n",
      "  for i, chunk in enumerate(chunks):\n",
      "C:\\Users\\DELL\\AppData\\Local\\Temp\\ipykernel_15952\\1041252876.py:13: DtypeWarning: Columns (6,13) have mixed types. Specify dtype option on import or set low_memory=False.\n",
      "  for i, chunk in enumerate(chunks):\n",
      "C:\\Users\\DELL\\AppData\\Local\\Temp\\ipykernel_15952\\1041252876.py:13: DtypeWarning: Columns (6,13) have mixed types. Specify dtype option on import or set low_memory=False.\n",
      "  for i, chunk in enumerate(chunks):\n",
      "C:\\Users\\DELL\\AppData\\Local\\Temp\\ipykernel_15952\\1041252876.py:13: DtypeWarning: Columns (6,13) have mixed types. Specify dtype option on import or set low_memory=False.\n",
      "  for i, chunk in enumerate(chunks):\n",
      "C:\\Users\\DELL\\AppData\\Local\\Temp\\ipykernel_15952\\1041252876.py:13: DtypeWarning: Columns (6,13) have mixed types. Specify dtype option on import or set low_memory=False.\n",
      "  for i, chunk in enumerate(chunks):\n",
      "C:\\Users\\DELL\\AppData\\Local\\Temp\\ipykernel_15952\\1041252876.py:13: DtypeWarning: Columns (6,13) have mixed types. Specify dtype option on import or set low_memory=False.\n",
      "  for i, chunk in enumerate(chunks):\n",
      "C:\\Users\\DELL\\AppData\\Local\\Temp\\ipykernel_15952\\1041252876.py:13: DtypeWarning: Columns (6,13) have mixed types. Specify dtype option on import or set low_memory=False.\n",
      "  for i, chunk in enumerate(chunks):\n",
      "C:\\Users\\DELL\\AppData\\Local\\Temp\\ipykernel_15952\\1041252876.py:13: DtypeWarning: Columns (6,13) have mixed types. Specify dtype option on import or set low_memory=False.\n",
      "  for i, chunk in enumerate(chunks):\n",
      "C:\\Users\\DELL\\AppData\\Local\\Temp\\ipykernel_15952\\1041252876.py:13: DtypeWarning: Columns (6,13) have mixed types. Specify dtype option on import or set low_memory=False.\n",
      "  for i, chunk in enumerate(chunks):\n",
      "C:\\Users\\DELL\\AppData\\Local\\Temp\\ipykernel_15952\\1041252876.py:13: DtypeWarning: Columns (6,13) have mixed types. Specify dtype option on import or set low_memory=False.\n",
      "  for i, chunk in enumerate(chunks):\n",
      "C:\\Users\\DELL\\AppData\\Local\\Temp\\ipykernel_15952\\1041252876.py:13: DtypeWarning: Columns (6,13) have mixed types. Specify dtype option on import or set low_memory=False.\n",
      "  for i, chunk in enumerate(chunks):\n",
      "C:\\Users\\DELL\\AppData\\Local\\Temp\\ipykernel_15952\\1041252876.py:13: DtypeWarning: Columns (3,6,7) have mixed types. Specify dtype option on import or set low_memory=False.\n",
      "  for i, chunk in enumerate(chunks):\n",
      "C:\\Users\\DELL\\AppData\\Local\\Temp\\ipykernel_15952\\1041252876.py:13: DtypeWarning: Columns (13) have mixed types. Specify dtype option on import or set low_memory=False.\n",
      "  for i, chunk in enumerate(chunks):\n",
      "C:\\Users\\DELL\\AppData\\Local\\Temp\\ipykernel_15952\\1041252876.py:13: DtypeWarning: Columns (13) have mixed types. Specify dtype option on import or set low_memory=False.\n",
      "  for i, chunk in enumerate(chunks):\n",
      "C:\\Users\\DELL\\AppData\\Local\\Temp\\ipykernel_15952\\1041252876.py:13: DtypeWarning: Columns (13) have mixed types. Specify dtype option on import or set low_memory=False.\n",
      "  for i, chunk in enumerate(chunks):\n",
      "C:\\Users\\DELL\\AppData\\Local\\Temp\\ipykernel_15952\\1041252876.py:13: DtypeWarning: Columns (13) have mixed types. Specify dtype option on import or set low_memory=False.\n",
      "  for i, chunk in enumerate(chunks):\n",
      "C:\\Users\\DELL\\AppData\\Local\\Temp\\ipykernel_15952\\1041252876.py:13: DtypeWarning: Columns (13) have mixed types. Specify dtype option on import or set low_memory=False.\n",
      "  for i, chunk in enumerate(chunks):\n",
      "C:\\Users\\DELL\\AppData\\Local\\Temp\\ipykernel_15952\\1041252876.py:13: DtypeWarning: Columns (13) have mixed types. Specify dtype option on import or set low_memory=False.\n",
      "  for i, chunk in enumerate(chunks):\n",
      "C:\\Users\\DELL\\AppData\\Local\\Temp\\ipykernel_15952\\1041252876.py:13: DtypeWarning: Columns (13) have mixed types. Specify dtype option on import or set low_memory=False.\n",
      "  for i, chunk in enumerate(chunks):\n",
      "C:\\Users\\DELL\\AppData\\Local\\Temp\\ipykernel_15952\\1041252876.py:13: DtypeWarning: Columns (13) have mixed types. Specify dtype option on import or set low_memory=False.\n",
      "  for i, chunk in enumerate(chunks):\n",
      "C:\\Users\\DELL\\AppData\\Local\\Temp\\ipykernel_15952\\1041252876.py:13: DtypeWarning: Columns (13) have mixed types. Specify dtype option on import or set low_memory=False.\n",
      "  for i, chunk in enumerate(chunks):\n",
      "C:\\Users\\DELL\\AppData\\Local\\Temp\\ipykernel_15952\\1041252876.py:13: DtypeWarning: Columns (13) have mixed types. Specify dtype option on import or set low_memory=False.\n",
      "  for i, chunk in enumerate(chunks):\n",
      "C:\\Users\\DELL\\AppData\\Local\\Temp\\ipykernel_15952\\1041252876.py:13: DtypeWarning: Columns (13) have mixed types. Specify dtype option on import or set low_memory=False.\n",
      "  for i, chunk in enumerate(chunks):\n",
      "C:\\Users\\DELL\\AppData\\Local\\Temp\\ipykernel_15952\\1041252876.py:13: DtypeWarning: Columns (13) have mixed types. Specify dtype option on import or set low_memory=False.\n",
      "  for i, chunk in enumerate(chunks):\n",
      "C:\\Users\\DELL\\AppData\\Local\\Temp\\ipykernel_15952\\1041252876.py:13: DtypeWarning: Columns (13) have mixed types. Specify dtype option on import or set low_memory=False.\n",
      "  for i, chunk in enumerate(chunks):\n",
      "C:\\Users\\DELL\\AppData\\Local\\Temp\\ipykernel_15952\\1041252876.py:13: DtypeWarning: Columns (13) have mixed types. Specify dtype option on import or set low_memory=False.\n",
      "  for i, chunk in enumerate(chunks):\n",
      "C:\\Users\\DELL\\AppData\\Local\\Temp\\ipykernel_15952\\1041252876.py:13: DtypeWarning: Columns (13) have mixed types. Specify dtype option on import or set low_memory=False.\n",
      "  for i, chunk in enumerate(chunks):\n"
     ]
    },
    {
     "name": "stdout",
     "output_type": "stream",
     "text": [
      "Processed data saved as processed_combined_data.csv\n"
     ]
    }
   ],
   "source": [
    "\n",
    "# Paths\n",
    "combined_file = \"combined_data.csv\"\n",
    "processed_file = \"processed_combined_data.csv\"\n",
    "\n",
    "# Process the combined CSV file in chunks\n",
    "chunk_size = 100000\n",
    "chunks = pd.read_csv(combined_file, chunksize=chunk_size)\n",
    "\n",
    "# Open a new CSV file to write the processed data\n",
    "with open(processed_file, 'w', newline='') as f:\n",
    "    for i, chunk in enumerate(chunks):\n",
    "        # Drop the YEAR column\n",
    "        chunk = chunk.drop(columns=['YEAR'])\n",
    "        \n",
    "        # Write the chunk to the new CSV file\n",
    "        if i == 0:\n",
    "            chunk.to_csv(f, index=False)\n",
    "        else:\n",
    "            chunk.to_csv(f, index=False, header=False)\n",
    "\n",
    "print(f\"Processed data saved as {processed_file}\")"
   ]
  },
  {
   "cell_type": "code",
   "execution_count": null,
   "metadata": {},
   "outputs": [],
   "source": []
  },
  {
   "cell_type": "code",
   "execution_count": 4,
   "metadata": {},
   "outputs": [
    {
     "name": "stderr",
     "output_type": "stream",
     "text": [
      "C:\\Users\\DELL\\AppData\\Local\\Temp\\ipykernel_15952\\1271478972.py:15: DtypeWarning: Columns (4) have mixed types. Specify dtype option on import or set low_memory=False.\n",
      "  for chunk in chunks:\n",
      "C:\\Users\\DELL\\AppData\\Local\\Temp\\ipykernel_15952\\1271478972.py:15: DtypeWarning: Columns (6,13) have mixed types. Specify dtype option on import or set low_memory=False.\n",
      "  for chunk in chunks:\n",
      "C:\\Users\\DELL\\AppData\\Local\\Temp\\ipykernel_15952\\1271478972.py:15: DtypeWarning: Columns (6,13) have mixed types. Specify dtype option on import or set low_memory=False.\n",
      "  for chunk in chunks:\n",
      "C:\\Users\\DELL\\AppData\\Local\\Temp\\ipykernel_15952\\1271478972.py:15: DtypeWarning: Columns (6,13) have mixed types. Specify dtype option on import or set low_memory=False.\n",
      "  for chunk in chunks:\n",
      "C:\\Users\\DELL\\AppData\\Local\\Temp\\ipykernel_15952\\1271478972.py:15: DtypeWarning: Columns (6,13) have mixed types. Specify dtype option on import or set low_memory=False.\n",
      "  for chunk in chunks:\n",
      "C:\\Users\\DELL\\AppData\\Local\\Temp\\ipykernel_15952\\1271478972.py:15: DtypeWarning: Columns (6,13) have mixed types. Specify dtype option on import or set low_memory=False.\n",
      "  for chunk in chunks:\n",
      "C:\\Users\\DELL\\AppData\\Local\\Temp\\ipykernel_15952\\1271478972.py:15: DtypeWarning: Columns (6,13) have mixed types. Specify dtype option on import or set low_memory=False.\n",
      "  for chunk in chunks:\n",
      "C:\\Users\\DELL\\AppData\\Local\\Temp\\ipykernel_15952\\1271478972.py:15: DtypeWarning: Columns (6,13) have mixed types. Specify dtype option on import or set low_memory=False.\n",
      "  for chunk in chunks:\n",
      "C:\\Users\\DELL\\AppData\\Local\\Temp\\ipykernel_15952\\1271478972.py:15: DtypeWarning: Columns (6,13) have mixed types. Specify dtype option on import or set low_memory=False.\n",
      "  for chunk in chunks:\n",
      "C:\\Users\\DELL\\AppData\\Local\\Temp\\ipykernel_15952\\1271478972.py:15: DtypeWarning: Columns (6,13) have mixed types. Specify dtype option on import or set low_memory=False.\n",
      "  for chunk in chunks:\n",
      "C:\\Users\\DELL\\AppData\\Local\\Temp\\ipykernel_15952\\1271478972.py:15: DtypeWarning: Columns (6,13) have mixed types. Specify dtype option on import or set low_memory=False.\n",
      "  for chunk in chunks:\n",
      "C:\\Users\\DELL\\AppData\\Local\\Temp\\ipykernel_15952\\1271478972.py:15: DtypeWarning: Columns (6,13) have mixed types. Specify dtype option on import or set low_memory=False.\n",
      "  for chunk in chunks:\n",
      "C:\\Users\\DELL\\AppData\\Local\\Temp\\ipykernel_15952\\1271478972.py:15: DtypeWarning: Columns (6,13) have mixed types. Specify dtype option on import or set low_memory=False.\n",
      "  for chunk in chunks:\n",
      "C:\\Users\\DELL\\AppData\\Local\\Temp\\ipykernel_15952\\1271478972.py:15: DtypeWarning: Columns (6,13) have mixed types. Specify dtype option on import or set low_memory=False.\n",
      "  for chunk in chunks:\n",
      "C:\\Users\\DELL\\AppData\\Local\\Temp\\ipykernel_15952\\1271478972.py:15: DtypeWarning: Columns (6,13) have mixed types. Specify dtype option on import or set low_memory=False.\n",
      "  for chunk in chunks:\n",
      "C:\\Users\\DELL\\AppData\\Local\\Temp\\ipykernel_15952\\1271478972.py:15: DtypeWarning: Columns (6,13) have mixed types. Specify dtype option on import or set low_memory=False.\n",
      "  for chunk in chunks:\n",
      "C:\\Users\\DELL\\AppData\\Local\\Temp\\ipykernel_15952\\1271478972.py:15: DtypeWarning: Columns (6,13) have mixed types. Specify dtype option on import or set low_memory=False.\n",
      "  for chunk in chunks:\n",
      "C:\\Users\\DELL\\AppData\\Local\\Temp\\ipykernel_15952\\1271478972.py:15: DtypeWarning: Columns (6,13) have mixed types. Specify dtype option on import or set low_memory=False.\n",
      "  for chunk in chunks:\n",
      "C:\\Users\\DELL\\AppData\\Local\\Temp\\ipykernel_15952\\1271478972.py:15: DtypeWarning: Columns (6,13) have mixed types. Specify dtype option on import or set low_memory=False.\n",
      "  for chunk in chunks:\n",
      "C:\\Users\\DELL\\AppData\\Local\\Temp\\ipykernel_15952\\1271478972.py:15: DtypeWarning: Columns (6,13) have mixed types. Specify dtype option on import or set low_memory=False.\n",
      "  for chunk in chunks:\n",
      "C:\\Users\\DELL\\AppData\\Local\\Temp\\ipykernel_15952\\1271478972.py:15: DtypeWarning: Columns (6,13) have mixed types. Specify dtype option on import or set low_memory=False.\n",
      "  for chunk in chunks:\n",
      "C:\\Users\\DELL\\AppData\\Local\\Temp\\ipykernel_15952\\1271478972.py:15: DtypeWarning: Columns (6,13) have mixed types. Specify dtype option on import or set low_memory=False.\n",
      "  for chunk in chunks:\n",
      "C:\\Users\\DELL\\AppData\\Local\\Temp\\ipykernel_15952\\1271478972.py:15: DtypeWarning: Columns (6,13) have mixed types. Specify dtype option on import or set low_memory=False.\n",
      "  for chunk in chunks:\n",
      "C:\\Users\\DELL\\AppData\\Local\\Temp\\ipykernel_15952\\1271478972.py:15: DtypeWarning: Columns (6,13) have mixed types. Specify dtype option on import or set low_memory=False.\n",
      "  for chunk in chunks:\n",
      "C:\\Users\\DELL\\AppData\\Local\\Temp\\ipykernel_15952\\1271478972.py:15: DtypeWarning: Columns (6,13) have mixed types. Specify dtype option on import or set low_memory=False.\n",
      "  for chunk in chunks:\n",
      "C:\\Users\\DELL\\AppData\\Local\\Temp\\ipykernel_15952\\1271478972.py:15: DtypeWarning: Columns (6,13) have mixed types. Specify dtype option on import or set low_memory=False.\n",
      "  for chunk in chunks:\n",
      "C:\\Users\\DELL\\AppData\\Local\\Temp\\ipykernel_15952\\1271478972.py:15: DtypeWarning: Columns (6,13) have mixed types. Specify dtype option on import or set low_memory=False.\n",
      "  for chunk in chunks:\n",
      "C:\\Users\\DELL\\AppData\\Local\\Temp\\ipykernel_15952\\1271478972.py:15: DtypeWarning: Columns (6,13) have mixed types. Specify dtype option on import or set low_memory=False.\n",
      "  for chunk in chunks:\n",
      "C:\\Users\\DELL\\AppData\\Local\\Temp\\ipykernel_15952\\1271478972.py:15: DtypeWarning: Columns (6,13) have mixed types. Specify dtype option on import or set low_memory=False.\n",
      "  for chunk in chunks:\n",
      "C:\\Users\\DELL\\AppData\\Local\\Temp\\ipykernel_15952\\1271478972.py:15: DtypeWarning: Columns (6,13) have mixed types. Specify dtype option on import or set low_memory=False.\n",
      "  for chunk in chunks:\n",
      "C:\\Users\\DELL\\AppData\\Local\\Temp\\ipykernel_15952\\1271478972.py:15: DtypeWarning: Columns (6,13) have mixed types. Specify dtype option on import or set low_memory=False.\n",
      "  for chunk in chunks:\n",
      "C:\\Users\\DELL\\AppData\\Local\\Temp\\ipykernel_15952\\1271478972.py:15: DtypeWarning: Columns (6,13) have mixed types. Specify dtype option on import or set low_memory=False.\n",
      "  for chunk in chunks:\n",
      "C:\\Users\\DELL\\AppData\\Local\\Temp\\ipykernel_15952\\1271478972.py:15: DtypeWarning: Columns (6,13) have mixed types. Specify dtype option on import or set low_memory=False.\n",
      "  for chunk in chunks:\n",
      "C:\\Users\\DELL\\AppData\\Local\\Temp\\ipykernel_15952\\1271478972.py:15: DtypeWarning: Columns (6,13) have mixed types. Specify dtype option on import or set low_memory=False.\n",
      "  for chunk in chunks:\n",
      "C:\\Users\\DELL\\AppData\\Local\\Temp\\ipykernel_15952\\1271478972.py:15: DtypeWarning: Columns (6,13) have mixed types. Specify dtype option on import or set low_memory=False.\n",
      "  for chunk in chunks:\n",
      "C:\\Users\\DELL\\AppData\\Local\\Temp\\ipykernel_15952\\1271478972.py:15: DtypeWarning: Columns (6,13) have mixed types. Specify dtype option on import or set low_memory=False.\n",
      "  for chunk in chunks:\n",
      "C:\\Users\\DELL\\AppData\\Local\\Temp\\ipykernel_15952\\1271478972.py:15: DtypeWarning: Columns (6,13) have mixed types. Specify dtype option on import or set low_memory=False.\n",
      "  for chunk in chunks:\n",
      "C:\\Users\\DELL\\AppData\\Local\\Temp\\ipykernel_15952\\1271478972.py:15: DtypeWarning: Columns (6,13) have mixed types. Specify dtype option on import or set low_memory=False.\n",
      "  for chunk in chunks:\n",
      "C:\\Users\\DELL\\AppData\\Local\\Temp\\ipykernel_15952\\1271478972.py:15: DtypeWarning: Columns (6,13) have mixed types. Specify dtype option on import or set low_memory=False.\n",
      "  for chunk in chunks:\n",
      "C:\\Users\\DELL\\AppData\\Local\\Temp\\ipykernel_15952\\1271478972.py:15: DtypeWarning: Columns (6,13) have mixed types. Specify dtype option on import or set low_memory=False.\n",
      "  for chunk in chunks:\n",
      "C:\\Users\\DELL\\AppData\\Local\\Temp\\ipykernel_15952\\1271478972.py:15: DtypeWarning: Columns (6,13) have mixed types. Specify dtype option on import or set low_memory=False.\n",
      "  for chunk in chunks:\n",
      "C:\\Users\\DELL\\AppData\\Local\\Temp\\ipykernel_15952\\1271478972.py:15: DtypeWarning: Columns (6,13) have mixed types. Specify dtype option on import or set low_memory=False.\n",
      "  for chunk in chunks:\n",
      "C:\\Users\\DELL\\AppData\\Local\\Temp\\ipykernel_15952\\1271478972.py:15: DtypeWarning: Columns (6,13) have mixed types. Specify dtype option on import or set low_memory=False.\n",
      "  for chunk in chunks:\n",
      "C:\\Users\\DELL\\AppData\\Local\\Temp\\ipykernel_15952\\1271478972.py:15: DtypeWarning: Columns (6,13) have mixed types. Specify dtype option on import or set low_memory=False.\n",
      "  for chunk in chunks:\n",
      "C:\\Users\\DELL\\AppData\\Local\\Temp\\ipykernel_15952\\1271478972.py:15: DtypeWarning: Columns (6,13) have mixed types. Specify dtype option on import or set low_memory=False.\n",
      "  for chunk in chunks:\n",
      "C:\\Users\\DELL\\AppData\\Local\\Temp\\ipykernel_15952\\1271478972.py:15: DtypeWarning: Columns (6,13) have mixed types. Specify dtype option on import or set low_memory=False.\n",
      "  for chunk in chunks:\n",
      "C:\\Users\\DELL\\AppData\\Local\\Temp\\ipykernel_15952\\1271478972.py:15: DtypeWarning: Columns (3,6,7) have mixed types. Specify dtype option on import or set low_memory=False.\n",
      "  for chunk in chunks:\n"
     ]
    },
    {
     "name": "stdout",
     "output_type": "stream",
     "text": [
      "Columns in combined_df:\n",
      "Index(['Unnamed: 0', 'Year', 'TRDTYPE', 'USASTATE', 'DEPE', 'DISAGMOT',\n",
      "       'MEXSTATE', 'CANPROV', 'COUNTRY', 'VALUE', 'SHIPWT', 'FREIGHT_CHARGES',\n",
      "       'DF', 'CONTCODE', 'MONTH', 'COMMODITY2'],\n",
      "      dtype='object')\n",
      "Unique values in Year column:\n",
      "[np.int64(2020), np.int64(2021), np.int64(2022), np.int64(2023), np.int64(2024)]\n"
     ]
    }
   ],
   "source": [
    "import pandas as pd\n",
    "\n",
    "# Path to the processed CSV file\n",
    "processed_file = \"processed_combined_data.csv\"\n",
    "\n",
    "# Read the processed CSV file in smaller chunks\n",
    "chunk_size = 50000\n",
    "chunks = pd.read_csv(processed_file, chunksize=chunk_size)\n",
    "\n",
    "# Initialize variables to store column names and unique values\n",
    "columns = None\n",
    "unique_years = set()\n",
    "\n",
    "# Process each chunk\n",
    "for chunk in chunks:\n",
    "    # Get the column names\n",
    "    if columns is None:\n",
    "        columns = chunk.columns\n",
    "    \n",
    "    # Get the unique values in the Year column\n",
    "    unique_years.update(chunk['Year'].unique())\n",
    "\n",
    "# Display the column names\n",
    "print(\"Columns in combined_df:\")\n",
    "print(columns)\n",
    "\n",
    "# Display the unique values in the Year column\n",
    "print(\"Unique values in Year column:\")\n",
    "print(sorted(unique_years))"
   ]
  },
  {
   "cell_type": "code",
   "execution_count": null,
   "metadata": {},
   "outputs": [],
   "source": []
  },
  {
   "cell_type": "code",
   "execution_count": null,
   "metadata": {},
   "outputs": [],
   "source": []
  },
  {
   "cell_type": "code",
   "execution_count": null,
   "metadata": {},
   "outputs": [],
   "source": []
  },
  {
   "cell_type": "code",
   "execution_count": null,
   "metadata": {},
   "outputs": [],
   "source": []
  },
  {
   "cell_type": "code",
   "execution_count": null,
   "metadata": {},
   "outputs": [],
   "source": []
  },
  {
   "cell_type": "code",
   "execution_count": null,
   "metadata": {},
   "outputs": [],
   "source": []
  },
  {
   "cell_type": "code",
   "execution_count": null,
   "metadata": {},
   "outputs": [],
   "source": []
  },
  {
   "cell_type": "code",
   "execution_count": null,
   "metadata": {},
   "outputs": [],
   "source": []
  },
  {
   "cell_type": "code",
   "execution_count": null,
   "metadata": {},
   "outputs": [],
   "source": []
  },
  {
   "cell_type": "code",
   "execution_count": null,
   "metadata": {},
   "outputs": [],
   "source": []
  },
  {
   "cell_type": "code",
   "execution_count": null,
   "metadata": {},
   "outputs": [],
   "source": []
  },
  {
   "cell_type": "code",
   "execution_count": 21,
   "metadata": {},
   "outputs": [
    {
     "data": {
      "text/html": [
       "<div>\n",
       "<style scoped>\n",
       "    .dataframe tbody tr th:only-of-type {\n",
       "        vertical-align: middle;\n",
       "    }\n",
       "\n",
       "    .dataframe tbody tr th {\n",
       "        vertical-align: top;\n",
       "    }\n",
       "\n",
       "    .dataframe thead th {\n",
       "        text-align: right;\n",
       "    }\n",
       "</style>\n",
       "<table border=\"1\" class=\"dataframe\">\n",
       "  <thead>\n",
       "    <tr style=\"text-align: right;\">\n",
       "      <th></th>\n",
       "      <th>TRDTYPE</th>\n",
       "      <th>USASTATE</th>\n",
       "      <th>DEPE</th>\n",
       "      <th>DISAGMOT</th>\n",
       "      <th>MEXSTATE</th>\n",
       "      <th>CANPROV</th>\n",
       "      <th>COUNTRY</th>\n",
       "      <th>VALUE</th>\n",
       "      <th>SHIPWT</th>\n",
       "      <th>FREIGHT_CHARGES</th>\n",
       "      <th>DF</th>\n",
       "      <th>CONTCODE</th>\n",
       "      <th>MONTH</th>\n",
       "      <th>YEAR</th>\n",
       "      <th>COMMODITY2</th>\n",
       "    </tr>\n",
       "  </thead>\n",
       "  <tbody>\n",
       "    <tr>\n",
       "      <th>0</th>\n",
       "      <td>1</td>\n",
       "      <td>AK</td>\n",
       "      <td>0712</td>\n",
       "      <td>5</td>\n",
       "      <td>NaN</td>\n",
       "      <td>XQ</td>\n",
       "      <td>1220</td>\n",
       "      <td>12182</td>\n",
       "      <td>0</td>\n",
       "      <td>461</td>\n",
       "      <td>1.0</td>\n",
       "      <td>X</td>\n",
       "      <td>7</td>\n",
       "      <td>2020</td>\n",
       "      <td>NaN</td>\n",
       "    </tr>\n",
       "    <tr>\n",
       "      <th>1</th>\n",
       "      <td>1</td>\n",
       "      <td>AK</td>\n",
       "      <td>20XX</td>\n",
       "      <td>3</td>\n",
       "      <td>NaN</td>\n",
       "      <td>XA</td>\n",
       "      <td>1220</td>\n",
       "      <td>29921</td>\n",
       "      <td>1209</td>\n",
       "      <td>202</td>\n",
       "      <td>1.0</td>\n",
       "      <td>X</td>\n",
       "      <td>7</td>\n",
       "      <td>2020</td>\n",
       "      <td>NaN</td>\n",
       "    </tr>\n",
       "    <tr>\n",
       "      <th>2</th>\n",
       "      <td>1</td>\n",
       "      <td>AK</td>\n",
       "      <td>20XX</td>\n",
       "      <td>3</td>\n",
       "      <td>NaN</td>\n",
       "      <td>XA</td>\n",
       "      <td>1220</td>\n",
       "      <td>2590</td>\n",
       "      <td>16</td>\n",
       "      <td>74</td>\n",
       "      <td>2.0</td>\n",
       "      <td>X</td>\n",
       "      <td>7</td>\n",
       "      <td>2020</td>\n",
       "      <td>NaN</td>\n",
       "    </tr>\n",
       "    <tr>\n",
       "      <th>3</th>\n",
       "      <td>1</td>\n",
       "      <td>AK</td>\n",
       "      <td>20XX</td>\n",
       "      <td>3</td>\n",
       "      <td>NaN</td>\n",
       "      <td>XC</td>\n",
       "      <td>1220</td>\n",
       "      <td>58967</td>\n",
       "      <td>7843</td>\n",
       "      <td>857</td>\n",
       "      <td>1.0</td>\n",
       "      <td>X</td>\n",
       "      <td>7</td>\n",
       "      <td>2020</td>\n",
       "      <td>NaN</td>\n",
       "    </tr>\n",
       "    <tr>\n",
       "      <th>4</th>\n",
       "      <td>1</td>\n",
       "      <td>AK</td>\n",
       "      <td>20XX</td>\n",
       "      <td>3</td>\n",
       "      <td>NaN</td>\n",
       "      <td>XC</td>\n",
       "      <td>1220</td>\n",
       "      <td>7201</td>\n",
       "      <td>1</td>\n",
       "      <td>133</td>\n",
       "      <td>2.0</td>\n",
       "      <td>X</td>\n",
       "      <td>7</td>\n",
       "      <td>2020</td>\n",
       "      <td>NaN</td>\n",
       "    </tr>\n",
       "    <tr>\n",
       "      <th>5</th>\n",
       "      <td>1</td>\n",
       "      <td>AK</td>\n",
       "      <td>20XX</td>\n",
       "      <td>3</td>\n",
       "      <td>NaN</td>\n",
       "      <td>XO</td>\n",
       "      <td>1220</td>\n",
       "      <td>76586</td>\n",
       "      <td>846</td>\n",
       "      <td>819</td>\n",
       "      <td>1.0</td>\n",
       "      <td>X</td>\n",
       "      <td>7</td>\n",
       "      <td>2020</td>\n",
       "      <td>NaN</td>\n",
       "    </tr>\n",
       "    <tr>\n",
       "      <th>6</th>\n",
       "      <td>1</td>\n",
       "      <td>AK</td>\n",
       "      <td>20XX</td>\n",
       "      <td>3</td>\n",
       "      <td>NaN</td>\n",
       "      <td>XO</td>\n",
       "      <td>1220</td>\n",
       "      <td>6967</td>\n",
       "      <td>18</td>\n",
       "      <td>136</td>\n",
       "      <td>2.0</td>\n",
       "      <td>X</td>\n",
       "      <td>7</td>\n",
       "      <td>2020</td>\n",
       "      <td>NaN</td>\n",
       "    </tr>\n",
       "    <tr>\n",
       "      <th>7</th>\n",
       "      <td>1</td>\n",
       "      <td>AK</td>\n",
       "      <td>20XX</td>\n",
       "      <td>3</td>\n",
       "      <td>NaN</td>\n",
       "      <td>XQ</td>\n",
       "      <td>1220</td>\n",
       "      <td>35010</td>\n",
       "      <td>2934</td>\n",
       "      <td>2482</td>\n",
       "      <td>1.0</td>\n",
       "      <td>X</td>\n",
       "      <td>7</td>\n",
       "      <td>2020</td>\n",
       "      <td>NaN</td>\n",
       "    </tr>\n",
       "    <tr>\n",
       "      <th>8</th>\n",
       "      <td>1</td>\n",
       "      <td>AK</td>\n",
       "      <td>2301</td>\n",
       "      <td>5</td>\n",
       "      <td>TB</td>\n",
       "      <td>NaN</td>\n",
       "      <td>2010</td>\n",
       "      <td>43200</td>\n",
       "      <td>0</td>\n",
       "      <td>0</td>\n",
       "      <td>1.0</td>\n",
       "      <td>0</td>\n",
       "      <td>7</td>\n",
       "      <td>2020</td>\n",
       "      <td>NaN</td>\n",
       "    </tr>\n",
       "    <tr>\n",
       "      <th>9</th>\n",
       "      <td>1</td>\n",
       "      <td>AK</td>\n",
       "      <td>2303</td>\n",
       "      <td>5</td>\n",
       "      <td>CO</td>\n",
       "      <td>NaN</td>\n",
       "      <td>2010</td>\n",
       "      <td>7065</td>\n",
       "      <td>0</td>\n",
       "      <td>0</td>\n",
       "      <td>1.0</td>\n",
       "      <td>0</td>\n",
       "      <td>7</td>\n",
       "      <td>2020</td>\n",
       "      <td>NaN</td>\n",
       "    </tr>\n",
       "  </tbody>\n",
       "</table>\n",
       "</div>"
      ],
      "text/plain": [
       "   TRDTYPE USASTATE  DEPE  DISAGMOT MEXSTATE CANPROV  COUNTRY  VALUE  SHIPWT  \\\n",
       "0        1       AK  0712         5      NaN      XQ     1220  12182       0   \n",
       "1        1       AK  20XX         3      NaN      XA     1220  29921    1209   \n",
       "2        1       AK  20XX         3      NaN      XA     1220   2590      16   \n",
       "3        1       AK  20XX         3      NaN      XC     1220  58967    7843   \n",
       "4        1       AK  20XX         3      NaN      XC     1220   7201       1   \n",
       "5        1       AK  20XX         3      NaN      XO     1220  76586     846   \n",
       "6        1       AK  20XX         3      NaN      XO     1220   6967      18   \n",
       "7        1       AK  20XX         3      NaN      XQ     1220  35010    2934   \n",
       "8        1       AK  2301         5       TB     NaN     2010  43200       0   \n",
       "9        1       AK  2303         5       CO     NaN     2010   7065       0   \n",
       "\n",
       "   FREIGHT_CHARGES   DF CONTCODE  MONTH  YEAR  COMMODITY2  \n",
       "0              461  1.0        X      7  2020         NaN  \n",
       "1              202  1.0        X      7  2020         NaN  \n",
       "2               74  2.0        X      7  2020         NaN  \n",
       "3              857  1.0        X      7  2020         NaN  \n",
       "4              133  2.0        X      7  2020         NaN  \n",
       "5              819  1.0        X      7  2020         NaN  \n",
       "6              136  2.0        X      7  2020         NaN  \n",
       "7             2482  1.0        X      7  2020         NaN  \n",
       "8                0  1.0        0      7  2020         NaN  \n",
       "9                0  1.0        0      7  2020         NaN  "
      ]
     },
     "execution_count": 21,
     "metadata": {},
     "output_type": "execute_result"
    }
   ],
   "source": [
    "\n",
    "# Check the updated DataFrame\n",
    "combined_df.head(10)\n"
   ]
  },
  {
   "cell_type": "code",
   "execution_count": 24,
   "metadata": {},
   "outputs": [
    {
     "name": "stdout",
     "output_type": "stream",
     "text": [
      "<class 'pandas.core.frame.DataFrame'>\n",
      "RangeIndex: 2051251 entries, 0 to 2051250\n",
      "Data columns (total 15 columns):\n",
      " #   Column           Dtype  \n",
      "---  ------           -----  \n",
      " 0   TRDTYPE          int64  \n",
      " 1   USASTATE         object \n",
      " 2   DEPE             object \n",
      " 3   DISAGMOT         int64  \n",
      " 4   MEXSTATE         object \n",
      " 5   CANPROV          object \n",
      " 6   COUNTRY          int64  \n",
      " 7   VALUE            int64  \n",
      " 8   SHIPWT           int64  \n",
      " 9   FREIGHT_CHARGES  int64  \n",
      " 10  DF               float64\n",
      " 11  CONTCODE         object \n",
      " 12  MONTH            int64  \n",
      " 13  YEAR             int64  \n",
      " 14  COMMODITY2       float64\n",
      "dtypes: float64(2), int64(8), object(5)\n",
      "memory usage: 234.7+ MB\n"
     ]
    }
   ],
   "source": [
    "combined_df.info()"
   ]
  },
  {
   "cell_type": "code",
   "execution_count": 25,
   "metadata": {},
   "outputs": [
    {
     "data": {
      "text/plain": [
       "TRDTYPE                  0\n",
       "USASTATE            297709\n",
       "DEPE               1283008\n",
       "DISAGMOT                 0\n",
       "MEXSTATE           1485680\n",
       "CANPROV             977810\n",
       "COUNTRY                  0\n",
       "VALUE                    0\n",
       "SHIPWT                   0\n",
       "FREIGHT_CHARGES          0\n",
       "DF                  693632\n",
       "CONTCODE                 0\n",
       "MONTH                    0\n",
       "YEAR                     0\n",
       "COMMODITY2          470534\n",
       "dtype: int64"
      ]
     },
     "execution_count": 25,
     "metadata": {},
     "output_type": "execute_result"
    }
   ],
   "source": [
    "# Check for null values in each column\n",
    "combined_df.isnull().sum()\n"
   ]
  },
  {
   "cell_type": "markdown",
   "metadata": {},
   "source": [
    "#### change fo some dtypes\n",
    "COMMODITY2 from float to int\n",
    "\n",
    "Container Code (CONTCODE) Code Containerized? \n",
    "X Containerized \n",
    "0 Non-Containerized \n",
    " \n",
    "  DF from float to int\n",
    "\n",
    "  Country Code (COUNTRY) \n",
    "Code Country \n",
    "1220 Canada \n",
    "2010 Mexico \n",
    " \n",
    "Domestic/Foreign Code (DF)   float to object \n",
    "Distinguishes whether the merchandise was produced in the U.S. \n",
    "Code \n",
    "1 domestically produced merchandise \n",
    "2 foreign produced merchandise  \n",
    "\n",
    "\n",
    "Mode of Transportation Code (DISAGMOT)  int to object \n",
    "Code Description \n",
    "1 Vessel \n",
    "3 Air \n",
    "4 Mail (U.S. Postal Service) \n",
    "5 Truck \n",
    "6 Rail \n",
    "7 Pipeline \n",
    "8 Other \n",
    "9 Foreign Trade Zones (FTZs) \n",
    "\n",
    "\n",
    "Month (MONTH)    int to object\n",
    "Month \n",
    "Code Month \n",
    "  1 January \n",
    "  2 February \n",
    "  3 March \n",
    "  4 April \n",
    "  5 May \n",
    "  6 June \n",
    "  7 July \n",
    "  8 August \n",
    "  9 September \n",
    "10 October \n",
    "11 November \n",
    "12 December\n",
    "\n",
    "\n",
    "\n",
    "Trade Type Code (TRDTYPE)     int to obj\n",
    "Code Trade Type \n",
    "1 Export \n",
    "2 Import  vvvvvvvvv\n",
    "\n",
    "\n",
    "\n",
    "Value (VALUE) \n",
    "Value of Goods in United States Dollars \n",
    " \n",
    "Year (YEAR)  int to datetime\n",
    "\n",
    "\n",
    "Freight Charges (FREIGHT_CHARGES)   no need\n",
    "Freight Charges in U.S. Dollars\n",
    "\n",
    "\n",
    "MONTH  int to date time "
   ]
  },
  {
   "cell_type": "code",
   "execution_count": 26,
   "metadata": {},
   "outputs": [
    {
     "data": {
      "text/html": [
       "<div>\n",
       "<style scoped>\n",
       "    .dataframe tbody tr th:only-of-type {\n",
       "        vertical-align: middle;\n",
       "    }\n",
       "\n",
       "    .dataframe tbody tr th {\n",
       "        vertical-align: top;\n",
       "    }\n",
       "\n",
       "    .dataframe thead th {\n",
       "        text-align: right;\n",
       "    }\n",
       "</style>\n",
       "<table border=\"1\" class=\"dataframe\">\n",
       "  <thead>\n",
       "    <tr style=\"text-align: right;\">\n",
       "      <th></th>\n",
       "      <th>TRDTYPE</th>\n",
       "      <th>DISAGMOT</th>\n",
       "      <th>COUNTRY</th>\n",
       "      <th>VALUE</th>\n",
       "      <th>SHIPWT</th>\n",
       "      <th>FREIGHT_CHARGES</th>\n",
       "      <th>DF</th>\n",
       "      <th>MONTH</th>\n",
       "      <th>YEAR</th>\n",
       "      <th>COMMODITY2</th>\n",
       "    </tr>\n",
       "  </thead>\n",
       "  <tbody>\n",
       "    <tr>\n",
       "      <th>count</th>\n",
       "      <td>2.051251e+06</td>\n",
       "      <td>2.051251e+06</td>\n",
       "      <td>2.051251e+06</td>\n",
       "      <td>2.051251e+06</td>\n",
       "      <td>2.051251e+06</td>\n",
       "      <td>2.051251e+06</td>\n",
       "      <td>1.357619e+06</td>\n",
       "      <td>2.051251e+06</td>\n",
       "      <td>2.051251e+06</td>\n",
       "      <td>1.580717e+06</td>\n",
       "    </tr>\n",
       "    <tr>\n",
       "      <th>mean</th>\n",
       "      <td>1.338151e+00</td>\n",
       "      <td>4.756261e+00</td>\n",
       "      <td>1.528714e+03</td>\n",
       "      <td>2.390849e+06</td>\n",
       "      <td>1.209763e+06</td>\n",
       "      <td>3.337063e+04</td>\n",
       "      <td>1.325863e+00</td>\n",
       "      <td>5.091202e+00</td>\n",
       "      <td>2.020663e+03</td>\n",
       "      <td>5.652508e+01</td>\n",
       "    </tr>\n",
       "    <tr>\n",
       "      <th>std</th>\n",
       "      <td>4.730802e-01</td>\n",
       "      <td>1.251327e+00</td>\n",
       "      <td>3.854605e+02</td>\n",
       "      <td>3.027425e+07</td>\n",
       "      <td>3.780300e+07</td>\n",
       "      <td>8.343282e+05</td>\n",
       "      <td>4.686966e-01</td>\n",
       "      <td>2.895490e+00</td>\n",
       "      <td>1.426718e+00</td>\n",
       "      <td>2.792732e+01</td>\n",
       "    </tr>\n",
       "    <tr>\n",
       "      <th>min</th>\n",
       "      <td>1.000000e+00</td>\n",
       "      <td>1.000000e+00</td>\n",
       "      <td>1.220000e+03</td>\n",
       "      <td>0.000000e+00</td>\n",
       "      <td>0.000000e+00</td>\n",
       "      <td>0.000000e+00</td>\n",
       "      <td>1.000000e+00</td>\n",
       "      <td>1.000000e+00</td>\n",
       "      <td>2.020000e+03</td>\n",
       "      <td>1.000000e+00</td>\n",
       "    </tr>\n",
       "    <tr>\n",
       "      <th>25%</th>\n",
       "      <td>1.000000e+00</td>\n",
       "      <td>5.000000e+00</td>\n",
       "      <td>1.220000e+03</td>\n",
       "      <td>1.355500e+04</td>\n",
       "      <td>0.000000e+00</td>\n",
       "      <td>0.000000e+00</td>\n",
       "      <td>1.000000e+00</td>\n",
       "      <td>3.000000e+00</td>\n",
       "      <td>2.020000e+03</td>\n",
       "      <td>3.300000e+01</td>\n",
       "    </tr>\n",
       "    <tr>\n",
       "      <th>50%</th>\n",
       "      <td>1.000000e+00</td>\n",
       "      <td>5.000000e+00</td>\n",
       "      <td>1.220000e+03</td>\n",
       "      <td>6.490400e+04</td>\n",
       "      <td>0.000000e+00</td>\n",
       "      <td>2.840000e+02</td>\n",
       "      <td>1.000000e+00</td>\n",
       "      <td>5.000000e+00</td>\n",
       "      <td>2.020000e+03</td>\n",
       "      <td>5.900000e+01</td>\n",
       "    </tr>\n",
       "    <tr>\n",
       "      <th>75%</th>\n",
       "      <td>2.000000e+00</td>\n",
       "      <td>5.000000e+00</td>\n",
       "      <td>2.010000e+03</td>\n",
       "      <td>3.778740e+05</td>\n",
       "      <td>2.624000e+03</td>\n",
       "      <td>2.847000e+03</td>\n",
       "      <td>2.000000e+00</td>\n",
       "      <td>7.000000e+00</td>\n",
       "      <td>2.020000e+03</td>\n",
       "      <td>8.400000e+01</td>\n",
       "    </tr>\n",
       "    <tr>\n",
       "      <th>max</th>\n",
       "      <td>2.000000e+00</td>\n",
       "      <td>9.000000e+00</td>\n",
       "      <td>2.010000e+03</td>\n",
       "      <td>5.595625e+09</td>\n",
       "      <td>8.110661e+09</td>\n",
       "      <td>2.046194e+08</td>\n",
       "      <td>2.000000e+00</td>\n",
       "      <td>1.200000e+01</td>\n",
       "      <td>2.024000e+03</td>\n",
       "      <td>9.900000e+01</td>\n",
       "    </tr>\n",
       "  </tbody>\n",
       "</table>\n",
       "</div>"
      ],
      "text/plain": [
       "            TRDTYPE      DISAGMOT       COUNTRY         VALUE        SHIPWT  \\\n",
       "count  2.051251e+06  2.051251e+06  2.051251e+06  2.051251e+06  2.051251e+06   \n",
       "mean   1.338151e+00  4.756261e+00  1.528714e+03  2.390849e+06  1.209763e+06   \n",
       "std    4.730802e-01  1.251327e+00  3.854605e+02  3.027425e+07  3.780300e+07   \n",
       "min    1.000000e+00  1.000000e+00  1.220000e+03  0.000000e+00  0.000000e+00   \n",
       "25%    1.000000e+00  5.000000e+00  1.220000e+03  1.355500e+04  0.000000e+00   \n",
       "50%    1.000000e+00  5.000000e+00  1.220000e+03  6.490400e+04  0.000000e+00   \n",
       "75%    2.000000e+00  5.000000e+00  2.010000e+03  3.778740e+05  2.624000e+03   \n",
       "max    2.000000e+00  9.000000e+00  2.010000e+03  5.595625e+09  8.110661e+09   \n",
       "\n",
       "       FREIGHT_CHARGES            DF         MONTH          YEAR    COMMODITY2  \n",
       "count     2.051251e+06  1.357619e+06  2.051251e+06  2.051251e+06  1.580717e+06  \n",
       "mean      3.337063e+04  1.325863e+00  5.091202e+00  2.020663e+03  5.652508e+01  \n",
       "std       8.343282e+05  4.686966e-01  2.895490e+00  1.426718e+00  2.792732e+01  \n",
       "min       0.000000e+00  1.000000e+00  1.000000e+00  2.020000e+03  1.000000e+00  \n",
       "25%       0.000000e+00  1.000000e+00  3.000000e+00  2.020000e+03  3.300000e+01  \n",
       "50%       2.840000e+02  1.000000e+00  5.000000e+00  2.020000e+03  5.900000e+01  \n",
       "75%       2.847000e+03  2.000000e+00  7.000000e+00  2.020000e+03  8.400000e+01  \n",
       "max       2.046194e+08  2.000000e+00  1.200000e+01  2.024000e+03  9.900000e+01  "
      ]
     },
     "execution_count": 26,
     "metadata": {},
     "output_type": "execute_result"
    }
   ],
   "source": [
    "combined_df.describe()"
   ]
  },
  {
   "cell_type": "code",
   "execution_count": 28,
   "metadata": {},
   "outputs": [
    {
     "name": "stdout",
     "output_type": "stream",
     "text": [
      "Unique values in column TRDTYPE:\n",
      "['Export' 'Import']\n",
      "\n",
      "\n",
      "Unique values in column USASTATE:\n",
      "['AK' 'AL' 'AR' 'AZ' 'CA' 'CO' 'CT' 'DC' 'DE' 'DU' 'FL' 'GA' 'HI' 'IA'\n",
      " 'ID' 'IL' 'IN' 'KS' 'KY' 'LA' 'MA' 'MD' 'ME' 'MI' 'MN' 'MO' 'MS' 'MT'\n",
      " 'NC' 'ND' 'NE' 'NH' 'NJ' 'NM' 'NV' 'NY' 'OH' 'OK' 'OR' 'PA' 'RI' 'SC'\n",
      " 'SD' 'TN' 'TX' 'UT' 'VA' 'VT' 'WA' 'WI' 'WV' 'WY' nan]\n",
      "\n",
      "\n",
      "Unique values in column DEPE:\n",
      "['0712' '20XX' '2301' '2303' '2304' '2305' '2401' '2506' '2604' '3001'\n",
      " '3004' '3009' '30XX' '3101' '3103' '3104' '3105' '3106' '3111' '3126'\n",
      " '31XX' '3310' '34XX' '3801' '3802' '4101' '41XX' '70XX' '0104' '0106'\n",
      " '0115' '04XX' '0701' '0704' '0708' '07XX' '0901' '09XX' '17XX' '18XX'\n",
      " '19XX' '2006' '2402' '2404' '2503' '2507' '2601' '2603' '2608' '3019'\n",
      " '3023' '3302' '3401' '3403' '3501' '35XX' '3604' '3803' '3804' '38XX'\n",
      " '4102' '4115' '5203' '52XX' '53XX' '55XX' '0209' '2403' '2408' '3003'\n",
      " '33XX' '3613' '0212' '11XX' '15XX' '2307' '2310' '24XX' '2501' '2602'\n",
      " '2605' '2606' '2609' '26XX' '2720' '2801' '3301' '3318' '3322' '3422'\n",
      " '3424' '0101' '0109' '01XX' '02XX' '0417' '0715' '1012' '10XX' '2302'\n",
      " '2504' '2505' '25XX' '2704' '27XX' '28XX' '29XX' '3002' '3005' '3006'\n",
      " '3010' '3013' '3015' '3017' '3020' '3102' '3304' '3305' '3309' '3316'\n",
      " '3425' '3809' '3814' '3819' '3901' '39XX' '4103' '4105' '4110' '49XX'\n",
      " '5201' '5501' '80XX' '0203' '3307' '4104' '5301' '0110' '0211' '1003'\n",
      " '13XX' '1704' '2406' '0118' '3025' '0714' '16XX' '32XX' '3323' '3408'\n",
      " '3413' '0127' '3016' '3306' '3308' '0108' '3007' '3321' '3407' '3410'\n",
      " '36XX' '3701' '3808' '3404' '3423' '37XX' '3012' '45XX' '0107' '3406'\n",
      " '14XX' '0105' '0201' '0206' '2007' '0706' '0904' '54XX' '0102' '0103'\n",
      " '2309' '3882' '0121' '0903' '3008' '3430' '1502' '21XX' '3409' '3414'\n",
      " '3415' '3416' '3417' '3420' '2383' '3303' '3018' '3805' '05XX' '23XX'\n",
      " '3421' '51XX' '3026' '0905' '3014' '3029' '3115' '3807' '3411' '3426'\n",
      " '0207' '3022' '4504' '1303' '3433' '60XX' '1902' '0906' '0131' '3806'\n",
      " '3419' '0182' '1603' '3384' '0112' '3842' '3317' '3405' '3325' '3818'\n",
      " '3427' '3324' '2502' '3816' '3815' '3011' '59XX' '2407' '3843' '3434'\n",
      " '2481' '3082' nan '3385' '0111']\n",
      "\n",
      "\n",
      "Unique values in column DISAGMOT:\n",
      "[5 3 1 6 8 7 4 9]\n",
      "\n",
      "\n",
      "Unique values in column MEXSTATE:\n",
      "[nan 'TB' 'CO' 'CM' 'DF' 'GT' 'JA' 'MX' 'NL' 'PU' 'QT' 'SL' 'TL' 'BC' 'SI'\n",
      " 'XX' 'OT' 'ZA' 'TM' 'DG' 'HG' 'AG' 'CH' 'MI' 'MO' 'VE' 'QR' 'SO' 'BS'\n",
      " 'CL' 'YU' 'GR' 'CS' 'OA']\n",
      "\n",
      "\n",
      "Unique values in column CANPROV:\n",
      "['XQ' 'XA' 'XC' 'XO' nan 'XY' 'XB' 'XM' 'XS' 'XN' 'XP' 'XW' 'OT' 'XT' 'XV']\n",
      "\n",
      "\n",
      "Unique values in column COUNTRY:\n",
      "[1220 2010]\n",
      "\n",
      "\n",
      "Unique values in column VALUE:\n",
      "[  12182   29921    2590 ... 5148154 1168062 4384342]\n",
      "\n",
      "\n",
      "Unique values in column SHIPWT:\n",
      "[      0    1209      16 ...   15907 1823041 9137618]\n",
      "\n",
      "\n",
      "Unique values in column FREIGHT_CHARGES:\n",
      "[   461    202     74 ... 127050  36155 391893]\n",
      "\n",
      "\n",
      "Unique values in column DF:\n",
      "[ 1.  2. nan]\n",
      "\n",
      "\n",
      "Unique values in column CONTCODE:\n",
      "['Containerized' 'Non-Containerized' '1']\n",
      "\n",
      "\n",
      "Unique values in column MONTH:\n",
      "[ 7  1  2  3  4  5  6 12  8  9]\n",
      "\n",
      "\n",
      "Unique values in column YEAR:\n",
      "[2020 2023 2024]\n",
      "\n",
      "\n",
      "Unique values in column COMMODITY2:\n",
      "['nan' '2.0' '3.0' '11.0' '15.0' '19.0' '23.0' '25.0' '26.0' '27.0' '31.0'\n",
      " '34.0' '38.0' '39.0' '40.0' '42.0' '44.0' '59.0' '61.0' '63.0' '70.0'\n",
      " '72.0' '82.0' '83.0' '84.0' '85.0' '87.0' '88.0' '89.0' '90.0' '94.0'\n",
      " '96.0' '98.0' '1.0' '4.0' '5.0' '6.0' '7.0' '9.0' '12.0' '16.0' '17.0'\n",
      " '18.0' '20.0' '21.0' '28.0' '29.0' '30.0' '32.0' '33.0' '35.0' '47.0'\n",
      " '48.0' '49.0' '52.0' '54.0' '55.0' '56.0' '57.0' '58.0' '60.0' '62.0'\n",
      " '64.0' '65.0' '67.0' '68.0' '69.0' '71.0' '73.0' '74.0' '75.0' '76.0'\n",
      " '78.0' '81.0' '86.0' '91.0' '92.0' '95.0' '8.0' '10.0' '22.0' '36.0'\n",
      " '41.0' '45.0' '51.0' '79.0' '93.0' '97.0' '13.0' '14.0' '37.0' '46.0'\n",
      " '53.0' '80.0' '24.0' '43.0' '50.0' '66.0' '99.0']\n",
      "\n",
      "\n"
     ]
    }
   ],
   "source": [
    "# Check unique values for each column\n",
    "for column in combined_df.columns:\n",
    "    unique_values = combined_df[column].unique()\n",
    "    print(f\"Unique values in column {column}:\")\n",
    "    print(unique_values)\n",
    "    print(\"\\n\")"
   ]
  },
  {
   "cell_type": "code",
   "execution_count": null,
   "metadata": {},
   "outputs": [],
   "source": []
  },
  {
   "cell_type": "code",
   "execution_count": null,
   "metadata": {},
   "outputs": [],
   "source": []
  },
  {
   "cell_type": "code",
   "execution_count": 30,
   "metadata": {},
   "outputs": [
    {
     "name": "stdout",
     "output_type": "stream",
     "text": [
      "Unique values in column TRDTYPE:\n",
      "['Export' 'Import']\n",
      "\n",
      "\n",
      "Unique values in column USASTATE:\n",
      "['AK' 'AL' 'AR' 'AZ' 'CA' 'CO' 'CT' 'DC' 'DE' 'DU' 'FL' 'GA' 'HI' 'IA'\n",
      " 'ID' 'IL' 'IN' 'KS' 'KY' 'LA' 'MA' 'MD' 'ME' 'MI' 'MN' 'MO' 'MS' 'MT'\n",
      " 'NC' 'ND' 'NE' 'NH' 'NJ' 'NM' 'NV' 'NY' 'OH' 'OK' 'OR' 'PA' 'RI' 'SC'\n",
      " 'SD' 'TN' 'TX' 'UT' 'VA' 'VT' 'WA' 'WI' 'WV' 'WY' nan]\n",
      "\n",
      "\n",
      "Unique values in column DEPE:\n",
      "['0712' '20XX' '2301' '2303' '2304' '2305' '2401' '2506' '2604' '3001'\n",
      " '3004' '3009' '30XX' '3101' '3103' '3104' '3105' '3106' '3111' '3126'\n",
      " '31XX' '3310' '34XX' '3801' '3802' '4101' '41XX' '70XX' '0104' '0106'\n",
      " '0115' '04XX' '0701' '0704' '0708' '07XX' '0901' '09XX' '17XX' '18XX'\n",
      " '19XX' '2006' '2402' '2404' '2503' '2507' '2601' '2603' '2608' '3019'\n",
      " '3023' '3302' '3401' '3403' '3501' '35XX' '3604' '3803' '3804' '38XX'\n",
      " '4102' '4115' '5203' '52XX' '53XX' '55XX' '0209' '2403' '2408' '3003'\n",
      " '33XX' '3613' '0212' '11XX' '15XX' '2307' '2310' '24XX' '2501' '2602'\n",
      " '2605' '2606' '2609' '26XX' '2720' '2801' '3301' '3318' '3322' '3422'\n",
      " '3424' '0101' '0109' '01XX' '02XX' '0417' '0715' '1012' '10XX' '2302'\n",
      " '2504' '2505' '25XX' '2704' '27XX' '28XX' '29XX' '3002' '3005' '3006'\n",
      " '3010' '3013' '3015' '3017' '3020' '3102' '3304' '3305' '3309' '3316'\n",
      " '3425' '3809' '3814' '3819' '3901' '39XX' '4103' '4105' '4110' '49XX'\n",
      " '5201' '5501' '80XX' '0203' '3307' '4104' '5301' '0110' '0211' '1003'\n",
      " '13XX' '1704' '2406' '0118' '3025' '0714' '16XX' '32XX' '3323' '3408'\n",
      " '3413' '0127' '3016' '3306' '3308' '0108' '3007' '3321' '3407' '3410'\n",
      " '36XX' '3701' '3808' '3404' '3423' '37XX' '3012' '45XX' '0107' '3406'\n",
      " '14XX' '0105' '0201' '0206' '2007' '0706' '0904' '54XX' '0102' '0103'\n",
      " '2309' '3882' '0121' '0903' '3008' '3430' '1502' '21XX' '3409' '3414'\n",
      " '3415' '3416' '3417' '3420' '2383' '3303' '3018' '3805' '05XX' '23XX'\n",
      " '3421' '51XX' '3026' '0905' '3014' '3029' '3115' '3807' '3411' '3426'\n",
      " '0207' '3022' '4504' '1303' '3433' '60XX' '1902' '0906' '0131' '3806'\n",
      " '3419' '0182' '1603' '3384' '0112' '3842' '3317' '3405' '3325' '3818'\n",
      " '3427' '3324' '2502' '3816' '3815' '3011' '59XX' '2407' '3843' '3434'\n",
      " '2481' '3082' nan '3385' '0111']\n",
      "\n",
      "\n",
      "Unique values in column DISAGMOT:\n",
      "[5 3 1 6 8 7 4 9]\n",
      "\n",
      "\n",
      "Unique values in column MEXSTATE:\n",
      "[nan 'TB' 'CO' 'CM' 'DF' 'GT' 'JA' 'MX' 'NL' 'PU' 'QT' 'SL' 'TL' 'BC' 'SI'\n",
      " 'XX' 'OT' 'ZA' 'TM' 'DG' 'HG' 'AG' 'CH' 'MI' 'MO' 'VE' 'QR' 'SO' 'BS'\n",
      " 'CL' 'YU' 'GR' 'CS' 'OA']\n",
      "\n",
      "\n",
      "Unique values in column CANPROV:\n",
      "['XQ' 'XA' 'XC' 'XO' nan 'XY' 'XB' 'XM' 'XS' 'XN' 'XP' 'XW' 'OT' 'XT' 'XV']\n",
      "\n",
      "\n",
      "Unique values in column COUNTRY:\n",
      "[1220 2010]\n",
      "\n",
      "\n",
      "Unique values in column VALUE:\n",
      "[  12182   29921    2590 ... 5148154 1168062 4384342]\n",
      "\n",
      "\n",
      "Unique values in column SHIPWT:\n",
      "[      0    1209      16 ...   15907 1823041 9137618]\n",
      "\n",
      "\n",
      "Unique values in column FREIGHT_CHARGES:\n",
      "[   461    202     74 ... 127050  36155 391893]\n",
      "\n",
      "\n",
      "Unique values in column DF:\n",
      "[ 1.  2. nan]\n",
      "\n",
      "\n",
      "Unique values in column CONTCODE:\n",
      "['Containerized' 'Non-Containerized' '1']\n",
      "\n",
      "\n",
      "Unique values in column MONTH:\n",
      "[ 7  1  2  3  4  5  6 12  8  9]\n",
      "\n",
      "\n",
      "Unique values in column YEAR:\n",
      "[2020 2023 2024]\n",
      "\n",
      "\n",
      "Unique values in column COMMODITY2:\n",
      "['nan' '2.0' '3.0' '11.0' '15.0' '19.0' '23.0' '25.0' '26.0' '27.0' '31.0'\n",
      " '34.0' '38.0' '39.0' '40.0' '42.0' '44.0' '59.0' '61.0' '63.0' '70.0'\n",
      " '72.0' '82.0' '83.0' '84.0' '85.0' '87.0' '88.0' '89.0' '90.0' '94.0'\n",
      " '96.0' '98.0' '1.0' '4.0' '5.0' '6.0' '7.0' '9.0' '12.0' '16.0' '17.0'\n",
      " '18.0' '20.0' '21.0' '28.0' '29.0' '30.0' '32.0' '33.0' '35.0' '47.0'\n",
      " '48.0' '49.0' '52.0' '54.0' '55.0' '56.0' '57.0' '58.0' '60.0' '62.0'\n",
      " '64.0' '65.0' '67.0' '68.0' '69.0' '71.0' '73.0' '74.0' '75.0' '76.0'\n",
      " '78.0' '81.0' '86.0' '91.0' '92.0' '95.0' '8.0' '10.0' '22.0' '36.0'\n",
      " '41.0' '45.0' '51.0' '79.0' '93.0' '97.0' '13.0' '14.0' '37.0' '46.0'\n",
      " '53.0' '80.0' '24.0' '43.0' '50.0' '66.0' '99.0']\n",
      "\n",
      "\n"
     ]
    }
   ],
   "source": [
    "# Check unique values for each column\n",
    "for column in combined_df.columns:\n",
    "    unique_values = combined_df[column].unique()\n",
    "    print(f\"Unique values in column {column}:\")\n",
    "    print(unique_values)\n",
    "    print(\"\\n\")"
   ]
  },
  {
   "cell_type": "code",
   "execution_count": 31,
   "metadata": {},
   "outputs": [
    {
     "name": "stdout",
     "output_type": "stream",
     "text": [
      "<class 'pandas.core.frame.DataFrame'>\n",
      "RangeIndex: 2051251 entries, 0 to 2051250\n",
      "Data columns (total 15 columns):\n",
      " #   Column           Dtype         \n",
      "---  ------           -----         \n",
      " 0   TRDTYPE          object        \n",
      " 1   USASTATE         object        \n",
      " 2   DEPE             object        \n",
      " 3   DISAGMOT         object        \n",
      " 4   MEXSTATE         object        \n",
      " 5   CANPROV          object        \n",
      " 6   COUNTRY          object        \n",
      " 7   VALUE            int64         \n",
      " 8   SHIPWT           int64         \n",
      " 9   FREIGHT_CHARGES  int64         \n",
      " 10  DF               object        \n",
      " 11  CONTCODE         object        \n",
      " 12  MONTH            object        \n",
      " 13  YEAR             datetime64[ns]\n",
      " 14  COMMODITY2       int64         \n",
      "dtypes: datetime64[ns](1), int64(4), object(10)\n",
      "memory usage: 234.7+ MB\n"
     ]
    }
   ],
   "source": [
    "# Change the dtype of TRDTYPE from int to string and replace values\n",
    "combined_df['TRDTYPE'] = combined_df['TRDTYPE'].astype(str).replace({'1': 'Export', '2': 'Import'})\n",
    "\n",
    "# Change COMMODITY2 from float to int, handle non-numeric values\n",
    "combined_df['COMMODITY2'] = pd.to_numeric(combined_df['COMMODITY2'], errors='coerce').fillna(0).astype(int)\n",
    "\n",
    "# Replace values in CONTCODE\n",
    "combined_df['CONTCODE'] = combined_df['CONTCODE'].replace({'X': 'Containerized', '0': 'Non-Containerized'})\n",
    "\n",
    "# Handle NaN values in DF, change DF from float to int and then to string, replace values\n",
    "combined_df['DF'] = combined_df['DF'].fillna(0).astype(int).astype(str).replace({'1': 'domestic merchandise', '2': 'foreign merchandise'})\n",
    "\n",
    "# Replace values in COUNTRY\n",
    "combined_df['COUNTRY'] = combined_df['COUNTRY'].replace({1220: 'Canada', 2010: 'Mexico'})\n",
    "\n",
    "# Change DISAGMOT from int to string and replace values\n",
    "combined_df['DISAGMOT'] = combined_df['DISAGMOT'].astype(str).replace({\n",
    "    '1': 'Vessel', '3': 'Air', '4': 'Mail (U.S. Postal Service)', '5': 'Truck',\n",
    "    '6': 'Rail', '7': 'Pipeline', '8': 'Other', '9': 'Foreign Trade Zones (FTZs)'\n",
    "})\n",
    "\n",
    "# Change MONTH from int to string and replace values\n",
    "combined_df['MONTH'] = combined_df['MONTH'].astype(str).replace({\n",
    "    '1': 'January', '2': 'February', '3': 'March', '4': 'April', '5': 'May', '6': 'June',\n",
    "    '7': 'July', '8': 'August', '9': 'September', '10': 'October', '11': 'November', '12': 'December'\n",
    "})\n",
    "\n",
    "# Change YEAR from int to datetime\n",
    "combined_df['YEAR'] = pd.to_datetime(combined_df['YEAR'], format='%Y')\n",
    "\n",
    "# Verify the changes\n",
    "combined_df.info()"
   ]
  },
  {
   "cell_type": "code",
   "execution_count": 32,
   "metadata": {},
   "outputs": [
    {
     "name": "stdout",
     "output_type": "stream",
     "text": [
      "Unique values in YEAR column:\n",
      "<DatetimeArray>\n",
      "['2020-01-01 00:00:00', '2023-01-01 00:00:00', '2024-01-01 00:00:00']\n",
      "Length: 3, dtype: datetime64[ns]\n"
     ]
    }
   ],
   "source": [
    "# Check unique values in the YEAR column\n",
    "print(\"Unique values in YEAR column:\")\n",
    "print(combined_df['YEAR'].unique())"
   ]
  },
  {
   "cell_type": "code",
   "execution_count": null,
   "metadata": {},
   "outputs": [],
   "source": []
  },
  {
   "cell_type": "code",
   "execution_count": 33,
   "metadata": {},
   "outputs": [
    {
     "name": "stdout",
     "output_type": "stream",
     "text": [
      "Contents of data:\n",
      "Year folder: 2020\n",
      "  April2020TransBorderRawData.zip\n",
      "  August2020TransBorderRawData.zip\n",
      "  February2020TransBorderRawData.zip\n",
      "  January2020TransBorderRawData.zip\n",
      "  July2020TransBorderRawData.zip\n",
      "  June2020TransBorderRawData.zip\n",
      "  March2020TransBorderRawData.zip\n",
      "  May2020TransBorderRawData.zip\n",
      "  September2020TransBorderRawData.zip\n",
      "Year folder: 2021\n",
      "  April2021TransBorderRawData.zip\n",
      "  February2021TransBorderRawData.zip\n",
      "  January2021TransBorderRawData.zip\n",
      "  July-to-Dec-2021.zip\n",
      "  July2021TransBorderRawData.zip\n",
      "  June2021TransBorderRawData.zip\n",
      "  March2021TransBorderRawData.zip\n",
      "  May2021TransBorderRawData.zip\n",
      "Year folder: 2022\n",
      "  April2022.zip\n",
      "  August2022.zip\n",
      "  December2022.zip\n",
      "  Feb-2022.zip\n",
      "  Jan-2022.zip\n",
      "  July2022.zip\n",
      "  June2022.zip\n",
      "  March-2022.zip\n",
      "  May2022.zip\n",
      "  November2022.zip\n",
      "  October2022.zip\n",
      "  September2022.zip\n",
      "Year folder: 2023\n",
      "  April2023.zip\n",
      "  Aug2023.zip\n",
      "  December2023.zip\n",
      "  Feb2023.zip\n",
      "  Jan2023.zip\n",
      "  July2023.zip\n",
      "  June2023.zip\n",
      "  March2023.zip\n",
      "  May2023.zip\n",
      "  Nov2023.zip\n",
      "  Oct2023.zip\n",
      "  sept2023.zip\n",
      "Year folder: 2024\n",
      "  April2024.zip\n",
      "  August2024.zip\n",
      "  Feb2024.zip\n",
      "  Jan2024.zip\n",
      "  July2024.zip\n",
      "  June2024.zip\n",
      "  March2024.zip\n",
      "  May2024.zip\n",
      "  september2024.zip\n"
     ]
    }
   ],
   "source": [
    "import os\n",
    "\n",
    "main_dir = \"data\"  # Main directory containing year folders\n",
    "\n",
    "# List the contents of the main directory\n",
    "print(f\"Contents of {main_dir}:\")\n",
    "for year in os.listdir(main_dir):\n",
    "    year_path = os.path.join(main_dir, year)\n",
    "    if os.path.isdir(year_path):\n",
    "        print(f\"Year folder: {year}\")\n",
    "        # List the contents of each year folder\n",
    "        for month_zip in os.listdir(year_path):\n",
    "            print(f\"  {month_zip}\")"
   ]
  },
  {
   "cell_type": "code",
   "execution_count": null,
   "metadata": {},
   "outputs": [],
   "source": []
  }
 ],
 "metadata": {
  "kernelspec": {
   "display_name": "transBF",
   "language": "python",
   "name": "python3"
  },
  "language_info": {
   "codemirror_mode": {
    "name": "ipython",
    "version": 3
   },
   "file_extension": ".py",
   "mimetype": "text/x-python",
   "name": "python",
   "nbconvert_exporter": "python",
   "pygments_lexer": "ipython3",
   "version": "3.10.11"
  }
 },
 "nbformat": 4,
 "nbformat_minor": 2
}
